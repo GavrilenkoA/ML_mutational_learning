{
 "metadata": {
  "kernelspec": {
   "language": "python",
   "display_name": "Python 3",
   "name": "python3"
  },
  "language_info": {
   "name": "python",
   "version": "3.7.12",
   "mimetype": "text/x-python",
   "codemirror_mode": {
    "name": "ipython",
    "version": 3
   },
   "pygments_lexer": "ipython3",
   "nbconvert_exporter": "python",
   "file_extension": ".py"
  }
 },
 "nbformat_minor": 4,
 "nbformat": 4,
 "cells": [
  {
   "cell_type": "code",
   "execution_count": 1,
   "outputs": [],
   "source": [
    "import torch.nn as nn\n",
    "from torch.utils.data import DataLoader\n",
    "import pandas as pd\n",
    "import random\n",
    "import os\n",
    "import numpy as np\n",
    "import torch\n",
    "import sys"
   ],
   "metadata": {
    "collapsed": false,
    "ExecuteTime": {
     "end_time": "2023-06-02T16:39:48.402299057Z",
     "start_time": "2023-06-02T16:39:45.578993907Z"
    }
   }
  },
  {
   "cell_type": "code",
   "execution_count": 2,
   "outputs": [],
   "source": [
    "sys.path.append('../utils')"
   ],
   "metadata": {
    "collapsed": false,
    "ExecuteTime": {
     "end_time": "2023-06-02T16:39:51.146927206Z",
     "start_time": "2023-06-02T16:39:51.143689875Z"
    }
   }
  },
  {
   "cell_type": "code",
   "execution_count": 3,
   "outputs": [],
   "source": [
    "device = torch.device('cuda' if torch.cuda.is_available() else 'cpu')"
   ],
   "metadata": {
    "collapsed": false,
    "ExecuteTime": {
     "end_time": "2023-06-02T16:39:52.798187034Z",
     "start_time": "2023-06-02T16:39:52.797029372Z"
    }
   }
  },
  {
   "cell_type": "code",
   "execution_count": 4,
   "outputs": [],
   "source": [
    "def seed_everything(seed):\n",
    "    random.seed(seed)\n",
    "    os.environ['PYTHONHASHSEED'] = str(seed)\n",
    "    np.random.seed(seed)\n",
    "    torch.manual_seed(seed)\n",
    "    torch.cuda.manual_seed(seed)\n",
    "    torch.backends.cudnn.benchmark = True\n",
    "\n",
    "\n",
    "SEED = 42\n",
    "seed_everything(SEED)"
   ],
   "metadata": {
    "collapsed": false,
    "ExecuteTime": {
     "end_time": "2023-06-02T16:39:53.376314813Z",
     "start_time": "2023-06-02T16:39:53.371870007Z"
    }
   }
  },
  {
   "cell_type": "code",
   "execution_count": 5,
   "outputs": [],
   "source": [
    "from training_nn import training\n",
    "from evaluation import evaluate_model, plot_loss\n",
    "from process_data import get_desc\n",
    "from models import CNN, RNN\n",
    "from dataset import Onehot, Phys"
   ],
   "metadata": {
    "collapsed": false,
    "ExecuteTime": {
     "end_time": "2023-06-02T16:39:55.102600724Z",
     "start_time": "2023-06-02T16:39:54.112620711Z"
    }
   }
  },
  {
   "cell_type": "markdown",
   "source": [
    "Load RBD mutation sequences interacted with four antibodies"
   ],
   "metadata": {
    "collapsed": false
   }
  },
  {
   "cell_type": "code",
   "execution_count": 12,
   "outputs": [],
   "source": [
    "whole_train = pd.read_csv(\"../dataset/whole_train.csv\")\n",
    "whole_test = pd.read_csv(\"../dataset/whole_test.csv\")"
   ],
   "metadata": {
    "collapsed": false,
    "ExecuteTime": {
     "end_time": "2023-06-02T16:41:15.467551084Z",
     "start_time": "2023-06-02T16:41:15.151828535Z"
    }
   }
  },
  {
   "cell_type": "code",
   "execution_count": 13,
   "outputs": [
    {
     "data": {
      "text/plain": "                junction_aa  consensus_count  Label  Distance Antibody\n0  KNAGFNCYNPLETYGFWRTGGVDW                1      1         9     ACE2\n1  KNEQFNCYGPINAYGFQRTGGEDW                1      0        10     ACE2\n2  KNQKFNCYVPLFHYGFWPTVGVGF                1      1         8     ACE2\n3  KNQGFNCYNPLVNYGFYRTNGRSF                1      1         9     ACE2\n4  KNRGFNCYKPLPGYGFQRTDGINW                2      0         9     ACE2",
      "text/html": "<div>\n<style scoped>\n    .dataframe tbody tr th:only-of-type {\n        vertical-align: middle;\n    }\n\n    .dataframe tbody tr th {\n        vertical-align: top;\n    }\n\n    .dataframe thead th {\n        text-align: right;\n    }\n</style>\n<table border=\"1\" class=\"dataframe\">\n  <thead>\n    <tr style=\"text-align: right;\">\n      <th></th>\n      <th>junction_aa</th>\n      <th>consensus_count</th>\n      <th>Label</th>\n      <th>Distance</th>\n      <th>Antibody</th>\n    </tr>\n  </thead>\n  <tbody>\n    <tr>\n      <th>0</th>\n      <td>KNAGFNCYNPLETYGFWRTGGVDW</td>\n      <td>1</td>\n      <td>1</td>\n      <td>9</td>\n      <td>ACE2</td>\n    </tr>\n    <tr>\n      <th>1</th>\n      <td>KNEQFNCYGPINAYGFQRTGGEDW</td>\n      <td>1</td>\n      <td>0</td>\n      <td>10</td>\n      <td>ACE2</td>\n    </tr>\n    <tr>\n      <th>2</th>\n      <td>KNQKFNCYVPLFHYGFWPTVGVGF</td>\n      <td>1</td>\n      <td>1</td>\n      <td>8</td>\n      <td>ACE2</td>\n    </tr>\n    <tr>\n      <th>3</th>\n      <td>KNQGFNCYNPLVNYGFYRTNGRSF</td>\n      <td>1</td>\n      <td>1</td>\n      <td>9</td>\n      <td>ACE2</td>\n    </tr>\n    <tr>\n      <th>4</th>\n      <td>KNRGFNCYKPLPGYGFQRTDGINW</td>\n      <td>2</td>\n      <td>0</td>\n      <td>9</td>\n      <td>ACE2</td>\n    </tr>\n  </tbody>\n</table>\n</div>"
     },
     "execution_count": 13,
     "metadata": {},
     "output_type": "execute_result"
    }
   ],
   "source": [
    "whole_train.head()"
   ],
   "metadata": {
    "collapsed": false,
    "ExecuteTime": {
     "end_time": "2023-06-02T16:41:16.037711370Z",
     "start_time": "2023-06-02T16:41:16.012403965Z"
    }
   }
  },
  {
   "cell_type": "markdown",
   "source": [
    "Select RBD sequences to train, validation, test data interacted with antibody of interest"
   ],
   "metadata": {
    "collapsed": false
   }
  },
  {
   "cell_type": "code",
   "execution_count": 14,
   "outputs": [],
   "source": [
    "def data_split(train, test, target_ab='LY555'):\n",
    "    target_data = train[train['Antibody'] == target_ab]\n",
    "    train = target_data.sample(frac=0.7, random_state=SEED)\n",
    "    valid = target_data.drop(train.index)\n",
    "    test = test[test['Antibody'] == target_ab]\n",
    "    return train, valid, test\n"
   ],
   "metadata": {
    "collapsed": false,
    "ExecuteTime": {
     "end_time": "2023-06-02T16:41:17.307399376Z",
     "start_time": "2023-06-02T16:41:17.300226292Z"
    }
   }
  },
  {
   "cell_type": "code",
   "execution_count": 15,
   "outputs": [],
   "source": [
    "train_data, valid_data, test_data = data_split(whole_train, whole_test)"
   ],
   "metadata": {
    "collapsed": false,
    "ExecuteTime": {
     "end_time": "2023-06-02T16:41:18.343183947Z",
     "start_time": "2023-06-02T16:41:18.336018718Z"
    }
   }
  },
  {
   "cell_type": "markdown",
   "source": [
    "Prepare dataloaders for train, valid and test data"
   ],
   "metadata": {
    "collapsed": false
   }
  },
  {
   "cell_type": "code",
   "execution_count": 16,
   "outputs": [],
   "source": [
    "def prepare_dataloader(df, dataset_torch, batch_size=5, shuffle=True):\n",
    "    dataset = dataset_torch(df)\n",
    "    dataloader = DataLoader(dataset, batch_size=batch_size, shuffle=shuffle, num_workers=2)\n",
    "    return dataloader"
   ],
   "metadata": {
    "collapsed": false,
    "ExecuteTime": {
     "end_time": "2023-06-02T16:41:19.136781658Z",
     "start_time": "2023-06-02T16:41:19.133357586Z"
    }
   }
  },
  {
   "cell_type": "code",
   "execution_count": 17,
   "outputs": [],
   "source": [
    "trainloader = prepare_dataloader(train_data, Onehot, batch_size=5, shuffle=True)\n",
    "validloader = prepare_dataloader(valid_data, Onehot, batch_size=5, shuffle=True)\n",
    "testloader = prepare_dataloader(test_data, Onehot, batch_size=5, shuffle=True)"
   ],
   "metadata": {
    "collapsed": false,
    "ExecuteTime": {
     "end_time": "2023-06-02T16:41:19.830278907Z",
     "start_time": "2023-06-02T16:41:19.824230243Z"
    }
   }
  },
  {
   "cell_type": "markdown",
   "source": [
    "CNN model training"
   ],
   "metadata": {
    "collapsed": false
   }
  },
  {
   "cell_type": "code",
   "execution_count": 12,
   "outputs": [
    {
     "name": "stderr",
     "output_type": "stream",
     "text": [
      "100%|██████████| 16/16 [01:31<00:00,  5.70s/it]\n"
     ]
    }
   ],
   "source": [
    "model = CNN(20, 100).to(device)\n",
    "criterion = nn.BCEWithLogitsLoss()\n",
    "optimizer = torch.optim.Adam(model.parameters(), lr=1e-5)\n",
    "num_epochs = 16\n",
    "loss_train_hist, loss_valid_hist = training(model, criterion, optimizer, num_epochs, trainloader, validloader)"
   ],
   "metadata": {
    "collapsed": false,
    "ExecuteTime": {
     "end_time": "2023-06-01T09:18:11.216532733Z",
     "start_time": "2023-06-01T09:16:39.395125098Z"
    }
   }
  },
  {
   "cell_type": "code",
   "execution_count": 13,
   "outputs": [
    {
     "data": {
      "text/plain": "<Figure size 640x480 with 1 Axes>",
      "image/png": "[encoded data removed]"
     },
     "metadata": {},
     "output_type": "display_data"
    }
   ],
   "source": [
    "plot_loss(loss_train_hist, loss_valid_hist)"
   ],
   "metadata": {
    "collapsed": false,
    "ExecuteTime": {
     "end_time": "2023-06-01T09:19:18.902917551Z",
     "start_time": "2023-06-01T09:19:18.752296354Z"
    }
   }
  },
  {
   "cell_type": "markdown",
   "source": [
    "LY555 Escape prediction: classification metrics using RBD mutant sequences one-hot encoded - CNN trained model on full data"
   ],
   "metadata": {
    "collapsed": false
   }
  },
  {
   "cell_type": "code",
   "execution_count": 14,
   "outputs": [
    {
     "data": {
      "text/plain": "   accuracy    recall  precision   f1_scor       auc\n0  0.900417  0.841608   0.955705  0.895035  0.958103",
      "text/html": "<div>\n<style scoped>\n    .dataframe tbody tr th:only-of-type {\n        vertical-align: middle;\n    }\n\n    .dataframe tbody tr th {\n        vertical-align: top;\n    }\n\n    .dataframe thead th {\n        text-align: right;\n    }\n</style>\n<table border=\"1\" class=\"dataframe\">\n  <thead>\n    <tr style=\"text-align: right;\">\n      <th></th>\n      <th>accuracy</th>\n      <th>recall</th>\n      <th>precision</th>\n      <th>f1_scor</th>\n      <th>auc</th>\n    </tr>\n  </thead>\n  <tbody>\n    <tr>\n      <th>0</th>\n      <td>0.900417</td>\n      <td>0.841608</td>\n      <td>0.955705</td>\n      <td>0.895035</td>\n      <td>0.958103</td>\n    </tr>\n  </tbody>\n</table>\n</div>"
     },
     "execution_count": 14,
     "metadata": {},
     "output_type": "execute_result"
    }
   ],
   "source": [
    "evaluate_model(testloader, model)"
   ],
   "metadata": {
    "collapsed": false,
    "ExecuteTime": {
     "end_time": "2023-06-01T09:19:21.938759864Z",
     "start_time": "2023-06-01T09:19:21.186083141Z"
    }
   }
  },
  {
   "cell_type": "markdown",
   "source": [
    "RNN model training"
   ],
   "metadata": {
    "collapsed": false
   }
  },
  {
   "cell_type": "code",
   "execution_count": 78,
   "outputs": [
    {
     "name": "stderr",
     "output_type": "stream",
     "text": [
      "100%|██████████| 15/15 [01:24<00:00,  5.62s/it]\n"
     ]
    }
   ],
   "source": [
    "model = RNN(20, 24, 70, 2).to(device)\n",
    "criterion = nn.BCEWithLogitsLoss()\n",
    "optimizer = torch.optim.Adam(model.parameters(), lr=1e-5)\n",
    "num_epochs = 15\n",
    "loss_train_hist, loss_valid_hist = training(model, criterion, optimizer, num_epochs, trainloader, validloader)"
   ],
   "metadata": {
    "collapsed": false,
    "ExecuteTime": {
     "end_time": "2023-06-01T08:44:42.614479315Z",
     "start_time": "2023-06-01T08:43:18.288311237Z"
    }
   }
  },
  {
   "cell_type": "code",
   "execution_count": 79,
   "outputs": [
    {
     "data": {
      "text/plain": "<Figure size 640x480 with 1 Axes>",
      "image/png": "[encoded data removed]"
     },
     "metadata": {},
     "output_type": "display_data"
    }
   ],
   "source": [
    "plot_loss(loss_train_hist, loss_valid_hist)"
   ],
   "metadata": {
    "collapsed": false,
    "ExecuteTime": {
     "end_time": "2023-06-01T08:45:09.624920178Z",
     "start_time": "2023-06-01T08:45:09.503581178Z"
    }
   }
  },
  {
   "cell_type": "markdown",
   "source": [
    "LY555 Escape prediction: classification metrics using RBD mutant sequences one-hot encoded - RNN trained model on full data"
   ],
   "metadata": {
    "collapsed": false
   }
  },
  {
   "cell_type": "code",
   "execution_count": 80,
   "outputs": [
    {
     "data": {
      "text/plain": "   accuracy    recall  precision   f1_scor       auc\n0  0.876565  0.809693   0.937073  0.868738  0.944608",
      "text/html": "<div>\n<style scoped>\n    .dataframe tbody tr th:only-of-type {\n        vertical-align: middle;\n    }\n\n    .dataframe tbody tr th {\n        vertical-align: top;\n    }\n\n    .dataframe thead th {\n        text-align: right;\n    }\n</style>\n<table border=\"1\" class=\"dataframe\">\n  <thead>\n    <tr style=\"text-align: right;\">\n      <th></th>\n      <th>accuracy</th>\n      <th>recall</th>\n      <th>precision</th>\n      <th>f1_scor</th>\n      <th>auc</th>\n    </tr>\n  </thead>\n  <tbody>\n    <tr>\n      <th>0</th>\n      <td>0.876565</td>\n      <td>0.809693</td>\n      <td>0.937073</td>\n      <td>0.868738</td>\n      <td>0.944608</td>\n    </tr>\n  </tbody>\n</table>\n</div>"
     },
     "execution_count": 80,
     "metadata": {},
     "output_type": "execute_result"
    }
   ],
   "source": [
    "evaluate_model(testloader, model)"
   ],
   "metadata": {
    "collapsed": false,
    "ExecuteTime": {
     "end_time": "2023-06-01T08:45:12.786256421Z",
     "start_time": "2023-06-01T08:45:12.039670697Z"
    }
   }
  },
  {
   "cell_type": "markdown",
   "source": [
    "Read dataset with physical features"
   ],
   "metadata": {
    "collapsed": false
   }
  },
  {
   "cell_type": "code",
   "execution_count": null,
   "outputs": [],
   "source": [
    "train_path = '../dataset/phys_train.csv'\n",
    "test_path = '../dataset/phys_test.csv'"
   ],
   "metadata": {
    "collapsed": false
   }
  },
  {
   "cell_type": "code",
   "source": [
    "whole_train = pd.read_csv(train_path)\n",
    "whole_test = pd.read_csv(test_path)"
   ],
   "metadata": {
    "execution": {
     "iopub.status.busy": "2023-05-22T12:23:46.148885Z",
     "iopub.execute_input": "2023-05-22T12:23:46.149480Z",
     "iopub.status.idle": "2023-05-22T12:24:52.616501Z",
     "shell.execute_reply.started": "2023-05-22T12:23:46.149430Z",
     "shell.execute_reply": "2023-05-22T12:24:52.615202Z"
    },
    "trusted": true
   },
   "execution_count": 69,
   "outputs": []
  },
  {
   "cell_type": "markdown",
   "source": [
    "Convert str to float datatype of features"
   ],
   "metadata": {
    "collapsed": false
   }
  },
  {
   "cell_type": "code",
   "source": [
    "whole_train['repr'] = get_desc(whole_train)\n",
    "whole_test['repr'] = get_desc(whole_test)"
   ],
   "metadata": {
    "execution": {
     "iopub.status.busy": "2023-05-22T12:25:17.215367Z",
     "iopub.execute_input": "2023-05-22T12:25:17.215907Z",
     "iopub.status.idle": "2023-05-22T12:32:02.332118Z",
     "shell.execute_reply.started": "2023-05-22T12:25:17.215863Z",
     "shell.execute_reply": "2023-05-22T12:32:02.330197Z"
    },
    "trusted": true
   },
   "execution_count": 70,
   "outputs": []
  },
  {
   "cell_type": "code",
   "source": [
    "train_data, valid_data, test_data = data_split(whole_train, whole_test)"
   ],
   "metadata": {
    "execution": {
     "iopub.status.busy": "2023-05-22T12:35:47.471529Z",
     "iopub.execute_input": "2023-05-22T12:35:47.472014Z",
     "iopub.status.idle": "2023-05-22T12:35:47.533841Z",
     "shell.execute_reply.started": "2023-05-22T12:35:47.471978Z",
     "shell.execute_reply": "2023-05-22T12:35:47.532483Z"
    },
    "trusted": true
   },
   "execution_count": 71,
   "outputs": []
  },
  {
   "cell_type": "code",
   "source": [
    "trainloader = prepare_dataloader(train_data, Phys, batch_size=5, shuffle=True)\n",
    "validloader = prepare_dataloader(valid_data, Phys, batch_size=5, shuffle=True)\n",
    "testloader = prepare_dataloader(test_data, Phys, batch_size=5, shuffle=True)"
   ],
   "metadata": {
    "execution": {
     "iopub.status.busy": "2023-05-22T12:36:05.803246Z",
     "iopub.execute_input": "2023-05-22T12:36:05.804681Z",
     "iopub.status.idle": "2023-05-22T12:36:05.811769Z",
     "shell.execute_reply.started": "2023-05-22T12:36:05.804632Z",
     "shell.execute_reply": "2023-05-22T12:36:05.810373Z"
    },
    "trusted": true
   },
   "execution_count": 76,
   "outputs": []
  },
  {
   "cell_type": "markdown",
   "source": [
    "CNN model training"
   ],
   "metadata": {
    "collapsed": false
   }
  },
  {
   "cell_type": "code",
   "source": [
    "model = CNN(40, 100).to(device)\n",
    "criterion = nn.BCEWithLogitsLoss()\n",
    "optimizer = torch.optim.Adam(model.parameters(), lr=1e-5)\n",
    "num_epochs = 16\n",
    "loss_train_hist, loss_valid_hist = training(model, criterion, optimizer, num_epochs, trainloader, validloader)"
   ],
   "metadata": {
    "execution": {
     "iopub.status.busy": "2023-05-22T12:36:06.227677Z",
     "iopub.execute_input": "2023-05-22T12:36:06.229040Z",
     "iopub.status.idle": "2023-05-22T12:41:17.784541Z",
     "shell.execute_reply.started": "2023-05-22T12:36:06.228986Z",
     "shell.execute_reply": "2023-05-22T12:41:17.782862Z"
    },
    "trusted": true
   },
   "execution_count": 77,
   "outputs": [
    {
     "name": "stderr",
     "text": "100%|██████████| 16/16 [05:11<00:00, 19.47s/it]\n",
     "output_type": "stream"
    }
   ]
  },
  {
   "cell_type": "code",
   "source": [
    "plot_loss(loss_train_hist, loss_valid_hist)"
   ],
   "metadata": {
    "execution": {
     "iopub.status.busy": "2023-05-22T12:42:39.431057Z",
     "iopub.execute_input": "2023-05-22T12:42:39.431566Z",
     "iopub.status.idle": "2023-05-22T12:42:39.747249Z",
     "shell.execute_reply.started": "2023-05-22T12:42:39.431524Z",
     "shell.execute_reply": "2023-05-22T12:42:39.745900Z"
    },
    "trusted": true
   },
   "execution_count": 78,
   "outputs": [
    {
     "output_type": "display_data",
     "data": {
      "text/plain": "<Figure size 432x288 with 1 Axes>",
      "image/png": "[encoded data removed]"
     },
     "metadata": {
      "needs_background": "light"
     }
    }
   ]
  },
  {
   "cell_type": "markdown",
   "source": [
    "LY555 Escape prediction: classification metrics using RBD mutant sequences (physical features encoded) - CNN trained model on full data"
   ],
   "metadata": {
    "collapsed": false
   }
  },
  {
   "cell_type": "code",
   "source": [
    "evaluate_model(testloader, model)"
   ],
   "metadata": {
    "execution": {
     "iopub.status.busy": "2023-05-22T12:42:43.746658Z",
     "iopub.execute_input": "2023-05-22T12:42:43.747106Z",
     "iopub.status.idle": "2023-05-22T12:42:45.290919Z",
     "shell.execute_reply.started": "2023-05-22T12:42:43.747070Z",
     "shell.execute_reply": "2023-05-22T12:42:45.289401Z"
    },
    "trusted": true
   },
   "execution_count": 79,
   "outputs": [
    {
     "execution_count": 79,
     "output_type": "execute_result",
     "data": {
      "text/plain": "   accuracy    recall  precision   f1_scor       auc\n0  0.902206  0.847518   0.953457  0.897372  0.959425",
      "text/html": "<div>\n<style scoped>\n    .dataframe tbody tr th:only-of-type {\n        vertical-align: middle;\n    }\n\n    .dataframe tbody tr th {\n        vertical-align: top;\n    }\n\n    .dataframe thead th {\n        text-align: right;\n    }\n</style>\n<table border=\"1\" class=\"dataframe\">\n  <thead>\n    <tr style=\"text-align: right;\">\n      <th></th>\n      <th>accuracy</th>\n      <th>recall</th>\n      <th>precision</th>\n      <th>f1_scor</th>\n      <th>auc</th>\n    </tr>\n  </thead>\n  <tbody>\n    <tr>\n      <th>0</th>\n      <td>0.902206</td>\n      <td>0.847518</td>\n      <td>0.953457</td>\n      <td>0.897372</td>\n      <td>0.959425</td>\n    </tr>\n  </tbody>\n</table>\n</div>"
     },
     "metadata": {}
    }
   ]
  },
  {
   "cell_type": "markdown",
   "source": [
    "RNN model training"
   ],
   "metadata": {
    "collapsed": false
   }
  },
  {
   "cell_type": "code",
   "source": [
    "model = RNN(40, 24, 70, 2).to(device)\n",
    "criterion = nn.BCEWithLogitsLoss()\n",
    "optimizer = torch.optim.Adam(model.parameters(), lr=1e-5)\n",
    "num_epochs = 15\n",
    "loss_train_hist, loss_valid_hist = training(model, criterion, optimizer, num_epochs, trainloader, validloader)"
   ],
   "metadata": {
    "execution": {
     "iopub.status.busy": "2023-05-22T12:43:54.644696Z",
     "iopub.execute_input": "2023-05-22T12:43:54.645209Z",
     "iopub.status.idle": "2023-05-22T12:54:20.096495Z",
     "shell.execute_reply.started": "2023-05-22T12:43:54.645155Z",
     "shell.execute_reply": "2023-05-22T12:54:20.095064Z"
    },
    "trusted": true
   },
   "execution_count": 80,
   "outputs": [
    {
     "name": "stderr",
     "text": "100%|██████████| 15/15 [10:25<00:00, 41.70s/it]\n",
     "output_type": "stream"
    }
   ]
  },
  {
   "cell_type": "code",
   "source": [
    "plot_loss(loss_train_hist, loss_valid_hist)"
   ],
   "metadata": {
    "execution": {
     "iopub.status.busy": "2023-05-22T12:54:47.366367Z",
     "iopub.execute_input": "2023-05-22T12:54:47.366840Z",
     "iopub.status.idle": "2023-05-22T12:54:47.665591Z",
     "shell.execute_reply.started": "2023-05-22T12:54:47.366800Z",
     "shell.execute_reply": "2023-05-22T12:54:47.664337Z"
    },
    "trusted": true
   },
   "execution_count": 81,
   "outputs": [
    {
     "output_type": "display_data",
     "data": {
      "text/plain": "<Figure size 432x288 with 1 Axes>",
      "image/png": "[encoded data removed]"
     },
     "metadata": {
      "needs_background": "light"
     }
    }
   ]
  },
  {
   "cell_type": "markdown",
   "source": [
    "LY555 Escape prediction: classification metrics using RBD mutant sequences (physical features encoded) - RNN trained model on full data"
   ],
   "metadata": {
    "collapsed": false
   }
  },
  {
   "cell_type": "code",
   "source": [
    "evaluate_model(testloader, model)"
   ],
   "metadata": {
    "execution": {
     "iopub.status.busy": "2023-05-22T12:54:50.503087Z",
     "iopub.execute_input": "2023-05-22T12:54:50.504249Z",
     "iopub.status.idle": "2023-05-22T12:54:52.628803Z",
     "shell.execute_reply.started": "2023-05-22T12:54:50.504202Z",
     "shell.execute_reply": "2023-05-22T12:54:52.627083Z"
    },
    "trusted": true
   },
   "execution_count": 82,
   "outputs": [
    {
     "execution_count": 82,
     "output_type": "execute_result",
     "data": {
      "text/plain": "   accuracy    recall  precision   f1_scor       auc\n0  0.905188  0.868794   0.938697  0.902394  0.957798",
      "text/html": "<div>\n<style scoped>\n    .dataframe tbody tr th:only-of-type {\n        vertical-align: middle;\n    }\n\n    .dataframe tbody tr th {\n        vertical-align: top;\n    }\n\n    .dataframe thead th {\n        text-align: right;\n    }\n</style>\n<table border=\"1\" class=\"dataframe\">\n  <thead>\n    <tr style=\"text-align: right;\">\n      <th></th>\n      <th>accuracy</th>\n      <th>recall</th>\n      <th>precision</th>\n      <th>f1_scor</th>\n      <th>auc</th>\n    </tr>\n  </thead>\n  <tbody>\n    <tr>\n      <th>0</th>\n      <td>0.905188</td>\n      <td>0.868794</td>\n      <td>0.938697</td>\n      <td>0.902394</td>\n      <td>0.957798</td>\n    </tr>\n  </tbody>\n</table>\n</div>"
     },
     "metadata": {}
    }
   ]
  }
 ]
}
