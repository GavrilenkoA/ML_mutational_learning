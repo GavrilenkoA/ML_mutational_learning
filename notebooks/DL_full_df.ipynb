{
 "metadata": {
  "kernelspec": {
   "language": "python",
   "display_name": "Python 3",
   "name": "python3"
  },
  "language_info": {
   "name": "python",
   "version": "3.7.12",
   "mimetype": "text/x-python",
   "codemirror_mode": {
    "name": "ipython",
    "version": 3
   },
   "pygments_lexer": "ipython3",
   "nbconvert_exporter": "python",
   "file_extension": ".py"
  }
 },
 "nbformat_minor": 4,
 "nbformat": 4,
 "cells": [
  {
   "cell_type": "code",
   "source": [
    "import torch.nn as nn\n",
    "import torch\n",
    "from torch.utils.data import Dataset, DataLoader\n",
    "import numpy as np\n",
    "import pandas as pd\n",
    "import torch.nn.functional as F"
   ],
   "metadata": {
    "execution": {
     "iopub.status.busy": "2023-05-22T10:43:06.858913Z",
     "iopub.execute_input": "2023-05-22T10:43:06.859472Z",
     "iopub.status.idle": "2023-05-22T10:43:10.376924Z",
     "shell.execute_reply.started": "2023-05-22T10:43:06.859336Z",
     "shell.execute_reply": "2023-05-22T10:43:10.375546Z"
    },
    "trusted": true
   },
   "execution_count": 1,
   "outputs": []
  },
  {
   "cell_type": "code",
   "source": [
    "device = torch.device('cuda' if torch.cuda.is_available() else 'cpu')"
   ],
   "metadata": {
    "execution": {
     "iopub.status.busy": "2023-05-22T11:05:21.061021Z",
     "iopub.execute_input": "2023-05-22T11:05:21.061485Z",
     "iopub.status.idle": "2023-05-22T11:05:21.067618Z",
     "shell.execute_reply.started": "2023-05-22T11:05:21.061447Z",
     "shell.execute_reply": "2023-05-22T11:05:21.066331Z"
    },
    "trusted": true
   },
   "execution_count": 44,
   "outputs": []
  },
  {
   "cell_type": "code",
   "source": [
    "SEED = 42\n",
    "def seed_everything(seed: int):\n",
    "    import random, os\n",
    "    import numpy as np\n",
    "    import torch\n",
    "    \n",
    "    random.seed(seed)\n",
    "    os.environ['PYTHONHASHSEED'] = str(seed)\n",
    "    np.random.seed(seed)\n",
    "    torch.manual_seed(seed)\n",
    "    torch.cuda.manual_seed(seed)\n",
    "    torch.backends.cudnn.benchmark = True\n",
    "    \n",
    "seed_everything(SEED)"
   ],
   "metadata": {
    "execution": {
     "iopub.status.busy": "2023-05-22T10:43:22.254693Z",
     "iopub.execute_input": "2023-05-22T10:43:22.255531Z",
     "iopub.status.idle": "2023-05-22T10:43:22.269599Z",
     "shell.execute_reply.started": "2023-05-22T10:43:22.255479Z",
     "shell.execute_reply": "2023-05-22T10:43:22.267792Z"
    },
    "trusted": true
   },
   "execution_count": 2,
   "outputs": []
  },
  {
   "cell_type": "code",
   "execution_count": 1,
   "outputs": [],
   "source": [
    "import sys\n",
    "sys.path.append('../scripts')"
   ],
   "metadata": {
    "collapsed": false,
    "ExecuteTime": {
     "end_time": "2023-05-22T16:09:50.179394962Z",
     "start_time": "2023-05-22T16:09:50.175632612Z"
    }
   }
  },
  {
   "cell_type": "code",
   "source": [
    "from training_nn import training_cnn\n",
    "from evaluation import evaluate_model_rnn, plot_loss, evaluate_model_cnn\n",
    "from process_data import get_desc"
   ],
   "metadata": {
    "execution": {
     "iopub.status.busy": "2023-05-22T10:43:25.440380Z",
     "iopub.execute_input": "2023-05-22T10:43:25.440918Z",
     "iopub.status.idle": "2023-05-22T10:43:25.471481Z",
     "shell.execute_reply.started": "2023-05-22T10:43:25.440873Z",
     "shell.execute_reply": "2023-05-22T10:43:25.470253Z"
    },
    "trusted": true,
    "ExecuteTime": {
     "end_time": "2023-05-22T16:10:01.143801330Z",
     "start_time": "2023-05-22T16:09:57.766787632Z"
    }
   },
   "execution_count": 2,
   "outputs": []
  },
  {
   "cell_type": "markdown",
   "source": [
    "#### One-hot encoding. "
   ],
   "metadata": {}
  },
  {
   "cell_type": "code",
   "source": [
    "train = pd.read_csv(\"/kaggle/input/ml-mutational-learning/whole_train.csv\")\n",
    "test = pd.read_csv(\"/kaggle/input/ml-mutational-learning/whole_test.csv\")"
   ],
   "metadata": {
    "execution": {
     "iopub.status.busy": "2023-05-22T10:43:27.088667Z",
     "iopub.execute_input": "2023-05-22T10:43:27.089135Z",
     "iopub.status.idle": "2023-05-22T10:43:28.164387Z",
     "shell.execute_reply.started": "2023-05-22T10:43:27.089093Z",
     "shell.execute_reply": "2023-05-22T10:43:28.163036Z"
    },
    "trusted": true
   },
   "execution_count": 4,
   "outputs": []
  },
  {
   "cell_type": "code",
   "source": [
    "def data_split(data, test, target_ab = 'LY555'):\n",
    "    target_data = data[data['Antibody'] == target_ab]\n",
    "    train_data = target_data.sample(frac = 0.7, random_state = SEED)\n",
    "    valid_data = target_data.drop(train_data.index)\n",
    "    test_data = test[test['Antibody'] == target_ab]\n",
    "    return train_data, valid_data, test_data\n",
    "    "
   ],
   "metadata": {
    "execution": {
     "iopub.status.busy": "2023-05-22T10:56:12.710629Z",
     "iopub.execute_input": "2023-05-22T10:56:12.711071Z",
     "iopub.status.idle": "2023-05-22T10:56:12.719272Z",
     "shell.execute_reply.started": "2023-05-22T10:56:12.711034Z",
     "shell.execute_reply": "2023-05-22T10:56:12.717861Z"
    },
    "trusted": true
   },
   "execution_count": 30,
   "outputs": []
  },
  {
   "cell_type": "code",
   "source": [
    "train_data, valid_data, test_data = data_split(train, test)"
   ],
   "metadata": {
    "execution": {
     "iopub.status.busy": "2023-05-22T10:56:14.011834Z",
     "iopub.execute_input": "2023-05-22T10:56:14.012301Z",
     "iopub.status.idle": "2023-05-22T10:56:14.138102Z",
     "shell.execute_reply.started": "2023-05-22T10:56:14.012245Z",
     "shell.execute_reply": "2023-05-22T10:56:14.136681Z"
    },
    "trusted": true
   },
   "execution_count": 31,
   "outputs": []
  },
  {
   "cell_type": "code",
   "source": [
    "class Onehot_df(Dataset):\n",
    "    def __init__(self, df):\n",
    "        self.df = df\n",
    "        \n",
    "    @staticmethod\n",
    "    def _encode_seq(sequence):\n",
    "        alphabet = ['A', 'C', 'D', 'E', 'F', 'G','H', 'I', 'K', 'L', 'M', 'N', 'P', 'Q', 'R', 'S', 'T', 'V', 'W', 'Y']\n",
    "        char_to_int = dict((c, i) for i, c in enumerate(alphabet))\n",
    "        integer_encoded = [char_to_int[char] for char in sequence]\n",
    "        onehot_encoded = list()\n",
    "        for value in integer_encoded:\n",
    "            letter = [0 for _ in range(len(alphabet))]\n",
    "            letter[value] = 1\n",
    "            onehot_encoded.append(letter)\n",
    "        return np.array(onehot_encoded)\n",
    "     \n",
    "    def __len__(self):\n",
    "        return len(self.df)\n",
    "    \n",
    "    def __getitem__(self, idx):\n",
    "        onehot_features = self._encode_seq(self.df.junction_aa.iloc[idx])\n",
    "        label = self.df.Label.iloc[idx]\n",
    "        return onehot_features, label"
   ],
   "metadata": {
    "execution": {
     "iopub.status.busy": "2023-05-22T11:05:41.486933Z",
     "iopub.execute_input": "2023-05-22T11:05:41.487390Z",
     "iopub.status.idle": "2023-05-22T11:05:41.502594Z",
     "shell.execute_reply.started": "2023-05-22T11:05:41.487352Z",
     "shell.execute_reply": "2023-05-22T11:05:41.501316Z"
    },
    "trusted": true
   },
   "execution_count": 46,
   "outputs": []
  },
  {
   "cell_type": "code",
   "source": [
    "def prepare_dataloader(df, dataset_torch, batch_size = 5, shuffle=True):\n",
    "    dataset = dataset_torch(df)\n",
    "    dataloader = DataLoader(dataset, batch_size = batch_size, shuffle = shuffle, num_workers = 2)\n",
    "    return dataloader"
   ],
   "metadata": {
    "execution": {
     "iopub.status.busy": "2023-05-22T11:05:43.262530Z",
     "iopub.execute_input": "2023-05-22T11:05:43.262963Z",
     "iopub.status.idle": "2023-05-22T11:05:43.270178Z",
     "shell.execute_reply.started": "2023-05-22T11:05:43.262927Z",
     "shell.execute_reply": "2023-05-22T11:05:43.268712Z"
    },
    "trusted": true
   },
   "execution_count": 47,
   "outputs": []
  },
  {
   "cell_type": "code",
   "source": [
    "trainloader = prepare_dataloader(train_data, Onehot_df, batch_size = 5, shuffle=True)\n",
    "validloader = prepare_dataloader(valid_data, Onehot_df, batch_size = 5, shuffle=True)\n",
    "testloader = prepare_dataloader(test_data, Onehot_df, batch_size = 5, shuffle=True)"
   ],
   "metadata": {
    "execution": {
     "iopub.status.busy": "2023-05-22T11:05:43.524688Z",
     "iopub.execute_input": "2023-05-22T11:05:43.525159Z",
     "iopub.status.idle": "2023-05-22T11:05:43.533408Z",
     "shell.execute_reply.started": "2023-05-22T11:05:43.525121Z",
     "shell.execute_reply": "2023-05-22T11:05:43.531850Z"
    },
    "trusted": true
   },
   "execution_count": 48,
   "outputs": []
  },
  {
   "cell_type": "code",
   "source": [
    "class CNNModel(nn.Module):\n",
    "    def __init__(self, embed_size, hidden_size, num_classes=1):\n",
    "        super().__init__()\n",
    "        self.cnn = nn.Sequential(\n",
    "            nn.Conv1d(embed_size, hidden_size, kernel_size=3,\n",
    "                      padding=1, stride=2),\n",
    "            nn.BatchNorm1d(hidden_size),\n",
    "            nn.ReLU(),\n",
    "            nn.Conv1d(hidden_size, hidden_size, kernel_size=3, \n",
    "                      padding=1, stride=2),\n",
    "            nn.BatchNorm1d(hidden_size),\n",
    "            nn.ReLU(),\n",
    "            nn.Conv1d(hidden_size, hidden_size, kernel_size=3, padding=1, \n",
    "                      stride=2),\n",
    "            nn.BatchNorm1d(hidden_size),\n",
    "            nn.ReLU(),\n",
    "            nn.AdaptiveMaxPool1d(1),\n",
    "            nn.Flatten(), nn.ReLU()\n",
    "        )\n",
    "        self.cl = nn.Sequential(\n",
    "            nn.Linear(hidden_size, num_classes)\n",
    "        )\n",
    "\n",
    "    def forward(self, x):\n",
    "        x = x.permute(0, 2, 1)\n",
    "        x = self.cnn(x)\n",
    "        prediction = self.cl(x)\n",
    "        return prediction\n",
    "\n",
    "\n",
    "class RNN(nn.Module):\n",
    "    def __init__(self, input_size, seq_lentgth, hidden_size, num_layers, num_classes=1):\n",
    "        super().__init__()\n",
    "        self.rnn = nn.RNN(input_size, hidden_size, batch_first=True, num_layers=num_layers, bidirectional=True)\n",
    "        self.linear1 = nn.Linear(2*seq_lentgth*hidden_size, 100)\n",
    "        self.linear2 = nn.Linear(100, num_classes)\n",
    "\n",
    "    def forward(self, x):\n",
    "        x, _ = self.rnn(x)\n",
    "        x = x.reshape(x.size(0), -1)\n",
    "        x = self.linear1(x)\n",
    "        x = F.relu(x)\n",
    "        x = self.linear2(x)\n",
    "        return x"
   ],
   "metadata": {
    "execution": {
     "iopub.status.busy": "2023-05-22T11:34:51.310719Z",
     "iopub.execute_input": "2023-05-22T11:34:51.311150Z",
     "iopub.status.idle": "2023-05-22T11:34:51.329989Z",
     "shell.execute_reply.started": "2023-05-22T11:34:51.311114Z",
     "shell.execute_reply": "2023-05-22T11:34:51.328811Z"
    },
    "trusted": true
   },
   "execution_count": 59,
   "outputs": []
  },
  {
   "cell_type": "code",
   "source": [
    "model = CNNModel(20, 100).to(device)\n",
    "criterion = nn.BCEWithLogitsLoss()\n",
    "optimizer = torch.optim.Adam(model.parameters(), lr=1e-5)\n",
    "num_epochs = 16\n",
    "loss_train_hist, loss_valid_hist = training_cnn(model, criterion, optimizer, num_epochs, trainloader, validloader)"
   ],
   "metadata": {
    "execution": {
     "iopub.status.busy": "2023-05-22T11:20:32.312010Z",
     "iopub.execute_input": "2023-05-22T11:20:32.312539Z",
     "iopub.status.idle": "2023-05-22T11:25:52.989308Z",
     "shell.execute_reply.started": "2023-05-22T11:20:32.312495Z",
     "shell.execute_reply": "2023-05-22T11:25:52.987813Z"
    },
    "trusted": true
   },
   "execution_count": 55,
   "outputs": [
    {
     "name": "stderr",
     "text": "100%|██████████| 16/16 [05:20<00:00, 20.04s/it]\n",
     "output_type": "stream"
    }
   ]
  },
  {
   "cell_type": "code",
   "source": [
    "plot_loss(loss_train_hist, loss_valid_hist)"
   ],
   "metadata": {
    "execution": {
     "iopub.status.busy": "2023-05-22T11:33:14.530725Z",
     "iopub.execute_input": "2023-05-22T11:33:14.531311Z",
     "iopub.status.idle": "2023-05-22T11:33:14.837646Z",
     "shell.execute_reply.started": "2023-05-22T11:33:14.531244Z",
     "shell.execute_reply": "2023-05-22T11:33:14.836377Z"
    },
    "trusted": true
   },
   "execution_count": 56,
   "outputs": [
    {
     "output_type": "display_data",
     "data": {
      "text/plain": "<Figure size 432x288 with 1 Axes>",
      "image/png": "[encoded data removed]"
     },
     "metadata": {
      "needs_background": "light"
     }
    }
   ]
  },
  {
   "cell_type": "code",
   "source": [
    "evaluate_model_cnn(testloader, model)"
   ],
   "metadata": {
    "execution": {
     "iopub.status.busy": "2023-05-22T11:33:17.246879Z",
     "iopub.execute_input": "2023-05-22T11:33:17.247939Z",
     "iopub.status.idle": "2023-05-22T11:33:18.678923Z",
     "shell.execute_reply.started": "2023-05-22T11:33:17.247884Z",
     "shell.execute_reply": "2023-05-22T11:33:18.677417Z"
    },
    "trusted": true
   },
   "execution_count": 57,
   "outputs": [
    {
     "execution_count": 57,
     "output_type": "execute_result",
     "data": {
      "text/plain": "   accuracy    recall  precision   f1_scor       auc\n0  0.902803  0.852246   0.949934  0.898442  0.961902",
      "text/html": "<div>\n<style scoped>\n    .dataframe tbody tr th:only-of-type {\n        vertical-align: middle;\n    }\n\n    .dataframe tbody tr th {\n        vertical-align: top;\n    }\n\n    .dataframe thead th {\n        text-align: right;\n    }\n</style>\n<table border=\"1\" class=\"dataframe\">\n  <thead>\n    <tr style=\"text-align: right;\">\n      <th></th>\n      <th>accuracy</th>\n      <th>recall</th>\n      <th>precision</th>\n      <th>f1_scor</th>\n      <th>auc</th>\n    </tr>\n  </thead>\n  <tbody>\n    <tr>\n      <th>0</th>\n      <td>0.902803</td>\n      <td>0.852246</td>\n      <td>0.949934</td>\n      <td>0.898442</td>\n      <td>0.961902</td>\n    </tr>\n  </tbody>\n</table>\n</div>"
     },
     "metadata": {}
    }
   ]
  },
  {
   "cell_type": "markdown",
   "source": [
    "__Rnn__"
   ],
   "metadata": {}
  },
  {
   "cell_type": "code",
   "source": [
    "model = RNN(20, 24, 70, 2).to(device)\n",
    "criterion = nn.BCEWithLogitsLoss()\n",
    "optimizer = torch.optim.Adam(model.parameters(), lr=1e-5)\n",
    "num_epochs = 15\n",
    "loss_train_hist, loss_valid_hist = training_cnn(model, criterion, optimizer, num_epochs, trainloader, validloader)"
   ],
   "metadata": {
    "execution": {
     "iopub.status.busy": "2023-05-22T11:50:08.501685Z",
     "iopub.execute_input": "2023-05-22T11:50:08.502137Z",
     "iopub.status.idle": "2023-05-22T12:01:17.391101Z",
     "shell.execute_reply.started": "2023-05-22T11:50:08.502098Z",
     "shell.execute_reply": "2023-05-22T12:01:17.389069Z"
    },
    "trusted": true
   },
   "execution_count": 66,
   "outputs": [
    {
     "name": "stderr",
     "text": "100%|██████████| 15/15 [11:08<00:00, 44.59s/it]\n",
     "output_type": "stream"
    }
   ]
  },
  {
   "cell_type": "code",
   "source": [
    "plot_loss(loss_train_hist, loss_valid_hist)"
   ],
   "metadata": {
    "execution": {
     "iopub.status.busy": "2023-05-22T12:01:39.858514Z",
     "iopub.execute_input": "2023-05-22T12:01:39.858992Z",
     "iopub.status.idle": "2023-05-22T12:01:40.162066Z",
     "shell.execute_reply.started": "2023-05-22T12:01:39.858950Z",
     "shell.execute_reply": "2023-05-22T12:01:40.160510Z"
    },
    "trusted": true
   },
   "execution_count": 67,
   "outputs": [
    {
     "output_type": "display_data",
     "data": {
      "text/plain": "<Figure size 432x288 with 1 Axes>",
      "image/png": "[encoded data removed]"
     },
     "metadata": {
      "needs_background": "light"
     }
    }
   ]
  },
  {
   "cell_type": "code",
   "source": [
    "evaluate_model_cnn(testloader, model)"
   ],
   "metadata": {
    "execution": {
     "iopub.status.busy": "2023-05-22T12:01:42.658723Z",
     "iopub.execute_input": "2023-05-22T12:01:42.659213Z",
     "iopub.status.idle": "2023-05-22T12:01:44.785193Z",
     "shell.execute_reply.started": "2023-05-22T12:01:42.659174Z",
     "shell.execute_reply": "2023-05-22T12:01:44.783568Z"
    },
    "trusted": true
   },
   "execution_count": 68,
   "outputs": [
    {
     "execution_count": 68,
     "output_type": "execute_result",
     "data": {
      "text/plain": "   accuracy    recall  precision   f1_scor       auc\n0  0.878951  0.853428   0.901373  0.876746  0.942996",
      "text/html": "<div>\n<style scoped>\n    .dataframe tbody tr th:only-of-type {\n        vertical-align: middle;\n    }\n\n    .dataframe tbody tr th {\n        vertical-align: top;\n    }\n\n    .dataframe thead th {\n        text-align: right;\n    }\n</style>\n<table border=\"1\" class=\"dataframe\">\n  <thead>\n    <tr style=\"text-align: right;\">\n      <th></th>\n      <th>accuracy</th>\n      <th>recall</th>\n      <th>precision</th>\n      <th>f1_scor</th>\n      <th>auc</th>\n    </tr>\n  </thead>\n  <tbody>\n    <tr>\n      <th>0</th>\n      <td>0.878951</td>\n      <td>0.853428</td>\n      <td>0.901373</td>\n      <td>0.876746</td>\n      <td>0.942996</td>\n    </tr>\n  </tbody>\n</table>\n</div>"
     },
     "metadata": {}
    }
   ]
  },
  {
   "cell_type": "markdown",
   "source": [
    "###### Insert path to physical features datasets"
   ],
   "metadata": {
    "collapsed": false
   }
  },
  {
   "cell_type": "code",
   "execution_count": null,
   "outputs": [],
   "source": [
    "train_path = '../dataset/phys_train.csv'\n",
    "test_path = '../dataset/phys_test.csv'"
   ],
   "metadata": {
    "collapsed": false
   }
  },
  {
   "cell_type": "code",
   "source": [
    "train = pd.read_csv(train_path)\n",
    "test = pd.read_csv(test_path)"
   ],
   "metadata": {
    "execution": {
     "iopub.status.busy": "2023-05-22T12:23:46.148885Z",
     "iopub.execute_input": "2023-05-22T12:23:46.149480Z",
     "iopub.status.idle": "2023-05-22T12:24:52.616501Z",
     "shell.execute_reply.started": "2023-05-22T12:23:46.149430Z",
     "shell.execute_reply": "2023-05-22T12:24:52.615202Z"
    },
    "trusted": true
   },
   "execution_count": 69,
   "outputs": []
  },
  {
   "cell_type": "code",
   "source": [
    "train['repr'] = get_desc(train)\n",
    "test['repr'] = get_desc(test)"
   ],
   "metadata": {
    "execution": {
     "iopub.status.busy": "2023-05-22T12:25:17.215367Z",
     "iopub.execute_input": "2023-05-22T12:25:17.215907Z",
     "iopub.status.idle": "2023-05-22T12:32:02.332118Z",
     "shell.execute_reply.started": "2023-05-22T12:25:17.215863Z",
     "shell.execute_reply": "2023-05-22T12:32:02.330197Z"
    },
    "trusted": true
   },
   "execution_count": 70,
   "outputs": []
  },
  {
   "cell_type": "code",
   "source": [
    "train_data, valid_data, test_data = data_split(train, test)"
   ],
   "metadata": {
    "execution": {
     "iopub.status.busy": "2023-05-22T12:35:47.471529Z",
     "iopub.execute_input": "2023-05-22T12:35:47.472014Z",
     "iopub.status.idle": "2023-05-22T12:35:47.533841Z",
     "shell.execute_reply.started": "2023-05-22T12:35:47.471978Z",
     "shell.execute_reply": "2023-05-22T12:35:47.532483Z"
    },
    "trusted": true
   },
   "execution_count": 71,
   "outputs": []
  },
  {
   "cell_type": "code",
   "source": [
    "class Phys_features(Dataset):\n",
    "    def __init__(self, df):\n",
    "        self.df = df\n",
    "\n",
    "\n",
    "    def __len__(self):\n",
    "        return len(self.df)\n",
    "\n",
    "\n",
    "    def __getitem__(self, idx):\n",
    "        phys_features = self.df.repr.iloc[idx]\n",
    "        label = self.df.Label.iloc[idx]\n",
    "        return phys_features, label"
   ],
   "metadata": {
    "execution": {
     "iopub.status.busy": "2023-05-22T12:36:05.494123Z",
     "iopub.execute_input": "2023-05-22T12:36:05.494583Z",
     "iopub.status.idle": "2023-05-22T12:36:05.503841Z",
     "shell.execute_reply.started": "2023-05-22T12:36:05.494546Z",
     "shell.execute_reply": "2023-05-22T12:36:05.502828Z"
    },
    "trusted": true
   },
   "execution_count": 75,
   "outputs": []
  },
  {
   "cell_type": "code",
   "source": [
    "trainloader = prepare_dataloader(train_data, Phys_features, batch_size = 5, shuffle=True)\n",
    "validloader = prepare_dataloader(valid_data, Phys_features, batch_size = 5, shuffle=True)\n",
    "testloader = prepare_dataloader(test_data, Phys_features, batch_size = 5, shuffle=True)"
   ],
   "metadata": {
    "execution": {
     "iopub.status.busy": "2023-05-22T12:36:05.803246Z",
     "iopub.execute_input": "2023-05-22T12:36:05.804681Z",
     "iopub.status.idle": "2023-05-22T12:36:05.811769Z",
     "shell.execute_reply.started": "2023-05-22T12:36:05.804632Z",
     "shell.execute_reply": "2023-05-22T12:36:05.810373Z"
    },
    "trusted": true
   },
   "execution_count": 76,
   "outputs": []
  },
  {
   "cell_type": "code",
   "source": [
    "model = CNNModel(40, 100).to(device)\n",
    "criterion = nn.BCEWithLogitsLoss()\n",
    "optimizer = torch.optim.Adam(model.parameters(), lr=1e-5)\n",
    "num_epochs = 16\n",
    "loss_train_hist, loss_valid_hist = training_cnn(model, criterion, optimizer, num_epochs, trainloader, validloader)"
   ],
   "metadata": {
    "execution": {
     "iopub.status.busy": "2023-05-22T12:36:06.227677Z",
     "iopub.execute_input": "2023-05-22T12:36:06.229040Z",
     "iopub.status.idle": "2023-05-22T12:41:17.784541Z",
     "shell.execute_reply.started": "2023-05-22T12:36:06.228986Z",
     "shell.execute_reply": "2023-05-22T12:41:17.782862Z"
    },
    "trusted": true
   },
   "execution_count": 77,
   "outputs": [
    {
     "name": "stderr",
     "text": "100%|██████████| 16/16 [05:11<00:00, 19.47s/it]\n",
     "output_type": "stream"
    }
   ]
  },
  {
   "cell_type": "code",
   "source": [
    "plot_loss(loss_train_hist, loss_valid_hist)"
   ],
   "metadata": {
    "execution": {
     "iopub.status.busy": "2023-05-22T12:42:39.431057Z",
     "iopub.execute_input": "2023-05-22T12:42:39.431566Z",
     "iopub.status.idle": "2023-05-22T12:42:39.747249Z",
     "shell.execute_reply.started": "2023-05-22T12:42:39.431524Z",
     "shell.execute_reply": "2023-05-22T12:42:39.745900Z"
    },
    "trusted": true
   },
   "execution_count": 78,
   "outputs": [
    {
     "output_type": "display_data",
     "data": {
      "text/plain": "<Figure size 432x288 with 1 Axes>",
      "image/png": "[encoded data removed]"
     },
     "metadata": {
      "needs_background": "light"
     }
    }
   ]
  },
  {
   "cell_type": "code",
   "source": [
    "evaluate_model_cnn(testloader, model)"
   ],
   "metadata": {
    "execution": {
     "iopub.status.busy": "2023-05-22T12:42:43.746658Z",
     "iopub.execute_input": "2023-05-22T12:42:43.747106Z",
     "iopub.status.idle": "2023-05-22T12:42:45.290919Z",
     "shell.execute_reply.started": "2023-05-22T12:42:43.747070Z",
     "shell.execute_reply": "2023-05-22T12:42:45.289401Z"
    },
    "trusted": true
   },
   "execution_count": 79,
   "outputs": [
    {
     "execution_count": 79,
     "output_type": "execute_result",
     "data": {
      "text/plain": "   accuracy    recall  precision   f1_scor       auc\n0  0.902206  0.847518   0.953457  0.897372  0.959425",
      "text/html": "<div>\n<style scoped>\n    .dataframe tbody tr th:only-of-type {\n        vertical-align: middle;\n    }\n\n    .dataframe tbody tr th {\n        vertical-align: top;\n    }\n\n    .dataframe thead th {\n        text-align: right;\n    }\n</style>\n<table border=\"1\" class=\"dataframe\">\n  <thead>\n    <tr style=\"text-align: right;\">\n      <th></th>\n      <th>accuracy</th>\n      <th>recall</th>\n      <th>precision</th>\n      <th>f1_scor</th>\n      <th>auc</th>\n    </tr>\n  </thead>\n  <tbody>\n    <tr>\n      <th>0</th>\n      <td>0.902206</td>\n      <td>0.847518</td>\n      <td>0.953457</td>\n      <td>0.897372</td>\n      <td>0.959425</td>\n    </tr>\n  </tbody>\n</table>\n</div>"
     },
     "metadata": {}
    }
   ]
  },
  {
   "cell_type": "code",
   "source": [
    "model = RNN(40, 24, 70, 2).to(device)\n",
    "criterion = nn.BCEWithLogitsLoss()\n",
    "optimizer = torch.optim.Adam(model.parameters(), lr=1e-5)\n",
    "num_epochs = 15\n",
    "loss_train_hist, loss_valid_hist = training_cnn(model, criterion, optimizer, num_epochs, trainloader, validloader)"
   ],
   "metadata": {
    "execution": {
     "iopub.status.busy": "2023-05-22T12:43:54.644696Z",
     "iopub.execute_input": "2023-05-22T12:43:54.645209Z",
     "iopub.status.idle": "2023-05-22T12:54:20.096495Z",
     "shell.execute_reply.started": "2023-05-22T12:43:54.645155Z",
     "shell.execute_reply": "2023-05-22T12:54:20.095064Z"
    },
    "trusted": true
   },
   "execution_count": 80,
   "outputs": [
    {
     "name": "stderr",
     "text": "100%|██████████| 15/15 [10:25<00:00, 41.70s/it]\n",
     "output_type": "stream"
    }
   ]
  },
  {
   "cell_type": "code",
   "source": [
    "plot_loss(loss_train_hist, loss_valid_hist)"
   ],
   "metadata": {
    "execution": {
     "iopub.status.busy": "2023-05-22T12:54:47.366367Z",
     "iopub.execute_input": "2023-05-22T12:54:47.366840Z",
     "iopub.status.idle": "2023-05-22T12:54:47.665591Z",
     "shell.execute_reply.started": "2023-05-22T12:54:47.366800Z",
     "shell.execute_reply": "2023-05-22T12:54:47.664337Z"
    },
    "trusted": true
   },
   "execution_count": 81,
   "outputs": [
    {
     "output_type": "display_data",
     "data": {
      "text/plain": "<Figure size 432x288 with 1 Axes>",
      "image/png": "[encoded data removed]"
     },
     "metadata": {
      "needs_background": "light"
     }
    }
   ]
  },
  {
   "cell_type": "code",
   "source": [
    "evaluate_model_cnn(testloader, model)"
   ],
   "metadata": {
    "execution": {
     "iopub.status.busy": "2023-05-22T12:54:50.503087Z",
     "iopub.execute_input": "2023-05-22T12:54:50.504249Z",
     "iopub.status.idle": "2023-05-22T12:54:52.628803Z",
     "shell.execute_reply.started": "2023-05-22T12:54:50.504202Z",
     "shell.execute_reply": "2023-05-22T12:54:52.627083Z"
    },
    "trusted": true
   },
   "execution_count": 82,
   "outputs": [
    {
     "execution_count": 82,
     "output_type": "execute_result",
     "data": {
      "text/plain": "   accuracy    recall  precision   f1_scor       auc\n0  0.905188  0.868794   0.938697  0.902394  0.957798",
      "text/html": "<div>\n<style scoped>\n    .dataframe tbody tr th:only-of-type {\n        vertical-align: middle;\n    }\n\n    .dataframe tbody tr th {\n        vertical-align: top;\n    }\n\n    .dataframe thead th {\n        text-align: right;\n    }\n</style>\n<table border=\"1\" class=\"dataframe\">\n  <thead>\n    <tr style=\"text-align: right;\">\n      <th></th>\n      <th>accuracy</th>\n      <th>recall</th>\n      <th>precision</th>\n      <th>f1_scor</th>\n      <th>auc</th>\n    </tr>\n  </thead>\n  <tbody>\n    <tr>\n      <th>0</th>\n      <td>0.905188</td>\n      <td>0.868794</td>\n      <td>0.938697</td>\n      <td>0.902394</td>\n      <td>0.957798</td>\n    </tr>\n  </tbody>\n</table>\n</div>"
     },
     "metadata": {}
    }
   ]
  },
  {
   "cell_type": "code",
   "source": [],
   "metadata": {},
   "execution_count": null,
   "outputs": []
  }
 ]
}
