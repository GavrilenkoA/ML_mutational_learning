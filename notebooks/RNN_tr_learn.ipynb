{
 "metadata": {
  "kernelspec": {
   "language": "python",
   "display_name": "Python 3",
   "name": "python3"
  },
  "language_info": {
   "name": "python",
   "version": "3.10.10",
   "mimetype": "text/x-python",
   "codemirror_mode": {
    "name": "ipython",
    "version": 3
   },
   "pygments_lexer": "ipython3",
   "nbconvert_exporter": "python",
   "file_extension": ".py"
  }
 },
 "nbformat_minor": 4,
 "nbformat": 4,
 "cells": [
  {
   "cell_type": "code",
   "source": [
    "import torch.nn as nn\n",
    "from torch.utils.data import DataLoader\n",
    "import pandas as pd\n",
    "import random\n",
    "import os\n",
    "import numpy as np\n",
    "import torch\n",
    "import sys\n",
    "from scipy import stats\n",
    "import matplotlib.pyplot as plt"
   ],
   "metadata": {
    "_uuid": "d51065bd-5f6f-440d-8e3c-ef91933ac235",
    "_cell_guid": "30081376-67b3-43e0-8df3-c47f4628cd52",
    "collapsed": false,
    "jupyter": {
     "outputs_hidden": false
    },
    "execution": {
     "iopub.status.busy": "2023-06-03T07:06:45.843499Z",
     "iopub.execute_input": "2023-06-03T07:06:45.843932Z",
     "iopub.status.idle": "2023-06-03T07:06:45.849865Z",
     "shell.execute_reply.started": "2023-06-03T07:06:45.843899Z",
     "shell.execute_reply": "2023-06-03T07:06:45.848882Z"
    },
    "trusted": true
   },
   "execution_count": 92,
   "outputs": []
  },
  {
   "cell_type": "code",
   "source": [
    "device = torch.device('cuda' if torch.cuda.is_available() else 'cpu')"
   ],
   "metadata": {
    "execution": {
     "iopub.status.busy": "2023-06-03T04:42:43.014318Z",
     "iopub.execute_input": "2023-06-03T04:42:43.014695Z",
     "iopub.status.idle": "2023-06-03T04:42:43.019667Z",
     "shell.execute_reply.started": "2023-06-03T04:42:43.014665Z",
     "shell.execute_reply": "2023-06-03T04:42:43.018682Z"
    },
    "trusted": true
   },
   "execution_count": 16,
   "outputs": []
  },
  {
   "cell_type": "code",
   "source": [
    "def seed_everything(seed):\n",
    "    random.seed(seed)\n",
    "    os.environ['PYTHONHASHSEED'] = str(seed)\n",
    "    np.random.seed(seed)\n",
    "    torch.manual_seed(seed)\n",
    "    torch.cuda.manual_seed(seed)\n",
    "    torch.backends.cudnn.benchmark = True\n",
    "\n",
    "SEED = 42\n",
    "seed_everything(SEED)"
   ],
   "metadata": {
    "execution": {
     "iopub.status.busy": "2023-06-03T04:42:44.505874Z",
     "iopub.execute_input": "2023-06-03T04:42:44.506852Z",
     "iopub.status.idle": "2023-06-03T04:42:44.514640Z",
     "shell.execute_reply.started": "2023-06-03T04:42:44.506804Z",
     "shell.execute_reply": "2023-06-03T04:42:44.513342Z"
    },
    "trusted": true
   },
   "execution_count": 17,
   "outputs": []
  },
  {
   "cell_type": "code",
   "execution_count": null,
   "outputs": [],
   "source": [
    "sys.path.append('../utils')"
   ],
   "metadata": {
    "collapsed": false
   }
  },
  {
   "cell_type": "code",
   "source": [
    "from training_nn import training_rnn\n",
    "from evaluation import plot_loss, evaluate_model_rnn\n",
    "from process_data import get_desc, get_data\n",
    "from models import RNNembed\n",
    "from dataset import Abencode2"
   ],
   "metadata": {
    "execution": {
     "iopub.status.busy": "2023-06-03T04:43:20.891131Z",
     "iopub.execute_input": "2023-06-03T04:43:20.891521Z",
     "iopub.status.idle": "2023-06-03T04:43:20.896705Z",
     "shell.execute_reply.started": "2023-06-03T04:43:20.891491Z",
     "shell.execute_reply": "2023-06-03T04:43:20.895817Z"
    },
    "trusted": true
   },
   "execution_count": 18,
   "outputs": []
  },
  {
   "cell_type": "code",
   "source": [
    "train_path = '../dataset/phys_train.csv'\n",
    "test_path = '../dataset/phys_test.csv'"
   ],
   "metadata": {
    "execution": {
     "iopub.status.busy": "2023-06-03T04:43:21.597890Z",
     "iopub.execute_input": "2023-06-03T04:43:21.598838Z",
     "iopub.status.idle": "2023-06-03T04:43:21.603982Z",
     "shell.execute_reply.started": "2023-06-03T04:43:21.598800Z",
     "shell.execute_reply": "2023-06-03T04:43:21.602962Z"
    },
    "trusted": true
   },
   "execution_count": 19,
   "outputs": []
  },
  {
   "cell_type": "code",
   "source": [
    "train = pd.read_csv(train_path)\n",
    "test = pd.read_csv(test_path)\n"
   ],
   "metadata": {
    "execution": {
     "iopub.status.busy": "2023-06-03T04:43:22.186068Z",
     "iopub.execute_input": "2023-06-03T04:43:22.187142Z",
     "iopub.status.idle": "2023-06-03T04:43:50.026500Z",
     "shell.execute_reply.started": "2023-06-03T04:43:22.187094Z",
     "shell.execute_reply": "2023-06-03T04:43:50.025450Z"
    },
    "trusted": true
   },
   "execution_count": 20,
   "outputs": []
  },
  {
   "cell_type": "markdown",
   "source": [
    "Convert string to float sequence features"
   ],
   "metadata": {
    "collapsed": false
   }
  },
  {
   "cell_type": "code",
   "source": [
    "train['repr'] = get_desc(train)\n",
    "test['repr'] = get_desc(test)"
   ],
   "metadata": {
    "execution": {
     "iopub.status.busy": "2023-06-03T04:44:13.699931Z",
     "iopub.execute_input": "2023-06-03T04:44:13.700664Z",
     "iopub.status.idle": "2023-06-03T04:49:56.744320Z",
     "shell.execute_reply.started": "2023-06-03T04:44:13.700623Z",
     "shell.execute_reply": "2023-06-03T04:49:56.743075Z"
    },
    "trusted": true
   },
   "execution_count": 21,
   "outputs": []
  },
  {
   "cell_type": "code",
   "source": [
    "train_target, valid_target, target_test, back_train = get_data(train, test, samples = 200, target_ab='REGN33')"
   ],
   "metadata": {
    "execution": {
     "iopub.status.busy": "2023-06-03T04:50:07.618152Z",
     "iopub.execute_input": "2023-06-03T04:50:07.619295Z",
     "iopub.status.idle": "2023-06-03T04:50:07.721218Z",
     "shell.execute_reply.started": "2023-06-03T04:50:07.619244Z",
     "shell.execute_reply": "2023-06-03T04:50:07.720071Z"
    },
    "trusted": true
   },
   "execution_count": 22,
   "outputs": []
  },
  {
   "cell_type": "code",
   "source": [
    "train_target"
   ],
   "metadata": {
    "execution": {
     "iopub.status.busy": "2023-06-03T04:50:08.699894Z",
     "iopub.execute_input": "2023-06-03T04:50:08.700743Z",
     "iopub.status.idle": "2023-06-03T04:50:08.890133Z",
     "shell.execute_reply.started": "2023-06-03T04:50:08.700707Z",
     "shell.execute_reply": "2023-06-03T04:50:08.888989Z"
    },
    "trusted": true
   },
   "execution_count": 23,
   "outputs": [
    {
     "execution_count": 23,
     "output_type": "execute_result",
     "data": {
      "text/plain": "                     junction_aa  Label  Distance Antibody  \\\n104975  CCRGFNCYVPLMNYGFWRTSGVGY      0         9   REGN33   \n145322  EIRGFNCYCPLYRYGFWPTNGRNW      0        10   REGN33   \n128872  KNTGFNCYEPLSTYGFWRTVGLGY      0         8   REGN33   \n54774   KNEGFNCYGPIVQYGFWTTSGRDY      1         9   REGN33   \n49358   KNTGFNCYPPIATYGFWPTGGIGW      1         9   REGN33   \n...                          ...    ...       ...      ...   \n117752  KNKQFNCYGPIMAYGFYPTVGENW      1        11   REGN33   \n49438   KNTGFNCYAPLVHYGFYPTVGNDW      1         9   REGN33   \n88584   GNAGFNCYWPIDAYGFHPTVGMSF      0        11   REGN33   \n119550  KNRQFNCYLPIVNYGFYPTVGLGW      0        10   REGN33   \n106557  KNAKFNCYCPLVNYGFYTTAGSGW      0        10   REGN33   \n\n                                                     repr  \n104975  [[0.0, 0.0, 1.0, 0.0, 0.0, 0.0, 0.0, 0.0, 0.0,...  \n145322  [[0.0, 0.0, 0.0, 0.0, 1.0, 0.0, 0.0, 0.0, 0.0,...  \n128872  [[0.0, 0.0, 0.0, 0.0, 0.0, 0.0, 0.0, 0.0, 0.0,...  \n54774   [[0.0, 0.0, 0.0, 0.0, 0.0, 0.0, 0.0, 0.0, 0.0,...  \n49358   [[0.0, 0.0, 0.0, 0.0, 0.0, 0.0, 0.0, 0.0, 0.0,...  \n...                                                   ...  \n117752  [[0.0, 0.0, 0.0, 0.0, 0.0, 0.0, 0.0, 0.0, 0.0,...  \n49438   [[0.0, 0.0, 0.0, 0.0, 0.0, 0.0, 0.0, 0.0, 0.0,...  \n88584   [[0.0, 0.0, 0.0, 0.0, 0.0, 0.0, 1.0, 0.0, 0.0,...  \n119550  [[0.0, 0.0, 0.0, 0.0, 0.0, 0.0, 0.0, 0.0, 0.0,...  \n106557  [[0.0, 0.0, 0.0, 0.0, 0.0, 0.0, 0.0, 0.0, 0.0,...  \n\n[100 rows x 5 columns]",
      "text/html": "<div>\n<style scoped>\n    .dataframe tbody tr th:only-of-type {\n        vertical-align: middle;\n    }\n\n    .dataframe tbody tr th {\n        vertical-align: top;\n    }\n\n    .dataframe thead th {\n        text-align: right;\n    }\n</style>\n<table border=\"1\" class=\"dataframe\">\n  <thead>\n    <tr style=\"text-align: right;\">\n      <th></th>\n      <th>junction_aa</th>\n      <th>Label</th>\n      <th>Distance</th>\n      <th>Antibody</th>\n      <th>repr</th>\n    </tr>\n  </thead>\n  <tbody>\n    <tr>\n      <th>104975</th>\n      <td>CCRGFNCYVPLMNYGFWRTSGVGY</td>\n      <td>0</td>\n      <td>9</td>\n      <td>REGN33</td>\n      <td>[[0.0, 0.0, 1.0, 0.0, 0.0, 0.0, 0.0, 0.0, 0.0,...</td>\n    </tr>\n    <tr>\n      <th>145322</th>\n      <td>EIRGFNCYCPLYRYGFWPTNGRNW</td>\n      <td>0</td>\n      <td>10</td>\n      <td>REGN33</td>\n      <td>[[0.0, 0.0, 0.0, 0.0, 1.0, 0.0, 0.0, 0.0, 0.0,...</td>\n    </tr>\n    <tr>\n      <th>128872</th>\n      <td>KNTGFNCYEPLSTYGFWRTVGLGY</td>\n      <td>0</td>\n      <td>8</td>\n      <td>REGN33</td>\n      <td>[[0.0, 0.0, 0.0, 0.0, 0.0, 0.0, 0.0, 0.0, 0.0,...</td>\n    </tr>\n    <tr>\n      <th>54774</th>\n      <td>KNEGFNCYGPIVQYGFWTTSGRDY</td>\n      <td>1</td>\n      <td>9</td>\n      <td>REGN33</td>\n      <td>[[0.0, 0.0, 0.0, 0.0, 0.0, 0.0, 0.0, 0.0, 0.0,...</td>\n    </tr>\n    <tr>\n      <th>49358</th>\n      <td>KNTGFNCYPPIATYGFWPTGGIGW</td>\n      <td>1</td>\n      <td>9</td>\n      <td>REGN33</td>\n      <td>[[0.0, 0.0, 0.0, 0.0, 0.0, 0.0, 0.0, 0.0, 0.0,...</td>\n    </tr>\n    <tr>\n      <th>...</th>\n      <td>...</td>\n      <td>...</td>\n      <td>...</td>\n      <td>...</td>\n      <td>...</td>\n    </tr>\n    <tr>\n      <th>117752</th>\n      <td>KNKQFNCYGPIMAYGFYPTVGENW</td>\n      <td>1</td>\n      <td>11</td>\n      <td>REGN33</td>\n      <td>[[0.0, 0.0, 0.0, 0.0, 0.0, 0.0, 0.0, 0.0, 0.0,...</td>\n    </tr>\n    <tr>\n      <th>49438</th>\n      <td>KNTGFNCYAPLVHYGFYPTVGNDW</td>\n      <td>1</td>\n      <td>9</td>\n      <td>REGN33</td>\n      <td>[[0.0, 0.0, 0.0, 0.0, 0.0, 0.0, 0.0, 0.0, 0.0,...</td>\n    </tr>\n    <tr>\n      <th>88584</th>\n      <td>GNAGFNCYWPIDAYGFHPTVGMSF</td>\n      <td>0</td>\n      <td>11</td>\n      <td>REGN33</td>\n      <td>[[0.0, 0.0, 0.0, 0.0, 0.0, 0.0, 1.0, 0.0, 0.0,...</td>\n    </tr>\n    <tr>\n      <th>119550</th>\n      <td>KNRQFNCYLPIVNYGFYPTVGLGW</td>\n      <td>0</td>\n      <td>10</td>\n      <td>REGN33</td>\n      <td>[[0.0, 0.0, 0.0, 0.0, 0.0, 0.0, 0.0, 0.0, 0.0,...</td>\n    </tr>\n    <tr>\n      <th>106557</th>\n      <td>KNAKFNCYCPLVNYGFYTTAGSGW</td>\n      <td>0</td>\n      <td>10</td>\n      <td>REGN33</td>\n      <td>[[0.0, 0.0, 0.0, 0.0, 0.0, 0.0, 0.0, 0.0, 0.0,...</td>\n    </tr>\n  </tbody>\n</table>\n<p>100 rows × 5 columns</p>\n</div>"
     },
     "metadata": {}
    }
   ]
  },
  {
   "cell_type": "markdown",
   "source": [
    "Convert dataframes to torch dataloader"
   ],
   "metadata": {
    "collapsed": false
   }
  },
  {
   "cell_type": "code",
   "source": [
    "def prepare_dataloader(df, dataset_torch, batch_size=5, shuffle=True):\n",
    "    dataset = dataset_torch(df)\n",
    "    dataloader = DataLoader(dataset, batch_size=batch_size, shuffle=shuffle, num_workers=2)\n",
    "    return dataloader"
   ],
   "metadata": {
    "execution": {
     "iopub.status.busy": "2023-06-03T04:50:15.213492Z",
     "iopub.execute_input": "2023-06-03T04:50:15.213861Z",
     "iopub.status.idle": "2023-06-03T04:50:15.219478Z",
     "shell.execute_reply.started": "2023-06-03T04:50:15.213828Z",
     "shell.execute_reply": "2023-06-03T04:50:15.218426Z"
    },
    "trusted": true
   },
   "execution_count": 24,
   "outputs": []
  },
  {
   "cell_type": "code",
   "source": [
    "validloader = prepare_dataloader(valid_target, Abencode2, shuffle=False, batch_size=10)\n",
    "trainloader_target = prepare_dataloader(train_target, Abencode2, shuffle=True, batch_size=5)\n",
    "testloader = prepare_dataloader(target_test, Abencode2, shuffle=False, batch_size=50)\n",
    "trainloader_back = prepare_dataloader(back_train, Abencode2, shuffle=True, batch_size=10)"
   ],
   "metadata": {
    "execution": {
     "iopub.status.busy": "2023-06-03T04:50:16.255806Z",
     "iopub.execute_input": "2023-06-03T04:50:16.256191Z",
     "iopub.status.idle": "2023-06-03T04:50:16.269406Z",
     "shell.execute_reply.started": "2023-06-03T04:50:16.256158Z",
     "shell.execute_reply": "2023-06-03T04:50:16.268326Z"
    },
    "trusted": true
   },
   "execution_count": 25,
   "outputs": []
  },
  {
   "cell_type": "markdown",
   "source": [
    "Train base model using only REGN33 data "
   ],
   "metadata": {}
  },
  {
   "cell_type": "code",
   "source": [
    "model = RNNembed().to(device)\n",
    "criterion = nn.BCEWithLogitsLoss()\n",
    "optimizer = torch.optim.Adam(model.parameters(), lr=1e-5)\n",
    "num_epochs = 30\n",
    "loss_train_hist, loss_valid_hist = training_rnn(model, criterion, optimizer, num_epochs, trainloader_target, validloader)"
   ],
   "metadata": {
    "execution": {
     "iopub.status.busy": "2023-06-03T06:18:05.002988Z",
     "iopub.execute_input": "2023-06-03T06:18:05.004165Z",
     "iopub.status.idle": "2023-06-03T06:18:33.681824Z",
     "shell.execute_reply.started": "2023-06-03T06:18:05.004107Z",
     "shell.execute_reply": "2023-06-03T06:18:33.680594Z"
    },
    "trusted": true
   },
   "execution_count": 51,
   "outputs": [
    {
     "name": "stderr",
     "text": "100%|██████████| 30/30 [00:28<00:00,  1.05it/s]\n",
     "output_type": "stream"
    }
   ]
  },
  {
   "cell_type": "code",
   "source": [
    "plot_loss(loss_train_hist, loss_valid_hist)"
   ],
   "metadata": {
    "execution": {
     "iopub.status.busy": "2023-06-03T06:19:07.322287Z",
     "iopub.execute_input": "2023-06-03T06:19:07.322778Z",
     "iopub.status.idle": "2023-06-03T06:19:07.631903Z",
     "shell.execute_reply.started": "2023-06-03T06:19:07.322729Z",
     "shell.execute_reply": "2023-06-03T06:19:07.630952Z"
    },
    "trusted": true
   },
   "execution_count": 52,
   "outputs": [
    {
     "output_type": "display_data",
     "data": {
      "text/plain": "<Figure size 640x480 with 1 Axes>",
      "image/png": "[encoded data removed]"
     },
     "metadata": {}
    }
   ]
  },
  {
   "cell_type": "code",
   "source": [
    "evaluate_model_rnn(testloader, model)"
   ],
   "metadata": {
    "execution": {
     "iopub.status.busy": "2023-06-03T06:19:10.252841Z",
     "iopub.execute_input": "2023-06-03T06:19:10.254030Z",
     "iopub.status.idle": "2023-06-03T06:19:12.685434Z",
     "shell.execute_reply.started": "2023-06-03T06:19:10.253975Z",
     "shell.execute_reply": "2023-06-03T06:19:12.684309Z"
    },
    "trusted": true
   },
   "execution_count": 53,
   "outputs": [
    {
     "execution_count": 53,
     "output_type": "execute_result",
     "data": {
      "text/plain": "   accuracy    recall  precision   f1_scor       auc\n0  0.762821  0.682356   0.812712  0.741851  0.855227",
      "text/html": "<div>\n<style scoped>\n    .dataframe tbody tr th:only-of-type {\n        vertical-align: middle;\n    }\n\n    .dataframe tbody tr th {\n        vertical-align: top;\n    }\n\n    .dataframe thead th {\n        text-align: right;\n    }\n</style>\n<table border=\"1\" class=\"dataframe\">\n  <thead>\n    <tr style=\"text-align: right;\">\n      <th></th>\n      <th>accuracy</th>\n      <th>recall</th>\n      <th>precision</th>\n      <th>f1_scor</th>\n      <th>auc</th>\n    </tr>\n  </thead>\n  <tbody>\n    <tr>\n      <th>0</th>\n      <td>0.762821</td>\n      <td>0.682356</td>\n      <td>0.812712</td>\n      <td>0.741851</td>\n      <td>0.855227</td>\n    </tr>\n  </tbody>\n</table>\n</div>"
     },
     "metadata": {}
    }
   ]
  },
  {
   "cell_type": "markdown",
   "source": [
    "Pre-Training model using data of background antibodies (not including antibody of interest)"
   ],
   "metadata": {}
  },
  {
   "cell_type": "code",
   "source": [
    "model = RNNembed().to(device)\n",
    "criterion = nn.BCEWithLogitsLoss()\n",
    "optimizer = torch.optim.Adam(model.parameters(), lr=1e-5)\n",
    "num_epochs = 20\n",
    "loss_train_hist, loss_valid_hist = training_rnn(model, criterion, optimizer, num_epochs, trainloader_back, validloader)"
   ],
   "metadata": {
    "execution": {
     "iopub.status.busy": "2023-06-03T04:51:37.586275Z",
     "iopub.execute_input": "2023-06-03T04:51:37.586658Z",
     "iopub.status.idle": "2023-06-03T05:15:16.847565Z",
     "shell.execute_reply.started": "2023-06-03T04:51:37.586626Z",
     "shell.execute_reply": "2023-06-03T05:15:16.846260Z"
    },
    "trusted": true
   },
   "execution_count": 29,
   "outputs": [
    {
     "name": "stderr",
     "text": "100%|██████████| 20/20 [23:39<00:00, 70.96s/it]\n",
     "output_type": "stream"
    }
   ]
  },
  {
   "cell_type": "code",
   "source": [
    "plot_loss(loss_train_hist, loss_valid_hist)"
   ],
   "metadata": {
    "execution": {
     "iopub.status.busy": "2023-06-03T05:24:56.052446Z",
     "iopub.execute_input": "2023-06-03T05:24:56.053453Z",
     "iopub.status.idle": "2023-06-03T05:24:56.498374Z",
     "shell.execute_reply.started": "2023-06-03T05:24:56.053402Z",
     "shell.execute_reply": "2023-06-03T05:24:56.497091Z"
    },
    "trusted": true
   },
   "execution_count": 30,
   "outputs": [
    {
     "output_type": "display_data",
     "data": {
      "text/plain": "<Figure size 640x480 with 1 Axes>",
      "image/png": "[encoded data removed]"
     },
     "metadata": {}
    }
   ]
  },
  {
   "cell_type": "code",
   "source": [
    "evaluate_model_rnn(testloader, model)  "
   ],
   "metadata": {
    "execution": {
     "iopub.status.busy": "2023-06-03T05:25:04.796975Z",
     "iopub.execute_input": "2023-06-03T05:25:04.797388Z",
     "iopub.status.idle": "2023-06-03T05:25:07.256822Z",
     "shell.execute_reply.started": "2023-06-03T05:25:04.797356Z",
     "shell.execute_reply": "2023-06-03T05:25:07.255733Z"
    },
    "trusted": true
   },
   "execution_count": 31,
   "outputs": [
    {
     "execution_count": 31,
     "output_type": "execute_result",
     "data": {
      "text/plain": "   accuracy    recall  precision   f1_scor      auc\n0  0.663248  0.612952   0.680933  0.645156  0.72292",
      "text/html": "<div>\n<style scoped>\n    .dataframe tbody tr th:only-of-type {\n        vertical-align: middle;\n    }\n\n    .dataframe tbody tr th {\n        vertical-align: top;\n    }\n\n    .dataframe thead th {\n        text-align: right;\n    }\n</style>\n<table border=\"1\" class=\"dataframe\">\n  <thead>\n    <tr style=\"text-align: right;\">\n      <th></th>\n      <th>accuracy</th>\n      <th>recall</th>\n      <th>precision</th>\n      <th>f1_scor</th>\n      <th>auc</th>\n    </tr>\n  </thead>\n  <tbody>\n    <tr>\n      <th>0</th>\n      <td>0.663248</td>\n      <td>0.612952</td>\n      <td>0.680933</td>\n      <td>0.645156</td>\n      <td>0.72292</td>\n    </tr>\n  </tbody>\n</table>\n</div>"
     },
     "metadata": {}
    }
   ]
  },
  {
   "cell_type": "markdown",
   "source": [
    "Save  pretrained model"
   ],
   "metadata": {}
  },
  {
   "cell_type": "code",
   "source": [
    "torch.save(model.state_dict(), 'model.pth')"
   ],
   "metadata": {},
   "execution_count": null,
   "outputs": []
  },
  {
   "cell_type": "code",
   "source": [
    "def copy_model(model, *args):\n",
    "    model_copy = type(model)(*args)\n",
    "    model_copy.load_state_dict(model.state_dict())\n",
    "    return model_copy.to(device)"
   ],
   "metadata": {
    "execution": {
     "iopub.status.busy": "2023-06-03T05:25:18.610825Z",
     "iopub.execute_input": "2023-06-03T05:25:18.611441Z",
     "iopub.status.idle": "2023-06-03T05:25:18.618132Z",
     "shell.execute_reply.started": "2023-06-03T05:25:18.611397Z",
     "shell.execute_reply": "2023-06-03T05:25:18.617065Z"
    },
    "trusted": true
   },
   "execution_count": 32,
   "outputs": []
  },
  {
   "cell_type": "markdown",
   "source": [
    "Copy model with the same weights"
   ],
   "metadata": {}
  },
  {
   "cell_type": "code",
   "source": [
    "model_copy = copy_model(model)"
   ],
   "metadata": {
    "execution": {
     "iopub.status.busy": "2023-06-03T05:25:53.427463Z",
     "iopub.execute_input": "2023-06-03T05:25:53.428265Z",
     "iopub.status.idle": "2023-06-03T05:25:53.496376Z",
     "shell.execute_reply.started": "2023-06-03T05:25:53.428212Z",
     "shell.execute_reply": "2023-06-03T05:25:53.495112Z"
    },
    "trusted": true
   },
   "execution_count": 34,
   "outputs": []
  },
  {
   "cell_type": "markdown",
   "source": [
    "Freeze weights except of linear1 and linear2 layers"
   ],
   "metadata": {}
  },
  {
   "cell_type": "code",
   "source": [
    "def freeze_weights(model, name_layers=['linear1', 'linear2']):\n",
    "    for name, param in model.named_parameters():\n",
    "        if not any([layer in name for layer in name_layers]):\n",
    "            param.requires_grad = False\n",
    "    return model\n",
    "    "
   ],
   "metadata": {
    "execution": {
     "iopub.status.busy": "2023-06-03T05:26:10.114740Z",
     "iopub.execute_input": "2023-06-03T05:26:10.115134Z",
     "iopub.status.idle": "2023-06-03T05:26:10.120649Z",
     "shell.execute_reply.started": "2023-06-03T05:26:10.115099Z",
     "shell.execute_reply": "2023-06-03T05:26:10.119689Z"
    },
    "trusted": true
   },
   "execution_count": 36,
   "outputs": []
  },
  {
   "cell_type": "code",
   "source": [
    "model_copy = freeze_weights(model_copy)"
   ],
   "metadata": {
    "execution": {
     "iopub.status.busy": "2023-06-03T05:26:10.424904Z",
     "iopub.execute_input": "2023-06-03T05:26:10.425633Z",
     "iopub.status.idle": "2023-06-03T05:26:10.430716Z",
     "shell.execute_reply.started": "2023-06-03T05:26:10.425600Z",
     "shell.execute_reply": "2023-06-03T05:26:10.429475Z"
    },
    "trusted": true
   },
   "execution_count": 37,
   "outputs": []
  },
  {
   "cell_type": "markdown",
   "source": [
    "Fine-tune the model updating the weights only of linear layers"
   ],
   "metadata": {}
  },
  {
   "cell_type": "code",
   "source": [
    "criterion = nn.BCEWithLogitsLoss()\n",
    "optimizer = torch.optim.Adam(model_copy.parameters(), lr=1e-3)\n",
    "num_epochs = 10\n",
    "loss_train_hist, loss_valid_hist = training_rnn(model_copy, criterion, optimizer, num_epochs, trainloader_target, validloader)"
   ],
   "metadata": {
    "execution": {
     "iopub.status.busy": "2023-06-03T05:26:19.446088Z",
     "iopub.execute_input": "2023-06-03T05:26:19.446769Z",
     "iopub.status.idle": "2023-06-03T05:26:28.886504Z",
     "shell.execute_reply.started": "2023-06-03T05:26:19.446735Z",
     "shell.execute_reply": "2023-06-03T05:26:28.884909Z"
    },
    "trusted": true
   },
   "execution_count": 38,
   "outputs": [
    {
     "name": "stderr",
     "text": "100%|██████████| 10/10 [00:09<00:00,  1.06it/s]\n",
     "output_type": "stream"
    }
   ]
  },
  {
   "cell_type": "code",
   "source": [
    "evaluate_model_rnn(testloader, model_copy)"
   ],
   "metadata": {
    "execution": {
     "iopub.status.busy": "2023-06-03T05:26:30.517428Z",
     "iopub.execute_input": "2023-06-03T05:26:30.517841Z",
     "iopub.status.idle": "2023-06-03T05:26:32.984993Z",
     "shell.execute_reply.started": "2023-06-03T05:26:30.517806Z",
     "shell.execute_reply": "2023-06-03T05:26:32.983777Z"
    },
    "trusted": true
   },
   "execution_count": 39,
   "outputs": [
    {
     "execution_count": 39,
     "output_type": "execute_result",
     "data": {
      "text/plain": "   accuracy    recall  precision   f1_scor       auc\n0  0.837988  0.798531   0.866602  0.831175  0.921381",
      "text/html": "<div>\n<style scoped>\n    .dataframe tbody tr th:only-of-type {\n        vertical-align: middle;\n    }\n\n    .dataframe tbody tr th {\n        vertical-align: top;\n    }\n\n    .dataframe thead th {\n        text-align: right;\n    }\n</style>\n<table border=\"1\" class=\"dataframe\">\n  <thead>\n    <tr style=\"text-align: right;\">\n      <th></th>\n      <th>accuracy</th>\n      <th>recall</th>\n      <th>precision</th>\n      <th>f1_scor</th>\n      <th>auc</th>\n    </tr>\n  </thead>\n  <tbody>\n    <tr>\n      <th>0</th>\n      <td>0.837988</td>\n      <td>0.798531</td>\n      <td>0.866602</td>\n      <td>0.831175</td>\n      <td>0.921381</td>\n    </tr>\n  </tbody>\n</table>\n</div>"
     },
     "metadata": {}
    }
   ]
  },
  {
   "cell_type": "code",
   "source": [
    "target_df = train.loc[train['Antibody'] == 'REGN33']"
   ],
   "metadata": {
    "execution": {
     "iopub.status.busy": "2023-06-03T05:54:55.793060Z",
     "iopub.execute_input": "2023-06-03T05:54:55.794198Z",
     "iopub.status.idle": "2023-06-03T05:54:55.844272Z",
     "shell.execute_reply.started": "2023-06-03T05:54:55.794143Z",
     "shell.execute_reply": "2023-06-03T05:54:55.843343Z"
    },
    "trusted": true
   },
   "execution_count": 41,
   "outputs": []
  },
  {
   "cell_type": "markdown",
   "source": [
    "Extract  40 different samples of RBD sequences neutralized by REGN 33 antibody"
   ],
   "metadata": {}
  },
  {
   "cell_type": "code",
   "source": [
    "def sample_target(target_df, seeds = np.arange(40), size = 100):\n",
    "    target_data = []\n",
    "    for seed in seeds:\n",
    "        train_target = target_df.sample(n=size, random_state=seed)\n",
    "        trainloader = prepare_dataloader(train_target, Abencode2, shuffle=True, batch_size=5)\n",
    "        target_data.append(trainloader)\n",
    "    return target_data\n",
    "    "
   ],
   "metadata": {
    "execution": {
     "iopub.status.busy": "2023-06-03T06:07:06.014212Z",
     "iopub.execute_input": "2023-06-03T06:07:06.014594Z",
     "iopub.status.idle": "2023-06-03T06:07:06.021517Z",
     "shell.execute_reply.started": "2023-06-03T06:07:06.014563Z",
     "shell.execute_reply": "2023-06-03T06:07:06.020216Z"
    },
    "trusted": true
   },
   "execution_count": 46,
   "outputs": []
  },
  {
   "cell_type": "code",
   "source": [
    "target_data = sample_target(target_df)"
   ],
   "metadata": {
    "execution": {
     "iopub.status.busy": "2023-06-03T06:07:06.262406Z",
     "iopub.execute_input": "2023-06-03T06:07:06.262778Z",
     "iopub.status.idle": "2023-06-03T06:07:06.406570Z",
     "shell.execute_reply.started": "2023-06-03T06:07:06.262747Z",
     "shell.execute_reply": "2023-06-03T06:07:06.405430Z"
    },
    "trusted": true
   },
   "execution_count": 47,
   "outputs": []
  },
  {
   "cell_type": "code",
   "source": [
    "criterion = nn.BCEWithLogitsLoss()"
   ],
   "metadata": {},
   "execution_count": null,
   "outputs": []
  },
  {
   "cell_type": "markdown",
   "source": [
    "Train base model using only REGN33 data (40 diffrerent samples)"
   ],
   "metadata": {}
  },
  {
   "cell_type": "code",
   "source": [
    "auc_base = []\n",
    "for i in range(len(target_data)):\n",
    "    base_model = RNNembed().to(device)\n",
    "    optimizer = torch.optim.Adam(base_model.parameters(), lr=1e-5)\n",
    "    num_epochs = 30\n",
    "    _, _ = training_rnn(base_model, criterion, optimizer, num_epochs, target_data[i])\n",
    "    metrics = evaluate_model_rnn(testloader, base_model)\n",
    "    auc_base.append(metrics.auc.values[0])"
   ],
   "metadata": {
    "execution": {
     "iopub.status.busy": "2023-06-03T06:20:45.337715Z",
     "iopub.execute_input": "2023-06-03T06:20:45.338198Z",
     "iopub.status.idle": "2023-06-03T06:33:29.758805Z",
     "shell.execute_reply.started": "2023-06-03T06:20:45.338159Z",
     "shell.execute_reply": "2023-06-03T06:33:29.757569Z"
    },
    "trusted": true
   },
   "execution_count": 55,
   "outputs": [
    {
     "name": "stderr",
     "text": "100%|██████████| 30/30 [00:16<00:00,  1.79it/s]\n100%|██████████| 30/30 [00:16<00:00,  1.81it/s]\n100%|██████████| 30/30 [00:17<00:00,  1.75it/s]\n100%|██████████| 30/30 [00:16<00:00,  1.78it/s]\n100%|██████████| 30/30 [00:16<00:00,  1.81it/s]\n100%|██████████| 30/30 [00:17<00:00,  1.74it/s]\n100%|██████████| 30/30 [00:16<00:00,  1.84it/s]\n100%|██████████| 30/30 [00:16<00:00,  1.77it/s]\n100%|██████████| 30/30 [00:16<00:00,  1.85it/s]\n100%|██████████| 30/30 [00:16<00:00,  1.86it/s]\n100%|██████████| 30/30 [00:17<00:00,  1.75it/s]\n100%|██████████| 30/30 [00:16<00:00,  1.85it/s]\n100%|██████████| 30/30 [00:16<00:00,  1.78it/s]\n100%|██████████| 30/30 [00:16<00:00,  1.81it/s]\n100%|██████████| 30/30 [00:16<00:00,  1.85it/s]\n100%|██████████| 30/30 [00:16<00:00,  1.79it/s]\n100%|██████████| 30/30 [00:16<00:00,  1.84it/s]\n100%|██████████| 30/30 [00:16<00:00,  1.78it/s]\n100%|██████████| 30/30 [00:16<00:00,  1.78it/s]\n100%|██████████| 30/30 [00:16<00:00,  1.85it/s]\n100%|██████████| 30/30 [00:16<00:00,  1.79it/s]\n100%|██████████| 30/30 [00:16<00:00,  1.85it/s]\n100%|██████████| 30/30 [00:16<00:00,  1.80it/s]\n100%|██████████| 30/30 [00:16<00:00,  1.81it/s]\n100%|██████████| 30/30 [00:16<00:00,  1.86it/s]\n100%|██████████| 30/30 [00:16<00:00,  1.78it/s]\n100%|██████████| 30/30 [00:16<00:00,  1.87it/s]\n100%|██████████| 30/30 [00:16<00:00,  1.80it/s]\n100%|██████████| 30/30 [00:16<00:00,  1.81it/s]\n100%|██████████| 30/30 [00:16<00:00,  1.83it/s]\n100%|██████████| 30/30 [00:16<00:00,  1.80it/s]\n100%|██████████| 30/30 [00:16<00:00,  1.84it/s]\n100%|██████████| 30/30 [00:16<00:00,  1.79it/s]\n100%|██████████| 30/30 [00:16<00:00,  1.79it/s]\n100%|██████████| 30/30 [00:16<00:00,  1.86it/s]\n100%|██████████| 30/30 [00:16<00:00,  1.77it/s]\n100%|██████████| 30/30 [00:16<00:00,  1.81it/s]\n100%|██████████| 30/30 [00:16<00:00,  1.78it/s]\n100%|██████████| 30/30 [00:16<00:00,  1.78it/s]\n100%|██████████| 30/30 [00:16<00:00,  1.85it/s]\n",
     "output_type": "stream"
    }
   ]
  },
  {
   "cell_type": "markdown",
   "source": [
    "Fine-tuned model using REGN33 data (the same 40 diffrerent samples)"
   ],
   "metadata": {}
  },
  {
   "cell_type": "code",
   "source": [
    "auc_fine_tuned = []\n",
    "for i in range(len(target_data)):\n",
    "    model_copy_ = copy_model(model)\n",
    "    model_copy_ = freeze_weights(model_copy_)\n",
    "    optimizer = torch.optim.Adam(model_copy_.parameters(), lr=1e-5)\n",
    "    num_epochs = 10\n",
    "    _, _ = training_rnn(model_copy_, criterion, optimizer, num_epochs, target_data[i])\n",
    "    metrics = evaluate_model_rnn(testloader, model_copy_)\n",
    "    auc_fine_tuned.append(metrics.auc.values[0])"
   ],
   "metadata": {
    "execution": {
     "iopub.status.busy": "2023-06-03T06:54:17.904946Z",
     "iopub.execute_input": "2023-06-03T06:54:17.906107Z",
     "iopub.status.idle": "2023-06-03T06:59:18.471899Z",
     "shell.execute_reply.started": "2023-06-03T06:54:17.906048Z",
     "shell.execute_reply": "2023-06-03T06:59:18.470554Z"
    },
    "trusted": true
   },
   "execution_count": 75,
   "outputs": [
    {
     "name": "stderr",
     "text": "100%|██████████| 10/10 [00:05<00:00,  1.84it/s]\n100%|██████████| 10/10 [00:04<00:00,  2.04it/s]\n100%|██████████| 10/10 [00:04<00:00,  2.07it/s]\n100%|██████████| 10/10 [00:04<00:00,  2.13it/s]\n100%|██████████| 10/10 [00:05<00:00,  1.88it/s]\n100%|██████████| 10/10 [00:04<00:00,  2.06it/s]\n100%|██████████| 10/10 [00:04<00:00,  2.06it/s]\n100%|██████████| 10/10 [00:04<00:00,  2.11it/s]\n100%|██████████| 10/10 [00:04<00:00,  2.06it/s]\n100%|██████████| 10/10 [00:04<00:00,  2.12it/s]\n100%|██████████| 10/10 [00:04<00:00,  2.10it/s]\n100%|██████████| 10/10 [00:04<00:00,  2.07it/s]\n100%|██████████| 10/10 [00:04<00:00,  2.10it/s]\n100%|██████████| 10/10 [00:05<00:00,  1.84it/s]\n100%|██████████| 10/10 [00:04<00:00,  2.03it/s]\n100%|██████████| 10/10 [00:04<00:00,  2.04it/s]\n100%|██████████| 10/10 [00:04<00:00,  2.13it/s]\n100%|██████████| 10/10 [00:04<00:00,  2.10it/s]\n100%|██████████| 10/10 [00:04<00:00,  2.07it/s]\n100%|██████████| 10/10 [00:04<00:00,  2.11it/s]\n100%|██████████| 10/10 [00:04<00:00,  2.12it/s]\n100%|██████████| 10/10 [00:05<00:00,  1.85it/s]\n100%|██████████| 10/10 [00:04<00:00,  2.12it/s]\n100%|██████████| 10/10 [00:04<00:00,  2.13it/s]\n100%|██████████| 10/10 [00:04<00:00,  2.10it/s]\n100%|██████████| 10/10 [00:05<00:00,  1.89it/s]\n100%|██████████| 10/10 [00:04<00:00,  2.14it/s]\n100%|██████████| 10/10 [00:04<00:00,  2.10it/s]\n100%|██████████| 10/10 [00:04<00:00,  2.13it/s]\n100%|██████████| 10/10 [00:04<00:00,  2.10it/s]\n100%|██████████| 10/10 [00:04<00:00,  2.06it/s]\n100%|██████████| 10/10 [00:04<00:00,  2.09it/s]\n100%|██████████| 10/10 [00:04<00:00,  2.11it/s]\n100%|██████████| 10/10 [00:04<00:00,  2.06it/s]\n100%|██████████| 10/10 [00:04<00:00,  2.01it/s]\n100%|██████████| 10/10 [00:04<00:00,  2.14it/s]\n100%|██████████| 10/10 [00:04<00:00,  2.08it/s]\n100%|██████████| 10/10 [00:04<00:00,  2.12it/s]\n100%|██████████| 10/10 [00:05<00:00,  1.87it/s]\n100%|██████████| 10/10 [00:04<00:00,  2.06it/s]\n",
     "output_type": "stream"
    }
   ]
  },
  {
   "cell_type": "code",
   "source": [
    "auc_base = np.array(auc_base)\n",
    "auc_fine_tuned = np.array(auc_fine_tuned)"
   ],
   "metadata": {
    "execution": {
     "iopub.status.busy": "2023-06-03T06:59:30.741972Z",
     "iopub.execute_input": "2023-06-03T06:59:30.742374Z",
     "iopub.status.idle": "2023-06-03T06:59:30.748026Z",
     "shell.execute_reply.started": "2023-06-03T06:59:30.742342Z",
     "shell.execute_reply": "2023-06-03T06:59:30.746513Z"
    },
    "trusted": true
   },
   "execution_count": 77,
   "outputs": []
  },
  {
   "cell_type": "code",
   "source": [
    "_, pvalue = stats.ttest_ind(auc_fine_tuned, auc_base, equal_var=False, random_state=SEED, alternative='greater')"
   ],
   "metadata": {
    "execution": {
     "iopub.status.busy": "2023-06-03T06:59:39.060773Z",
     "iopub.execute_input": "2023-06-03T06:59:39.061173Z",
     "iopub.status.idle": "2023-06-03T06:59:39.067163Z",
     "shell.execute_reply.started": "2023-06-03T06:59:39.061138Z",
     "shell.execute_reply": "2023-06-03T06:59:39.065972Z"
    },
    "trusted": true
   },
   "execution_count": 80,
   "outputs": []
  },
  {
   "cell_type": "code",
   "source": [
    "pvalue"
   ],
   "metadata": {
    "execution": {
     "iopub.status.busy": "2023-06-03T07:16:59.336401Z",
     "iopub.execute_input": "2023-06-03T07:16:59.336776Z",
     "iopub.status.idle": "2023-06-03T07:16:59.343401Z",
     "shell.execute_reply.started": "2023-06-03T07:16:59.336746Z",
     "shell.execute_reply": "2023-06-03T07:16:59.342369Z"
    },
    "trusted": true
   },
   "execution_count": 108,
   "outputs": [
    {
     "execution_count": 108,
     "output_type": "execute_result",
     "data": {
      "text/plain": "3.677324193102049e-11"
     },
     "metadata": {}
    }
   ]
  },
  {
   "cell_type": "code",
   "source": [
    "p_value_text = 'p-value: 3.6777e-11'"
   ],
   "metadata": {
    "execution": {
     "iopub.status.busy": "2023-06-03T07:17:54.234733Z",
     "iopub.execute_input": "2023-06-03T07:17:54.235148Z",
     "iopub.status.idle": "2023-06-03T07:17:54.240286Z",
     "shell.execute_reply.started": "2023-06-03T07:17:54.235115Z",
     "shell.execute_reply": "2023-06-03T07:17:54.238986Z"
    },
    "trusted": true
   },
   "execution_count": 110,
   "outputs": []
  },
  {
   "cell_type": "markdown",
   "source": [
    "Plot comparing peformance fine-tuned model and base model"
   ],
   "metadata": {
    "collapsed": false
   }
  },
  {
   "cell_type": "code",
   "source": [
    "fig, ax = plt.subplots()\n",
    "boxplot_data = [auc_fine_tuned, auc_base]\n",
    "ax.boxplot(boxplot_data)\n",
    "ax.set_xticklabels(['fine-tuned model', 'base model'])\n",
    "ax.set_ylabel('ROC-AUC values')\n",
    "ax.text(0.05, 0.95, p_value_text, transform=ax.transAxes, fontsize=12, verticalalignment='top')\n",
    "plt.savefig('boxplot_comparison.png')\n",
    "plt.show()\n"
   ],
   "metadata": {
    "execution": {
     "iopub.status.busy": "2023-06-03T07:27:57.919189Z",
     "iopub.execute_input": "2023-06-03T07:27:57.920283Z",
     "iopub.status.idle": "2023-06-03T07:27:58.221776Z",
     "shell.execute_reply.started": "2023-06-03T07:27:57.920240Z",
     "shell.execute_reply": "2023-06-03T07:27:58.220610Z"
    },
    "trusted": true
   },
   "execution_count": 113,
   "outputs": [
    {
     "output_type": "display_data",
     "data": {
      "text/plain": "<Figure size 640x480 with 1 Axes>",
      "image/png": "[encoded data removed]"
     },
     "metadata": {}
    }
   ]
  },
  {
   "cell_type": "markdown",
   "source": [
    "Mean ROC-AUC values of fine-tuned model greater than base model"
   ],
   "metadata": {
    "execution": {
     "iopub.status.busy": "2023-06-03T07:33:03.936726Z",
     "iopub.execute_input": "2023-06-03T07:33:03.937210Z",
     "iopub.status.idle": "2023-06-03T07:33:03.945866Z",
     "shell.execute_reply.started": "2023-06-03T07:33:03.937169Z",
     "shell.execute_reply": "2023-06-03T07:33:03.944239Z"
    }
   }
  }
 ]
}
