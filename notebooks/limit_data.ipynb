{
 "cells": [
  {
   "cell_type": "code",
   "execution_count": 1,
   "metadata": {
    "ExecuteTime": {
     "end_time": "2023-06-05T10:43:17.021837483Z",
     "start_time": "2023-06-05T10:43:15.278437126Z"
    }
   },
   "outputs": [],
   "source": [
    "import torch.nn as nn\n",
    "import torch\n",
    "from torch.utils.data import Dataset, DataLoader\n",
    "import pandas as pd\n",
    "import sys\n",
    "import random\n",
    "import os\n",
    "import numpy as np"
   ]
  },
  {
   "cell_type": "code",
   "execution_count": 2,
   "metadata": {
    "execution": {
     "iopub.execute_input": "2023-05-20T11:34:57.414814Z",
     "iopub.status.busy": "2023-05-20T11:34:57.414254Z",
     "iopub.status.idle": "2023-05-20T11:34:57.424830Z",
     "shell.execute_reply": "2023-05-20T11:34:57.423535Z",
     "shell.execute_reply.started": "2023-05-20T11:34:57.414761Z"
    },
    "ExecuteTime": {
     "end_time": "2023-06-05T10:43:33.944512688Z",
     "start_time": "2023-06-05T10:43:33.939017263Z"
    }
   },
   "outputs": [
    {
     "data": {
      "text/plain": "device(type='cuda')"
     },
     "execution_count": 2,
     "metadata": {},
     "output_type": "execute_result"
    }
   ],
   "source": [
    "device = torch.device('cuda' if torch.cuda.is_available() else 'cpu')\n",
    "device"
   ]
  },
  {
   "cell_type": "code",
   "execution_count": 3,
   "metadata": {
    "ExecuteTime": {
     "end_time": "2023-06-05T10:44:43.265250040Z",
     "start_time": "2023-06-05T10:44:43.257965020Z"
    }
   },
   "outputs": [],
   "source": [
    "sys.path.append('../utils')"
   ]
  },
  {
   "cell_type": "code",
   "execution_count": 4,
   "metadata": {
    "execution": {
     "iopub.execute_input": "2023-05-20T11:34:58.121039Z",
     "iopub.status.busy": "2023-05-20T11:34:58.120647Z",
     "iopub.status.idle": "2023-05-20T11:34:58.128304Z",
     "shell.execute_reply": "2023-05-20T11:34:58.127182Z",
     "shell.execute_reply.started": "2023-05-20T11:34:58.121005Z"
    },
    "ExecuteTime": {
     "end_time": "2023-06-05T10:44:44.492129105Z",
     "start_time": "2023-06-05T10:44:44.485716731Z"
    }
   },
   "outputs": [],
   "source": [
    "SEED = 42\n",
    "\n",
    "\n",
    "def seed_everything(seed: int):\n",
    "    random.seed(seed)\n",
    "    os.environ['PYTHONHASHSEED'] = str(seed)\n",
    "    np.random.seed(seed)\n",
    "    torch.manual_seed(seed)\n",
    "    torch.cuda.manual_seed(seed)\n",
    "    torch.backends.cudnn.benchmark = True\n",
    "\n",
    "\n",
    "seed_everything(SEED)"
   ]
  },
  {
   "cell_type": "code",
   "execution_count": 5,
   "metadata": {
    "execution": {
     "iopub.execute_input": "2023-05-20T11:34:58.707305Z",
     "iopub.status.busy": "2023-05-20T11:34:58.706258Z",
     "iopub.status.idle": "2023-05-20T11:34:58.713444Z",
     "shell.execute_reply": "2023-05-20T11:34:58.712170Z",
     "shell.execute_reply.started": "2023-05-20T11:34:58.707258Z"
    },
    "ExecuteTime": {
     "end_time": "2023-06-05T10:44:49.623650417Z",
     "start_time": "2023-06-05T10:44:48.756967622Z"
    }
   },
   "outputs": [],
   "source": [
    "from training_nn import training_rnn, training\n",
    "from evaluation import evaluate_model, plot_loss, evaluate_model_rnn\n",
    "from process_data import get_desc, get_data\n",
    "from models import CNN, RNNembed, RNN\n",
    "from dataset import Abencode1, Abencode2, Onehot, OnehotandAB"
   ]
  },
  {
   "cell_type": "code",
   "execution_count": 7,
   "metadata": {
    "ExecuteTime": {
     "end_time": "2023-06-01T14:12:12.465218890Z",
     "start_time": "2023-06-01T14:12:12.459983681Z"
    }
   },
   "outputs": [],
   "source": [
    "train_path = '../dataset/phys_train.csv'\n",
    "test_path = '../dataset/phys_test.csv'"
   ]
  },
  {
   "cell_type": "code",
   "execution_count": 8,
   "metadata": {
    "ExecuteTime": {
     "end_time": "2023-06-01T13:20:04.716545327Z",
     "start_time": "2023-06-01T13:19:49.076576399Z"
    },
    "execution": {
     "iopub.execute_input": "2023-05-20T11:35:04.975212Z",
     "iopub.status.busy": "2023-05-20T11:35:04.974443Z",
     "iopub.status.idle": "2023-05-20T11:35:40.471785Z",
     "shell.execute_reply": "2023-05-20T11:35:40.470596Z",
     "shell.execute_reply.started": "2023-05-20T11:35:04.975168Z"
    }
   },
   "outputs": [],
   "source": [
    "train = pd.read_csv(train_path)"
   ]
  },
  {
   "cell_type": "code",
   "execution_count": 9,
   "metadata": {
    "ExecuteTime": {
     "end_time": "2023-06-01T13:20:09.120044825Z",
     "start_time": "2023-06-01T13:20:07.216443981Z"
    },
    "execution": {
     "iopub.execute_input": "2023-05-20T11:36:40.834196Z",
     "iopub.status.busy": "2023-05-20T11:36:40.833457Z",
     "iopub.status.idle": "2023-05-20T11:36:45.573869Z",
     "shell.execute_reply": "2023-05-20T11:36:45.572714Z",
     "shell.execute_reply.started": "2023-05-20T11:36:40.834155Z"
    }
   },
   "outputs": [],
   "source": [
    "test = pd.read_csv(test_path)"
   ]
  },
  {
   "cell_type": "code",
   "execution_count": 10,
   "metadata": {
    "ExecuteTime": {
     "end_time": "2023-06-01T13:21:34.357033510Z",
     "start_time": "2023-06-01T13:20:09.822107083Z"
    },
    "execution": {
     "iopub.execute_input": "2023-05-20T11:36:47.922244Z",
     "iopub.status.busy": "2023-05-20T11:36:47.921519Z",
     "iopub.status.idle": "2023-05-20T11:42:26.358834Z",
     "shell.execute_reply": "2023-05-20T11:42:26.357627Z",
     "shell.execute_reply.started": "2023-05-20T11:36:47.922194Z"
    }
   },
   "outputs": [],
   "source": [
    "train['repr'] = get_desc(train)\n",
    "test['repr'] = get_desc(test)"
   ]
  },
  {
   "cell_type": "code",
   "execution_count": 11,
   "metadata": {
    "ExecuteTime": {
     "end_time": "2023-06-01T13:22:56.245674278Z",
     "start_time": "2023-06-01T13:22:56.193384226Z"
    },
    "execution": {
     "iopub.execute_input": "2023-05-20T12:09:02.616802Z",
     "iopub.status.busy": "2023-05-20T12:09:02.614406Z",
     "iopub.status.idle": "2023-05-20T12:09:02.721176Z",
     "shell.execute_reply": "2023-05-20T12:09:02.720111Z",
     "shell.execute_reply.started": "2023-05-20T12:09:02.616748Z"
    }
   },
   "outputs": [],
   "source": [
    "train_target, valid_target, target_test, _ = get_data(train, test, target_ab='REGN33')"
   ]
  },
  {
   "cell_type": "code",
   "execution_count": 9,
   "metadata": {
    "execution": {
     "iopub.execute_input": "2023-05-20T13:08:01.321230Z",
     "iopub.status.busy": "2023-05-20T13:08:01.320797Z",
     "iopub.status.idle": "2023-05-20T13:08:01.328020Z",
     "shell.execute_reply": "2023-05-20T13:08:01.326665Z",
     "shell.execute_reply.started": "2023-05-20T13:08:01.321192Z"
    },
    "ExecuteTime": {
     "end_time": "2023-06-05T10:45:03.302767964Z",
     "start_time": "2023-06-05T10:45:03.296189278Z"
    }
   },
   "outputs": [],
   "source": [
    "def prepare_dataloader(df, dataset_torch, batch_size=5, shuffle=True):\n",
    "    dataset = dataset_torch(df)\n",
    "    dataloader = DataLoader(dataset, batch_size=batch_size, shuffle=shuffle, num_workers=2)\n",
    "    return dataloader"
   ]
  },
  {
   "cell_type": "code",
   "execution_count": 13,
   "metadata": {
    "ExecuteTime": {
     "end_time": "2023-06-01T13:23:04.817431318Z",
     "start_time": "2023-06-01T13:23:04.810603164Z"
    },
    "execution": {
     "iopub.execute_input": "2023-05-20T11:50:48.798814Z",
     "iopub.status.busy": "2023-05-20T11:50:48.798174Z",
     "iopub.status.idle": "2023-05-20T11:50:48.811640Z",
     "shell.execute_reply": "2023-05-20T11:50:48.810324Z",
     "shell.execute_reply.started": "2023-05-20T11:50:48.798747Z"
    }
   },
   "outputs": [],
   "source": [
    "validloader = prepare_dataloader(valid_target, Abencode1, shuffle=False, batch_size=10)\n",
    "trainloader_target = prepare_dataloader(train_target, Abencode1, shuffle=True, batch_size=5)\n",
    "testloader = prepare_dataloader(target_test, Abencode1, shuffle=False, batch_size=50)"
   ]
  },
  {
   "cell_type": "markdown",
   "metadata": {},
   "source": [
    "CNN model training using RBD sequences (100 points in training) with physical features"
   ]
  },
  {
   "cell_type": "code",
   "execution_count": 19,
   "metadata": {
    "ExecuteTime": {
     "end_time": "2023-06-01T12:48:30.517113150Z",
     "start_time": "2023-06-01T12:48:05.206382558Z"
    },
    "execution": {
     "iopub.execute_input": "2023-05-20T11:50:49.644670Z",
     "iopub.status.busy": "2023-05-20T11:50:49.643354Z",
     "iopub.status.idle": "2023-05-20T11:51:20.480273Z",
     "shell.execute_reply": "2023-05-20T11:51:20.478958Z",
     "shell.execute_reply.started": "2023-05-20T11:50:49.644611Z"
    }
   },
   "outputs": [
    {
     "name": "stderr",
     "output_type": "stream",
     "text": [
      "100%|██████████| 30/30 [00:22<00:00,  1.34it/s]\n"
     ]
    }
   ],
   "source": [
    "model = CNN(41, 100).to(device)\n",
    "criterion = nn.BCEWithLogitsLoss()\n",
    "optimizer = torch.optim.Adam(model.parameters(), lr=1e-5)\n",
    "num_epochs = 30\n",
    "loss_train_hist, loss_valid_hist = training(model, criterion, optimizer, num_epochs, trainloader_target,\n",
    "                                            validloader)"
   ]
  },
  {
   "cell_type": "code",
   "execution_count": 20,
   "metadata": {
    "ExecuteTime": {
     "end_time": "2023-06-01T12:48:49.593645633Z",
     "start_time": "2023-06-01T12:48:49.387482843Z"
    },
    "execution": {
     "iopub.execute_input": "2023-05-20T11:51:55.522155Z",
     "iopub.status.busy": "2023-05-20T11:51:55.521724Z",
     "iopub.status.idle": "2023-05-20T11:51:55.824610Z",
     "shell.execute_reply": "2023-05-20T11:51:55.823446Z",
     "shell.execute_reply.started": "2023-05-20T11:51:55.522112Z"
    }
   },
   "outputs": [
    {
     "data": {
      "image/png": "[encoded data removed]",
      "text/plain": [
       "<Figure size 640x480 with 1 Axes>"
      ]
     },
     "metadata": {},
     "output_type": "display_data"
    }
   ],
   "source": [
    "plot_loss(loss_train_hist, loss_valid_hist)"
   ]
  },
  {
   "cell_type": "markdown",
   "metadata": {},
   "source": [
    "REGN33 Escape prediction: classification metrics of СNN trained model"
   ]
  },
  {
   "cell_type": "code",
   "execution_count": 21,
   "metadata": {
    "ExecuteTime": {
     "end_time": "2023-06-01T12:48:56.152594582Z",
     "start_time": "2023-06-01T12:48:54.515314627Z"
    },
    "execution": {
     "iopub.execute_input": "2023-05-20T11:51:59.433221Z",
     "iopub.status.busy": "2023-05-20T11:51:59.432797Z",
     "iopub.status.idle": "2023-05-20T11:52:01.369896Z",
     "shell.execute_reply": "2023-05-20T11:52:01.368522Z",
     "shell.execute_reply.started": "2023-05-20T11:51:59.433181Z"
    }
   },
   "outputs": [
    {
     "data": {
      "text/html": [
       "<div>\n",
       "<style scoped>\n",
       "    .dataframe tbody tr th:only-of-type {\n",
       "        vertical-align: middle;\n",
       "    }\n",
       "\n",
       "    .dataframe tbody tr th {\n",
       "        vertical-align: top;\n",
       "    }\n",
       "\n",
       "    .dataframe thead th {\n",
       "        text-align: right;\n",
       "    }\n",
       "</style>\n",
       "<table border=\"1\" class=\"dataframe\">\n",
       "  <thead>\n",
       "    <tr style=\"text-align: right;\">\n",
       "      <th></th>\n",
       "      <th>accuracy</th>\n",
       "      <th>recall</th>\n",
       "      <th>precision</th>\n",
       "      <th>f1_scor</th>\n",
       "      <th>auc</th>\n",
       "    </tr>\n",
       "  </thead>\n",
       "  <tbody>\n",
       "    <tr>\n",
       "      <th>0</th>\n",
       "      <td>0.577225</td>\n",
       "      <td>0.174187</td>\n",
       "      <td>0.893846</td>\n",
       "      <td>0.291557</td>\n",
       "      <td>0.79425</td>\n",
       "    </tr>\n",
       "  </tbody>\n",
       "</table>\n",
       "</div>"
      ],
      "text/plain": [
       "   accuracy    recall  precision   f1_scor      auc\n",
       "0  0.577225  0.174187   0.893846  0.291557  0.79425"
      ]
     },
     "execution_count": 21,
     "metadata": {},
     "output_type": "execute_result"
    }
   ],
   "source": [
    "evaluate_model(testloader, model)"
   ]
  },
  {
   "cell_type": "code",
   "execution_count": 14,
   "metadata": {
    "ExecuteTime": {
     "end_time": "2023-06-01T13:23:23.491686830Z",
     "start_time": "2023-06-01T13:23:23.447478163Z"
    },
    "execution": {
     "iopub.execute_input": "2023-05-20T11:57:43.290617Z",
     "iopub.status.busy": "2023-05-20T11:57:43.290183Z",
     "iopub.status.idle": "2023-05-20T11:57:43.298210Z",
     "shell.execute_reply": "2023-05-20T11:57:43.297037Z",
     "shell.execute_reply.started": "2023-05-20T11:57:43.290578Z"
    }
   },
   "outputs": [],
   "source": [
    "validloader = prepare_dataloader(valid_target, Abencode2, shuffle=False, batch_size=10)\n",
    "trainloader_target = prepare_dataloader(train_target, Abencode2, shuffle=True, batch_size=5)\n",
    "testloader = prepare_dataloader(target_test, Abencode2, shuffle=False, batch_size=50)"
   ]
  },
  {
   "cell_type": "markdown",
   "metadata": {},
   "source": [
    "\n",
    "RNN model training using RBD sequences (100 points in training) with physical features"
   ]
  },
  {
   "cell_type": "code",
   "execution_count": 16,
   "metadata": {
    "ExecuteTime": {
     "end_time": "2023-06-01T13:24:59.673738308Z",
     "start_time": "2023-06-01T13:24:40.023473815Z"
    },
    "execution": {
     "iopub.execute_input": "2023-05-20T12:00:09.035625Z",
     "iopub.status.busy": "2023-05-20T12:00:09.034971Z",
     "iopub.status.idle": "2023-05-20T12:00:56.239777Z",
     "shell.execute_reply": "2023-05-20T12:00:56.238560Z",
     "shell.execute_reply.started": "2023-05-20T12:00:09.035582Z"
    }
   },
   "outputs": [
    {
     "name": "stderr",
     "output_type": "stream",
     "text": [
      "100%|██████████| 30/30 [00:19<00:00,  1.53it/s]\n"
     ]
    }
   ],
   "source": [
    "model = RNNembed().to(device)\n",
    "criterion = nn.BCEWithLogitsLoss()\n",
    "optimizer = torch.optim.Adam(model.parameters(), lr=1e-5)\n",
    "num_epochs = 30\n",
    "loss_train_hist, loss_valid_hist = training_rnn(model, criterion, optimizer, num_epochs, trainloader_target,\n",
    "                                                validloader)"
   ]
  },
  {
   "cell_type": "code",
   "execution_count": 17,
   "metadata": {
    "ExecuteTime": {
     "end_time": "2023-06-01T13:25:05.362285649Z",
     "start_time": "2023-06-01T13:25:05.164768719Z"
    },
    "execution": {
     "iopub.execute_input": "2023-05-20T12:00:58.956195Z",
     "iopub.status.busy": "2023-05-20T12:00:58.955087Z",
     "iopub.status.idle": "2023-05-20T12:01:09.862643Z",
     "shell.execute_reply": "2023-05-20T12:01:09.861487Z",
     "shell.execute_reply.started": "2023-05-20T12:00:58.956145Z"
    }
   },
   "outputs": [
    {
     "data": {
      "image/png": "[encoded data removed]",
      "text/plain": [
       "<Figure size 640x480 with 1 Axes>"
      ]
     },
     "metadata": {},
     "output_type": "display_data"
    }
   ],
   "source": [
    "plot_loss(loss_train_hist, loss_valid_hist)"
   ]
  },
  {
   "cell_type": "markdown",
   "metadata": {},
   "source": [
    "REGN33 Escape prediction: classification metrics of RNN trained model"
   ]
  },
  {
   "cell_type": "code",
   "execution_count": 18,
   "metadata": {
    "ExecuteTime": {
     "end_time": "2023-06-01T13:25:09.967749416Z",
     "start_time": "2023-06-01T13:25:08.397570268Z"
    },
    "execution": {
     "iopub.execute_input": "2023-05-20T12:01:17.504544Z",
     "iopub.status.busy": "2023-05-20T12:01:17.504124Z",
     "iopub.status.idle": "2023-05-20T12:01:20.836371Z",
     "shell.execute_reply": "2023-05-20T12:01:20.835009Z",
     "shell.execute_reply.started": "2023-05-20T12:01:17.504496Z"
    }
   },
   "outputs": [
    {
     "data": {
      "text/html": [
       "<div>\n",
       "<style scoped>\n",
       "    .dataframe tbody tr th:only-of-type {\n",
       "        vertical-align: middle;\n",
       "    }\n",
       "\n",
       "    .dataframe tbody tr th {\n",
       "        vertical-align: top;\n",
       "    }\n",
       "\n",
       "    .dataframe thead th {\n",
       "        text-align: right;\n",
       "    }\n",
       "</style>\n",
       "<table border=\"1\" class=\"dataframe\">\n",
       "  <thead>\n",
       "    <tr style=\"text-align: right;\">\n",
       "      <th></th>\n",
       "      <th>accuracy</th>\n",
       "      <th>recall</th>\n",
       "      <th>precision</th>\n",
       "      <th>f1_scor</th>\n",
       "      <th>auc</th>\n",
       "    </tr>\n",
       "  </thead>\n",
       "  <tbody>\n",
       "    <tr>\n",
       "      <th>0</th>\n",
       "      <td>0.717302</td>\n",
       "      <td>0.633488</td>\n",
       "      <td>0.760482</td>\n",
       "      <td>0.691201</td>\n",
       "      <td>0.801776</td>\n",
       "    </tr>\n",
       "  </tbody>\n",
       "</table>\n",
       "</div>"
      ],
      "text/plain": [
       "   accuracy    recall  precision   f1_scor       auc\n",
       "0  0.717302  0.633488   0.760482  0.691201  0.801776"
      ]
     },
     "execution_count": 18,
     "metadata": {},
     "output_type": "execute_result"
    }
   ],
   "source": [
    "evaluate_model_rnn(testloader, model)"
   ]
  },
  {
   "cell_type": "markdown",
   "metadata": {},
   "source": []
  },
  {
   "cell_type": "markdown",
   "source": [
    "Some positions in the RBD sequence are constant between different variants"
   ],
   "metadata": {
    "collapsed": false
   }
  },
  {
   "cell_type": "markdown",
   "metadata": {},
   "source": [
    " Let's compare performance model with RBD sequences having constant positions  and not having"
   ]
  },
  {
   "cell_type": "markdown",
   "source": [
    "ONE-HOT encoding sequences"
   ],
   "metadata": {
    "collapsed": false
   }
  },
  {
   "cell_type": "code",
   "execution_count": 6,
   "metadata": {
    "ExecuteTime": {
     "end_time": "2023-06-05T10:44:56.335793953Z",
     "start_time": "2023-06-05T10:44:55.988736871Z"
    }
   },
   "outputs": [],
   "source": [
    "whole_train = pd.read_csv(\"../dataset/whole_train.csv\")\n",
    "whole_test = pd.read_csv(\"../dataset/whole_test.csv\")"
   ]
  },
  {
   "cell_type": "code",
   "execution_count": 7,
   "metadata": {
    "ExecuteTime": {
     "end_time": "2023-06-05T10:44:57.310454142Z",
     "start_time": "2023-06-05T10:44:57.229184529Z"
    }
   },
   "outputs": [],
   "source": [
    "train_target, valid_target, target_test, _ = get_data(whole_train, whole_test, samples=500, target_ab='REGN33')"
   ]
  },
  {
   "cell_type": "code",
   "execution_count": 10,
   "metadata": {
    "ExecuteTime": {
     "end_time": "2023-06-05T10:45:11.984460118Z",
     "start_time": "2023-06-05T10:45:11.976669289Z"
    }
   },
   "outputs": [],
   "source": [
    "validloader = prepare_dataloader(valid_target, OnehotandAB, shuffle=True, batch_size=10)\n",
    "testloader = prepare_dataloader(target_test, OnehotandAB, shuffle=True, batch_size=10)\n",
    "trainloader_target = prepare_dataloader(train_target, OnehotandAB, shuffle=True, batch_size=10)"
   ]
  },
  {
   "cell_type": "code",
   "execution_count": 11,
   "metadata": {
    "ExecuteTime": {
     "end_time": "2023-06-05T10:45:36.052371991Z",
     "start_time": "2023-06-05T10:45:15.149924369Z"
    }
   },
   "outputs": [
    {
     "name": "stderr",
     "output_type": "stream",
     "text": [
      "100%|██████████| 50/50 [00:19<00:00,  2.62it/s]\n"
     ]
    }
   ],
   "source": [
    "model = RNNembed(input_size=21, seq_lentgth=24, hidden_size=140, num_layers=10).to(device)\n",
    "criterion = nn.BCEWithLogitsLoss()\n",
    "optimizer = torch.optim.Adam(model.parameters(), lr=1e-5)\n",
    "num_epochs = 50\n",
    "loss_train_hist, loss_valid_hist = training_rnn(model, criterion, optimizer, num_epochs, trainloader_target,\n",
    "                                                validloader)"
   ]
  },
  {
   "cell_type": "code",
   "execution_count": 12,
   "metadata": {
    "ExecuteTime": {
     "end_time": "2023-06-05T10:45:37.863377848Z",
     "start_time": "2023-06-05T10:45:37.692826509Z"
    }
   },
   "outputs": [
    {
     "data": {
      "text/plain": "<Figure size 640x480 with 1 Axes>",
      "image/png": "[encoded data removed]"
     },
     "metadata": {},
     "output_type": "display_data"
    }
   ],
   "source": [
    "plot_loss(loss_train_hist, loss_valid_hist)"
   ]
  },
  {
   "cell_type": "code",
   "execution_count": 13,
   "metadata": {
    "ExecuteTime": {
     "end_time": "2023-06-05T10:45:41.530190400Z",
     "start_time": "2023-06-05T10:45:38.722944820Z"
    }
   },
   "outputs": [
    {
     "data": {
      "text/plain": "   accuracy    recall  precision   f1_scor       auc\n0  0.819359  0.790917   0.838284  0.813912  0.901913",
      "text/html": "<div>\n<style scoped>\n    .dataframe tbody tr th:only-of-type {\n        vertical-align: middle;\n    }\n\n    .dataframe tbody tr th {\n        vertical-align: top;\n    }\n\n    .dataframe thead th {\n        text-align: right;\n    }\n</style>\n<table border=\"1\" class=\"dataframe\">\n  <thead>\n    <tr style=\"text-align: right;\">\n      <th></th>\n      <th>accuracy</th>\n      <th>recall</th>\n      <th>precision</th>\n      <th>f1_scor</th>\n      <th>auc</th>\n    </tr>\n  </thead>\n  <tbody>\n    <tr>\n      <th>0</th>\n      <td>0.819359</td>\n      <td>0.790917</td>\n      <td>0.838284</td>\n      <td>0.813912</td>\n      <td>0.901913</td>\n    </tr>\n  </tbody>\n</table>\n</div>"
     },
     "execution_count": 13,
     "metadata": {},
     "output_type": "execute_result"
    }
   ],
   "source": [
    "evaluate_model_rnn(testloader, model)"
   ]
  },
  {
   "cell_type": "code",
   "execution_count": 14,
   "metadata": {
    "ExecuteTime": {
     "end_time": "2023-06-05T10:45:43.712710900Z",
     "start_time": "2023-06-05T10:45:43.709230243Z"
    }
   },
   "outputs": [],
   "source": [
    "exclude_pos = [4, 5, 6, 7, 9, 13, 14, 15, 18, 20]  # constant positions"
   ]
  },
  {
   "cell_type": "code",
   "execution_count": 15,
   "metadata": {
    "ExecuteTime": {
     "end_time": "2023-06-05T10:45:44.391034615Z",
     "start_time": "2023-06-05T10:45:44.386813890Z"
    }
   },
   "outputs": [],
   "source": [
    "def process_seq(seq: str) -> str:\n",
    "    reduce_seq = ''.join([seq[i] for i in range(len(seq)) if i not in exclude_pos])\n",
    "    return reduce_seq"
   ]
  },
  {
   "cell_type": "code",
   "execution_count": 16,
   "metadata": {
    "ExecuteTime": {
     "end_time": "2023-06-05T10:45:44.989518859Z",
     "start_time": "2023-06-05T10:45:44.943435877Z"
    }
   },
   "outputs": [],
   "source": [
    "dataframes = [train_target, valid_target, target_test]"
   ]
  },
  {
   "cell_type": "code",
   "execution_count": 17,
   "metadata": {
    "ExecuteTime": {
     "end_time": "2023-06-05T10:45:45.531999318Z",
     "start_time": "2023-06-05T10:45:45.528174536Z"
    }
   },
   "outputs": [],
   "source": [
    "def delete_pos(dataframes: list[pd.DataFrame]):\n",
    "    for df in dataframes:\n",
    "        df['junction_aa'] = df['junction_aa'].apply(lambda x: process_seq(x))\n"
   ]
  },
  {
   "cell_type": "code",
   "execution_count": 18,
   "metadata": {
    "ExecuteTime": {
     "end_time": "2023-06-05T10:45:46.916082754Z",
     "start_time": "2023-06-05T10:45:46.849068873Z"
    }
   },
   "outputs": [
    {
     "name": "stderr",
     "output_type": "stream",
     "text": [
      "/tmp/ipykernel_4513/3181462318.py:3: SettingWithCopyWarning: \n",
      "A value is trying to be set on a copy of a slice from a DataFrame.\n",
      "Try using .loc[row_indexer,col_indexer] = value instead\n",
      "\n",
      "See the caveats in the documentation: https://pandas.pydata.org/pandas-docs/stable/user_guide/indexing.html#returning-a-view-versus-a-copy\n",
      "  df['junction_aa'] = df['junction_aa'].apply(lambda x: process_seq(x))\n"
     ]
    }
   ],
   "source": [
    "delete_pos(dataframes)"
   ]
  },
  {
   "cell_type": "code",
   "execution_count": 19,
   "metadata": {
    "ExecuteTime": {
     "end_time": "2023-06-05T10:45:47.713549409Z",
     "start_time": "2023-06-05T10:45:47.710028366Z"
    }
   },
   "outputs": [],
   "source": [
    "validloader = prepare_dataloader(valid_target, OnehotandAB, shuffle=True, batch_size=10)\n",
    "testloader = prepare_dataloader(target_test, OnehotandAB, shuffle=True, batch_size=10)\n",
    "trainloader_target = prepare_dataloader(train_target, OnehotandAB, shuffle=True, batch_size=10)"
   ]
  },
  {
   "cell_type": "code",
   "execution_count": 20,
   "metadata": {
    "ExecuteTime": {
     "end_time": "2023-06-05T10:46:09.510055208Z",
     "start_time": "2023-06-05T10:45:50.477496668Z"
    }
   },
   "outputs": [
    {
     "name": "stderr",
     "output_type": "stream",
     "text": [
      "100%|██████████| 50/50 [00:19<00:00,  2.63it/s]\n"
     ]
    }
   ],
   "source": [
    "model = RNNembed(input_size=21, seq_lentgth=14, hidden_size=140, num_layers=10).to(device)\n",
    "criterion = nn.BCEWithLogitsLoss()\n",
    "optimizer = torch.optim.Adam(model.parameters(), lr=1e-5)\n",
    "num_epochs = 50\n",
    "loss_train_hist, loss_valid_hist = training_rnn(model, criterion, optimizer, num_epochs, trainloader_target,\n",
    "                                                validloader)"
   ]
  },
  {
   "cell_type": "code",
   "execution_count": 21,
   "metadata": {
    "ExecuteTime": {
     "end_time": "2023-06-05T10:46:10.873476249Z",
     "start_time": "2023-06-05T10:46:10.732744276Z"
    }
   },
   "outputs": [
    {
     "data": {
      "text/plain": "<Figure size 640x480 with 1 Axes>",
      "image/png": "[encoded data removed]"
     },
     "metadata": {},
     "output_type": "display_data"
    }
   ],
   "source": [
    "plot_loss(loss_train_hist, loss_valid_hist)"
   ]
  },
  {
   "cell_type": "code",
   "execution_count": 22,
   "metadata": {
    "ExecuteTime": {
     "end_time": "2023-06-05T10:46:14.445018896Z",
     "start_time": "2023-06-05T10:46:11.939471925Z"
    }
   },
   "outputs": [
    {
     "data": {
      "text/plain": "   accuracy    recall  precision   f1_scor       auc\n0  0.809552  0.794514   0.818814  0.806481  0.891468",
      "text/html": "<div>\n<style scoped>\n    .dataframe tbody tr th:only-of-type {\n        vertical-align: middle;\n    }\n\n    .dataframe tbody tr th {\n        vertical-align: top;\n    }\n\n    .dataframe thead th {\n        text-align: right;\n    }\n</style>\n<table border=\"1\" class=\"dataframe\">\n  <thead>\n    <tr style=\"text-align: right;\">\n      <th></th>\n      <th>accuracy</th>\n      <th>recall</th>\n      <th>precision</th>\n      <th>f1_scor</th>\n      <th>auc</th>\n    </tr>\n  </thead>\n  <tbody>\n    <tr>\n      <th>0</th>\n      <td>0.809552</td>\n      <td>0.794514</td>\n      <td>0.818814</td>\n      <td>0.806481</td>\n      <td>0.891468</td>\n    </tr>\n  </tbody>\n</table>\n</div>"
     },
     "execution_count": 22,
     "metadata": {},
     "output_type": "execute_result"
    }
   ],
   "source": [
    "evaluate_model_rnn(testloader, model)"
   ]
  },
  {
   "cell_type": "markdown",
   "metadata": {},
   "source": [
    "Excluding constant positions does not affect to model performance significantly"
   ]
  },
  {
   "cell_type": "markdown",
   "metadata": {},
   "source": []
  }
 ],
 "metadata": {
  "kernelspec": {
   "display_name": "Python 3 (ipykernel)",
   "language": "python",
   "name": "python3"
  },
  "language_info": {
   "codemirror_mode": {
    "name": "ipython",
    "version": 3
   },
   "file_extension": ".py",
   "mimetype": "text/x-python",
   "name": "python",
   "nbconvert_exporter": "python",
   "pygments_lexer": "ipython3",
   "version": "3.10.6"
  }
 },
 "nbformat": 4,
 "nbformat_minor": 4
}
