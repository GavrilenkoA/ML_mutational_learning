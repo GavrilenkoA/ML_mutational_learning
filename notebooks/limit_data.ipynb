{
 "metadata": {
  "kernelspec": {
   "language": "python",
   "display_name": "Python 3",
   "name": "python3"
  },
  "language_info": {
   "name": "python",
   "version": "3.7.12",
   "mimetype": "text/x-python",
   "codemirror_mode": {
    "name": "ipython",
    "version": 3
   },
   "pygments_lexer": "ipython3",
   "nbconvert_exporter": "python",
   "file_extension": ".py"
  }
 },
 "nbformat_minor": 4,
 "nbformat": 4,
 "cells": [
  {
   "cell_type": "code",
   "source": [
    "import torch.nn as nn\n",
    "import torch\n",
    "from torch.utils.data import Dataset, DataLoader\n",
    "import numpy as np\n",
    "import pandas as pd\n",
    "import torch.nn.functional as F"
   ],
   "metadata": {
    "execution": {
     "iopub.status.busy": "2023-05-20T11:34:56.208870Z",
     "iopub.execute_input": "2023-05-20T11:34:56.209333Z",
     "iopub.status.idle": "2023-05-20T11:34:56.216851Z",
     "shell.execute_reply.started": "2023-05-20T11:34:56.209295Z",
     "shell.execute_reply": "2023-05-20T11:34:56.215712Z"
    },
    "trusted": true,
    "ExecuteTime": {
     "end_time": "2023-05-22T16:49:51.217510076Z",
     "start_time": "2023-05-22T16:49:50.297387128Z"
    }
   },
   "execution_count": 1,
   "outputs": []
  },
  {
   "cell_type": "code",
   "source": [
    "device = torch.device('cuda' if torch.cuda.is_available() else 'cpu')\n",
    "device"
   ],
   "metadata": {
    "execution": {
     "iopub.status.busy": "2023-05-20T11:34:57.414254Z",
     "iopub.execute_input": "2023-05-20T11:34:57.414814Z",
     "iopub.status.idle": "2023-05-20T11:34:57.424830Z",
     "shell.execute_reply.started": "2023-05-20T11:34:57.414761Z",
     "shell.execute_reply": "2023-05-20T11:34:57.423535Z"
    },
    "trusted": true
   },
   "execution_count": 51,
   "outputs": [
    {
     "execution_count": 51,
     "output_type": "execute_result",
     "data": {
      "text/plain": "device(type='cuda')"
     },
     "metadata": {}
    }
   ]
  },
  {
   "cell_type": "code",
   "execution_count": 2,
   "outputs": [],
   "source": [
    "import sys\n",
    "sys.path.append('../scripts')"
   ],
   "metadata": {
    "collapsed": false,
    "ExecuteTime": {
     "end_time": "2023-05-22T16:50:28.106105899Z",
     "start_time": "2023-05-22T16:50:28.060893100Z"
    }
   }
  },
  {
   "cell_type": "code",
   "source": [
    "SEED = 42\n",
    "def seed_everything(seed: int):\n",
    "    import random, os\n",
    "    import numpy as np\n",
    "    import torch\n",
    "    \n",
    "    random.seed(seed)\n",
    "    os.environ['PYTHONHASHSEED'] = str(seed)\n",
    "    np.random.seed(seed)\n",
    "    torch.manual_seed(seed)\n",
    "    torch.cuda.manual_seed(seed)\n",
    "    torch.backends.cudnn.benchmark = True\n",
    "    \n",
    "seed_everything(SEED)"
   ],
   "metadata": {
    "execution": {
     "iopub.status.busy": "2023-05-20T11:34:58.120647Z",
     "iopub.execute_input": "2023-05-20T11:34:58.121039Z",
     "iopub.status.idle": "2023-05-20T11:34:58.128304Z",
     "shell.execute_reply.started": "2023-05-20T11:34:58.121005Z",
     "shell.execute_reply": "2023-05-20T11:34:58.127182Z"
    },
    "trusted": true,
    "ExecuteTime": {
     "end_time": "2023-05-22T16:50:29.652447263Z",
     "start_time": "2023-05-22T16:50:29.644692367Z"
    }
   },
   "execution_count": 3,
   "outputs": []
  },
  {
   "cell_type": "code",
   "source": [
    "from training_nn import training_cnn\n",
    "from evaluation import evaluate_model_rnn, plot_loss, evaluate_model_cnn\n",
    "from process_data import get_desc"
   ],
   "metadata": {
    "execution": {
     "iopub.status.busy": "2023-05-20T11:34:58.706258Z",
     "iopub.execute_input": "2023-05-20T11:34:58.707305Z",
     "iopub.status.idle": "2023-05-20T11:34:58.713444Z",
     "shell.execute_reply.started": "2023-05-20T11:34:58.707258Z",
     "shell.execute_reply": "2023-05-20T11:34:58.712170Z"
    },
    "trusted": true,
    "ExecuteTime": {
     "end_time": "2023-05-22T16:55:56.790222139Z",
     "start_time": "2023-05-22T16:55:56.742779098Z"
    }
   },
   "execution_count": 5,
   "outputs": []
  },
  {
   "cell_type": "markdown",
   "source": [
    "### Training block"
   ],
   "metadata": {}
  },
  {
   "cell_type": "markdown",
   "source": [
    "#### Models block"
   ],
   "metadata": {}
  },
  {
   "cell_type": "code",
   "source": [
    "class CNNModel(nn.Module):\n",
    "    def __init__(self, embed_size, hidden_size, num_classes=1):\n",
    "        super().__init__()\n",
    "        self.cnn = nn.Sequential(\n",
    "            nn.Conv1d(embed_size, hidden_size, kernel_size=3,\n",
    "                      padding=1, stride=2),\n",
    "            nn.BatchNorm1d(hidden_size),\n",
    "            nn.ReLU(),\n",
    "            nn.Conv1d(hidden_size, hidden_size, kernel_size=3, \n",
    "                      padding=1, stride=2),\n",
    "            nn.BatchNorm1d(hidden_size),\n",
    "            nn.ReLU(),\n",
    "            nn.Conv1d(hidden_size, hidden_size, kernel_size=3, padding=1, \n",
    "                      stride=2),\n",
    "            nn.BatchNorm1d(hidden_size),\n",
    "            nn.ReLU(),\n",
    "            nn.AdaptiveMaxPool1d(1),\n",
    "            nn.Flatten(), nn.ReLU()\n",
    "        )\n",
    "        self.cl = nn.Sequential(\n",
    "            nn.Linear(hidden_size, num_classes)\n",
    "        )\n",
    "\n",
    "    def forward(self, x):\n",
    "        x = x.permute(0, 2, 1)\n",
    "        x = self.cnn(x)\n",
    "        prediction = self.cl(x)\n",
    "        return prediction\n",
    "\n",
    "\n",
    "class RNN(nn.Module):\n",
    "    def __init__(self, input_size=41, seq_lentgth=24, hidden_size=140, num_layers=10, num_classes=1):\n",
    "        super().__init__()\n",
    "        self.embed = nn.Embedding(5, seq_lentgth, dtype=torch.float32)\n",
    "        self.rnn = nn.RNN(input_size, hidden_size, batch_first=True, num_layers=num_layers, bidirectional=True)\n",
    "        self.linear1 = nn.Linear(2*seq_lentgth*hidden_size, 100)\n",
    "        self.linear2 = nn.Linear(100, num_classes)\n",
    "\n",
    "    def forward(self, x, ab_idx):\n",
    "        embed = self.embed(ab_idx)\n",
    "        embed = torch.unsqueeze(embed, 2)\n",
    "        embed = torch.cat((embed, x), dim=2)\n",
    "        x, _ = self.rnn(embed)\n",
    "        x = x.reshape(x.size(0), -1)\n",
    "        x = self.linear1(x)\n",
    "        x = F.relu(x)\n",
    "        x = self.linear2(x)\n",
    "        return x"
   ],
   "metadata": {
    "execution": {
     "iopub.status.busy": "2023-05-20T13:04:46.468042Z",
     "iopub.execute_input": "2023-05-20T13:04:46.469215Z",
     "iopub.status.idle": "2023-05-20T13:04:46.487901Z",
     "shell.execute_reply.started": "2023-05-20T13:04:46.469164Z",
     "shell.execute_reply": "2023-05-20T13:04:46.486550Z"
    },
    "trusted": true
   },
   "execution_count": 143,
   "outputs": []
  },
  {
   "cell_type": "markdown",
   "source": [
    "###### Insert path to physical features datasets"
   ],
   "metadata": {
    "collapsed": false
   }
  },
  {
   "cell_type": "code",
   "execution_count": null,
   "outputs": [],
   "source": [
    "train_path = '../dataset/phys_train.csv'\n",
    "test_path = '../dataset/phys_test.csv'"
   ],
   "metadata": {
    "collapsed": false
   }
  },
  {
   "cell_type": "code",
   "source": [
    "train = pd.read_csv(train_path)"
   ],
   "metadata": {
    "execution": {
     "iopub.status.busy": "2023-05-20T11:35:04.974443Z",
     "iopub.execute_input": "2023-05-20T11:35:04.975212Z",
     "iopub.status.idle": "2023-05-20T11:35:40.471785Z",
     "shell.execute_reply.started": "2023-05-20T11:35:04.975168Z",
     "shell.execute_reply": "2023-05-20T11:35:40.470596Z"
    },
    "trusted": true
   },
   "execution_count": 57,
   "outputs": []
  },
  {
   "cell_type": "code",
   "source": [
    "test = pd.read_csv(test_path)"
   ],
   "metadata": {
    "execution": {
     "iopub.status.busy": "2023-05-20T11:36:40.833457Z",
     "iopub.execute_input": "2023-05-20T11:36:40.834196Z",
     "iopub.status.idle": "2023-05-20T11:36:45.573869Z",
     "shell.execute_reply.started": "2023-05-20T11:36:40.834155Z",
     "shell.execute_reply": "2023-05-20T11:36:45.572714Z"
    },
    "trusted": true
   },
   "execution_count": 58,
   "outputs": []
  },
  {
   "cell_type": "code",
   "source": [
    "train['repr'] = get_desc(train)\n",
    "test['repr'] = get_desc(test)"
   ],
   "metadata": {
    "execution": {
     "iopub.status.busy": "2023-05-20T11:36:47.921519Z",
     "iopub.execute_input": "2023-05-20T11:36:47.922244Z",
     "iopub.status.idle": "2023-05-20T11:42:26.358834Z",
     "shell.execute_reply.started": "2023-05-20T11:36:47.922194Z",
     "shell.execute_reply": "2023-05-20T11:42:26.357627Z"
    },
    "trusted": true
   },
   "execution_count": 59,
   "outputs": []
  },
  {
   "cell_type": "code",
   "source": [
    "def get_data(train, test, samples = 200, target_ab = None):\n",
    "    target_df = train.loc[train['Antibody'] == target_ab]\n",
    "    rest_df = train.loc[train['Antibody'] != target_ab]\n",
    "    target_test = test.loc[test['Antibody'] == target_ab]\n",
    "    \n",
    "    sample_target = target_df.sample(n=samples, random_state=SEED)\n",
    "    \n",
    "    train_target = sample_target.iloc[:samples//2, :]\n",
    "    valid_target = sample_target.iloc[samples//2:, :]\n",
    "    \n",
    "    return train_target, valid_target, target_test, rest_df"
   ],
   "metadata": {
    "execution": {
     "iopub.status.busy": "2023-05-20T12:09:01.694446Z",
     "iopub.execute_input": "2023-05-20T12:09:01.695599Z",
     "iopub.status.idle": "2023-05-20T12:09:01.704219Z",
     "shell.execute_reply.started": "2023-05-20T12:09:01.695544Z",
     "shell.execute_reply": "2023-05-20T12:09:01.702782Z"
    },
    "trusted": true
   },
   "execution_count": 99,
   "outputs": []
  },
  {
   "cell_type": "code",
   "source": [
    "train_target, valid_target, target_test, rest_df = get_data(train, test, target_ab = 'REGN33')"
   ],
   "metadata": {
    "execution": {
     "iopub.status.busy": "2023-05-20T12:09:02.614406Z",
     "iopub.execute_input": "2023-05-20T12:09:02.616802Z",
     "iopub.status.idle": "2023-05-20T12:09:02.721176Z",
     "shell.execute_reply.started": "2023-05-20T12:09:02.616748Z",
     "shell.execute_reply": "2023-05-20T12:09:02.720111Z"
    },
    "trusted": true
   },
   "execution_count": 100,
   "outputs": []
  },
  {
   "cell_type": "code",
   "source": [
    "map_target = {'LY16': 0, 'REGN33': 1, 'REGN87': 2, 'LY555': 3, 'ACE2': 4}"
   ],
   "metadata": {},
   "execution_count": null,
   "outputs": []
  },
  {
   "cell_type": "code",
   "source": [
    "class Ag_seq(Dataset):\n",
    "    def __init__(self, df, map_target):\n",
    "        self.df = df\n",
    "        self.ab_map = map_target\n",
    "        \n",
    "        \n",
    "    def __len__(self):\n",
    "        return len(self.df)\n",
    "    \n",
    "\n",
    "    def _code_ab(self, ab):\n",
    "        pos = self.ab_map[ab]\n",
    "        ab_feature = np.zeros((24, 1))\n",
    "        ab_feature[pos] = 1\n",
    "        return ab_feature\n",
    "        \n",
    "    \n",
    "    def __getitem__(self, idx):\n",
    "        phys_features = self.df.repr.iloc[idx]\n",
    "        ab = self.df.Antibody.iloc[idx]\n",
    "        ab_feature = self._code_ab(ab)\n",
    "        features = np.concatenate((phys_features, ab_feature), axis=1)\n",
    "        label = self.df.Label.iloc[idx]\n",
    "        return features, label"
   ],
   "metadata": {
    "execution": {
     "iopub.status.busy": "2023-05-20T11:50:45.144095Z",
     "iopub.execute_input": "2023-05-20T11:50:45.144853Z",
     "iopub.status.idle": "2023-05-20T11:50:45.155850Z",
     "shell.execute_reply.started": "2023-05-20T11:50:45.144796Z",
     "shell.execute_reply": "2023-05-20T11:50:45.154718Z"
    },
    "trusted": true
   },
   "execution_count": 74,
   "outputs": []
  },
  {
   "cell_type": "code",
   "source": [
    "def prepare_dataloader(df, dataset_torch, batch_size = 5, shuffle=True):\n",
    "    dataset = dataset_torch(df, map_target)\n",
    "    dataloader = DataLoader(dataset, batch_size = batch_size, shuffle = shuffle, num_workers = 2)\n",
    "    return dataloader"
   ],
   "metadata": {
    "execution": {
     "iopub.status.busy": "2023-05-20T13:08:01.320797Z",
     "iopub.execute_input": "2023-05-20T13:08:01.321230Z",
     "iopub.status.idle": "2023-05-20T13:08:01.328020Z",
     "shell.execute_reply.started": "2023-05-20T13:08:01.321192Z",
     "shell.execute_reply": "2023-05-20T13:08:01.326665Z"
    },
    "trusted": true
   },
   "execution_count": 146,
   "outputs": []
  },
  {
   "cell_type": "code",
   "source": [
    "trainloader_rest = prepare_dataloader(rest_df, Ag_seq, shuffle=True, batch_size=10)\n",
    "validloader = prepare_dataloader(valid_target, Ag_seq, shuffle=False, batch_size=10)\n",
    "trainloader_target = prepare_dataloader(train_target, Ag_seq, shuffle=True, batch_size=5)\n",
    "testloader = prepare_dataloader(target_test, Ag_seq, shuffle=False, batch_size=50)"
   ],
   "metadata": {
    "execution": {
     "iopub.status.busy": "2023-05-20T11:50:48.798174Z",
     "iopub.execute_input": "2023-05-20T11:50:48.798814Z",
     "iopub.status.idle": "2023-05-20T11:50:48.811640Z",
     "shell.execute_reply.started": "2023-05-20T11:50:48.798747Z",
     "shell.execute_reply": "2023-05-20T11:50:48.810324Z"
    },
    "trusted": true
   },
   "execution_count": 77,
   "outputs": []
  },
  {
   "cell_type": "code",
   "source": [
    "model = CNNModel(41, 100).to(device)\n",
    "criterion = nn.BCEWithLogitsLoss()\n",
    "optimizer = torch.optim.Adam(model.parameters(), lr=1e-5)\n",
    "num_epochs = 30\n",
    "loss_train_hist, loss_valid_hist = training_cnn(model, criterion, optimizer, num_epochs, trainloader_target, validloader)"
   ],
   "metadata": {
    "execution": {
     "iopub.status.busy": "2023-05-20T11:50:49.643354Z",
     "iopub.execute_input": "2023-05-20T11:50:49.644670Z",
     "iopub.status.idle": "2023-05-20T11:51:20.480273Z",
     "shell.execute_reply.started": "2023-05-20T11:50:49.644611Z",
     "shell.execute_reply": "2023-05-20T11:51:20.478958Z"
    },
    "trusted": true
   },
   "execution_count": 78,
   "outputs": [
    {
     "name": "stderr",
     "text": "100%|██████████| 30/30 [00:30<00:00,  1.03s/it]\n",
     "output_type": "stream"
    }
   ]
  },
  {
   "cell_type": "code",
   "source": [
    "plot_loss(loss_train_hist, loss_valid_hist)"
   ],
   "metadata": {
    "execution": {
     "iopub.status.busy": "2023-05-20T11:51:55.521724Z",
     "iopub.execute_input": "2023-05-20T11:51:55.522155Z",
     "iopub.status.idle": "2023-05-20T11:51:55.824610Z",
     "shell.execute_reply.started": "2023-05-20T11:51:55.522112Z",
     "shell.execute_reply": "2023-05-20T11:51:55.823446Z"
    },
    "trusted": true
   },
   "execution_count": 79,
   "outputs": [
    {
     "output_type": "display_data",
     "data": {
      "text/plain": "<Figure size 640x480 with 1 Axes>",
      "image/png": "[encoded data removed]"
     },
     "metadata": {}
    }
   ]
  },
  {
   "cell_type": "code",
   "source": [
    "evaluate_model_cnn(testloader, model)"
   ],
   "metadata": {
    "execution": {
     "iopub.status.busy": "2023-05-20T11:51:59.432797Z",
     "iopub.execute_input": "2023-05-20T11:51:59.433221Z",
     "iopub.status.idle": "2023-05-20T11:52:01.369896Z",
     "shell.execute_reply.started": "2023-05-20T11:51:59.433181Z",
     "shell.execute_reply": "2023-05-20T11:52:01.368522Z"
    },
    "trusted": true
   },
   "execution_count": 80,
   "outputs": [
    {
     "execution_count": 80,
     "output_type": "execute_result",
     "data": {
      "text/plain": "   accuracy    recall  precision   f1_scor       auc\n0  0.642884  0.332184   0.875543  0.481634  0.810655",
      "text/html": "<div>\n<style scoped>\n    .dataframe tbody tr th:only-of-type {\n        vertical-align: middle;\n    }\n\n    .dataframe tbody tr th {\n        vertical-align: top;\n    }\n\n    .dataframe thead th {\n        text-align: right;\n    }\n</style>\n<table border=\"1\" class=\"dataframe\">\n  <thead>\n    <tr style=\"text-align: right;\">\n      <th></th>\n      <th>accuracy</th>\n      <th>recall</th>\n      <th>precision</th>\n      <th>f1_scor</th>\n      <th>auc</th>\n    </tr>\n  </thead>\n  <tbody>\n    <tr>\n      <th>0</th>\n      <td>0.642884</td>\n      <td>0.332184</td>\n      <td>0.875543</td>\n      <td>0.481634</td>\n      <td>0.810655</td>\n    </tr>\n  </tbody>\n</table>\n</div>"
     },
     "metadata": {}
    }
   ]
  },
  {
   "cell_type": "code",
   "source": [
    "class Ag_ab_seq(Dataset):\n",
    "    def __init__(self, df):\n",
    "        self.df = df\n",
    "        self.ab_map = {'LY16': 0, 'REGN33': 1, 'REGN87': 2, 'LY555': 3}\n",
    "\n",
    "\n",
    "    def __len__(self):\n",
    "        return len(self.df)\n",
    "\n",
    "\n",
    "    def __getitem__(self, idx):\n",
    "        features = self.df.repr.iloc[idx]\n",
    "        ab = self.ab_map[self.df.Antibody.iloc[idx]]\n",
    "        label = self.df.Label.iloc[idx]\n",
    "        return [features, ab, label]"
   ],
   "metadata": {
    "execution": {
     "iopub.status.busy": "2023-05-20T11:57:42.552839Z",
     "iopub.execute_input": "2023-05-20T11:57:42.553271Z",
     "iopub.status.idle": "2023-05-20T11:57:42.562170Z",
     "shell.execute_reply.started": "2023-05-20T11:57:42.553234Z",
     "shell.execute_reply": "2023-05-20T11:57:42.561073Z"
    },
    "trusted": true
   },
   "execution_count": 90,
   "outputs": []
  },
  {
   "cell_type": "code",
   "source": [
    "validloader = prepare_dataloader(valid_target, Ag_ab_seq, shuffle=False, batch_size=10)\n",
    "trainloader_target = prepare_dataloader(train_target, Ag_ab_seq, shuffle=True, batch_size=5)\n",
    "testloader = prepare_dataloader(target_test, Ag_ab_seq, shuffle=False, batch_size=50)"
   ],
   "metadata": {
    "execution": {
     "iopub.status.busy": "2023-05-20T11:57:43.290183Z",
     "iopub.execute_input": "2023-05-20T11:57:43.290617Z",
     "iopub.status.idle": "2023-05-20T11:57:43.298210Z",
     "shell.execute_reply.started": "2023-05-20T11:57:43.290578Z",
     "shell.execute_reply": "2023-05-20T11:57:43.297037Z"
    },
    "trusted": true
   },
   "execution_count": 91,
   "outputs": []
  },
  {
   "cell_type": "code",
   "source": [
    "model = RNN().to(device)\n",
    "criterion = nn.BCEWithLogitsLoss()\n",
    "optimizer = torch.optim.Adam(model.parameters(), lr=1e-5)\n",
    "num_epochs = 30\n",
    "loss_train_hist, loss_valid_hist = training_rnn(model, criterion, optimizer, num_epochs, trainloader_target, validloader)"
   ],
   "metadata": {
    "execution": {
     "iopub.status.busy": "2023-05-20T12:00:09.034971Z",
     "iopub.execute_input": "2023-05-20T12:00:09.035625Z",
     "iopub.status.idle": "2023-05-20T12:00:56.239777Z",
     "shell.execute_reply.started": "2023-05-20T12:00:09.035582Z",
     "shell.execute_reply": "2023-05-20T12:00:56.238560Z"
    },
    "trusted": true
   },
   "execution_count": 94,
   "outputs": [
    {
     "name": "stderr",
     "text": "100%|██████████| 30/30 [00:47<00:00,  1.57s/it]\n",
     "output_type": "stream"
    }
   ]
  },
  {
   "cell_type": "code",
   "source": [
    "plot_loss(loss_train_hist, loss_valid_hist)"
   ],
   "metadata": {
    "execution": {
     "iopub.status.busy": "2023-05-20T12:00:58.955087Z",
     "iopub.execute_input": "2023-05-20T12:00:58.956195Z",
     "iopub.status.idle": "2023-05-20T12:01:09.862643Z",
     "shell.execute_reply.started": "2023-05-20T12:00:58.956145Z",
     "shell.execute_reply": "2023-05-20T12:01:09.861487Z"
    },
    "trusted": true
   },
   "execution_count": 95,
   "outputs": [
    {
     "output_type": "display_data",
     "data": {
      "text/plain": "<Figure size 640x480 with 1 Axes>",
      "image/png": "[encoded data removed]"
     },
     "metadata": {}
    }
   ]
  },
  {
   "cell_type": "code",
   "source": [
    "evaluate_model_rnn(testloader, model)"
   ],
   "metadata": {
    "execution": {
     "iopub.status.busy": "2023-05-20T12:01:17.504124Z",
     "iopub.execute_input": "2023-05-20T12:01:17.504544Z",
     "iopub.status.idle": "2023-05-20T12:01:20.836371Z",
     "shell.execute_reply.started": "2023-05-20T12:01:17.504496Z",
     "shell.execute_reply": "2023-05-20T12:01:20.835009Z"
    },
    "trusted": true
   },
   "execution_count": 96,
   "outputs": [
    {
     "execution_count": 96,
     "output_type": "execute_result",
     "data": {
      "text/plain": "   accuracy    recall  precision   f1_scor       auc\n0  0.693943  0.578774   0.751313  0.653853  0.787679",
      "text/html": "<div>\n<style scoped>\n    .dataframe tbody tr th:only-of-type {\n        vertical-align: middle;\n    }\n\n    .dataframe tbody tr th {\n        vertical-align: top;\n    }\n\n    .dataframe thead th {\n        text-align: right;\n    }\n</style>\n<table border=\"1\" class=\"dataframe\">\n  <thead>\n    <tr style=\"text-align: right;\">\n      <th></th>\n      <th>accuracy</th>\n      <th>recall</th>\n      <th>precision</th>\n      <th>f1_scor</th>\n      <th>auc</th>\n    </tr>\n  </thead>\n  <tbody>\n    <tr>\n      <th>0</th>\n      <td>0.693943</td>\n      <td>0.578774</td>\n      <td>0.751313</td>\n      <td>0.653853</td>\n      <td>0.787679</td>\n    </tr>\n  </tbody>\n</table>\n</div>"
     },
     "metadata": {}
    }
   ]
  },
  {
   "cell_type": "markdown",
   "source": [
    "### One hot encoding"
   ],
   "metadata": {}
  },
  {
   "cell_type": "code",
   "source": [
    "train = pd.read_csv(\"/kaggle/input/ml-mutational-learning/whole_train.csv\")\n",
    "test = pd.read_csv(\"/kaggle/input/ml-mutational-learning/whole_test.csv\")"
   ],
   "metadata": {
    "execution": {
     "iopub.status.busy": "2023-05-20T12:15:48.049202Z",
     "iopub.execute_input": "2023-05-20T12:15:48.049671Z",
     "iopub.status.idle": "2023-05-20T12:15:48.830357Z",
     "shell.execute_reply.started": "2023-05-20T12:15:48.049616Z",
     "shell.execute_reply": "2023-05-20T12:15:48.829142Z"
    },
    "trusted": true
   },
   "execution_count": 102,
   "outputs": []
  },
  {
   "cell_type": "code",
   "source": [
    "train_target, valid_target, target_test, rest_df = get_data(train, test, target_ab = 'REGN33')"
   ],
   "metadata": {
    "execution": {
     "iopub.status.busy": "2023-05-20T12:20:30.938786Z",
     "iopub.execute_input": "2023-05-20T12:20:30.939207Z",
     "iopub.status.idle": "2023-05-20T12:20:31.190213Z",
     "shell.execute_reply.started": "2023-05-20T12:20:30.939168Z",
     "shell.execute_reply": "2023-05-20T12:20:31.189062Z"
    },
    "trusted": true
   },
   "execution_count": 105,
   "outputs": []
  },
  {
   "cell_type": "code",
   "source": [
    "class Onehot_df(Dataset):\n",
    "\n",
    "    def __init__(self, df, map_target):\n",
    "        self.df = df\n",
    "        self.ab_map = map_target\n",
    "\n",
    "\n",
    "    @staticmethod\n",
    "    def _encode_seq(sequence):\n",
    "        alphabet = ['A', 'C', 'D', 'E', 'F', 'G','H', 'I', 'K', 'L', 'M', 'N', 'P', 'Q', 'R', 'S', 'T', 'V', 'W', 'Y']\n",
    "        char_to_int = dict((c, i) for i, c in enumerate(alphabet))\n",
    "        integer_encoded = [char_to_int[char] for char in sequence]\n",
    "        onehot_encoded = list()\n",
    "        for value in integer_encoded:\n",
    "            letter = [0 for _ in range(len(alphabet))]\n",
    "            letter[value] = 1\n",
    "            onehot_encoded.append(letter)\n",
    "        return np.array(onehot_encoded)\n",
    "    \n",
    "    @staticmethod\n",
    "    def _code_ab(ab):\n",
    "        pos = ab_map[ab]\n",
    "        ab_feature = np.zeros((24, 1))\n",
    "        ab_feature[pos] = 1\n",
    "        return ab_feature\n",
    "    \n",
    "    \n",
    "    def __len__(self):\n",
    "        return len(self.df)\n",
    "    \n",
    "    def __getitem__(self, idx):\n",
    "        onehot_features = self._encode_seq(self.df.junction_aa.iloc[idx])\n",
    "        ab = self.df.Antibody.iloc[idx]\n",
    "        ab_feature = self._code_ab(ab)\n",
    "        features = np.concatenate((onehot_features, ab_feature), axis=1)\n",
    "        label = self.df.Label.iloc[idx]\n",
    "        return features, label"
   ],
   "metadata": {
    "execution": {
     "iopub.status.busy": "2023-05-20T13:08:32.963443Z",
     "iopub.execute_input": "2023-05-20T13:08:32.964201Z",
     "iopub.status.idle": "2023-05-20T13:08:32.980690Z",
     "shell.execute_reply.started": "2023-05-20T13:08:32.964160Z",
     "shell.execute_reply": "2023-05-20T13:08:32.979519Z"
    },
    "trusted": true
   },
   "execution_count": 147,
   "outputs": []
  },
  {
   "cell_type": "code",
   "source": [
    "validloader = prepare_dataloader(valid_target, Onehot_df, shuffle=False, batch_size=10)\n",
    "trainloader_target = prepare_dataloader(train_target, Onehot_df, shuffle=True, batch_size=5)\n",
    "testloader = prepare_dataloader(target_test, Onehot_df, shuffle=False, batch_size=50)"
   ],
   "metadata": {
    "execution": {
     "iopub.status.busy": "2023-05-20T13:08:35.001130Z",
     "iopub.execute_input": "2023-05-20T13:08:35.002247Z",
     "iopub.status.idle": "2023-05-20T13:08:35.011860Z",
     "shell.execute_reply.started": "2023-05-20T13:08:35.002203Z",
     "shell.execute_reply": "2023-05-20T13:08:35.010531Z"
    },
    "trusted": true
   },
   "execution_count": 148,
   "outputs": []
  },
  {
   "cell_type": "code",
   "source": [
    "model = CNNModel(21, 100).to(device)\n",
    "criterion = nn.BCEWithLogitsLoss()\n",
    "optimizer = torch.optim.Adam(model.parameters(), lr=1e-5)\n",
    "num_epochs = 30\n",
    "loss_train_hist, loss_valid_hist = training_cnn(model, criterion, optimizer, num_epochs, trainloader_target, validloader)"
   ],
   "metadata": {
    "execution": {
     "iopub.status.busy": "2023-05-20T13:08:36.011348Z",
     "iopub.execute_input": "2023-05-20T13:08:36.012361Z",
     "iopub.status.idle": "2023-05-20T13:09:08.313823Z",
     "shell.execute_reply.started": "2023-05-20T13:08:36.012320Z",
     "shell.execute_reply": "2023-05-20T13:09:08.312298Z"
    },
    "trusted": true
   },
   "execution_count": 149,
   "outputs": [
    {
     "name": "stderr",
     "text": "100%|██████████| 30/30 [00:32<00:00,  1.08s/it]\n",
     "output_type": "stream"
    }
   ]
  },
  {
   "cell_type": "code",
   "source": [
    "plot_loss(loss_train_hist, loss_valid_hist)"
   ],
   "metadata": {
    "execution": {
     "iopub.status.busy": "2023-05-20T13:09:10.407750Z",
     "iopub.execute_input": "2023-05-20T13:09:10.409068Z",
     "iopub.status.idle": "2023-05-20T13:09:10.694591Z",
     "shell.execute_reply.started": "2023-05-20T13:09:10.409018Z",
     "shell.execute_reply": "2023-05-20T13:09:10.693404Z"
    },
    "trusted": true
   },
   "execution_count": 150,
   "outputs": [
    {
     "output_type": "display_data",
     "data": {
      "text/plain": "<Figure size 640x480 with 1 Axes>",
      "image/png": "[encoded data removed]"
     },
     "metadata": {}
    }
   ]
  },
  {
   "cell_type": "code",
   "source": [
    "evaluate_model_cnn(testloader, model)"
   ],
   "metadata": {
    "execution": {
     "iopub.status.busy": "2023-05-20T13:09:13.756797Z",
     "iopub.execute_input": "2023-05-20T13:09:13.757835Z",
     "iopub.status.idle": "2023-05-20T13:09:17.407864Z",
     "shell.execute_reply.started": "2023-05-20T13:09:13.757792Z",
     "shell.execute_reply": "2023-05-20T13:09:17.406549Z"
    },
    "trusted": true
   },
   "execution_count": 151,
   "outputs": [
    {
     "execution_count": 151,
     "output_type": "execute_result",
     "data": {
      "text/plain": "   accuracy    recall  precision   f1_scor      auc\n0  0.569846  0.172962   0.835022  0.286566  0.74732",
      "text/html": "<div>\n<style scoped>\n    .dataframe tbody tr th:only-of-type {\n        vertical-align: middle;\n    }\n\n    .dataframe tbody tr th {\n        vertical-align: top;\n    }\n\n    .dataframe thead th {\n        text-align: right;\n    }\n</style>\n<table border=\"1\" class=\"dataframe\">\n  <thead>\n    <tr style=\"text-align: right;\">\n      <th></th>\n      <th>accuracy</th>\n      <th>recall</th>\n      <th>precision</th>\n      <th>f1_scor</th>\n      <th>auc</th>\n    </tr>\n  </thead>\n  <tbody>\n    <tr>\n      <th>0</th>\n      <td>0.569846</td>\n      <td>0.172962</td>\n      <td>0.835022</td>\n      <td>0.286566</td>\n      <td>0.74732</td>\n    </tr>\n  </tbody>\n</table>\n</div>"
     },
     "metadata": {}
    }
   ]
  },
  {
   "cell_type": "code",
   "source": [
    "class Ab_encode(Onehot_df):\n",
    "    def __getitem__(self, idx):\n",
    "        onehot_features = self._encode_seq(self.df.junction_aa.iloc[idx])\n",
    "        ab = self.ab_map[self.df.Antibody.iloc[idx]]\n",
    "        label = self.df.Label.iloc[idx]\n",
    "        return [onehot_features, ab, label]\n",
    "    "
   ],
   "metadata": {
    "execution": {
     "iopub.status.busy": "2023-05-20T13:09:25.637805Z",
     "iopub.execute_input": "2023-05-20T13:09:25.639052Z",
     "iopub.status.idle": "2023-05-20T13:09:25.647726Z",
     "shell.execute_reply.started": "2023-05-20T13:09:25.638986Z",
     "shell.execute_reply": "2023-05-20T13:09:25.646124Z"
    },
    "trusted": true
   },
   "execution_count": 152,
   "outputs": []
  },
  {
   "cell_type": "code",
   "source": [
    "validloader = prepare_dataloader(valid_target, Ab_encode, shuffle=False, batch_size=10)\n",
    "trainloader_target = prepare_dataloader(train_target, Ab_encode, shuffle=True, batch_size=5)\n",
    "testloader = prepare_dataloader(target_test, Ab_encode, shuffle=False, batch_size=50)"
   ],
   "metadata": {
    "execution": {
     "iopub.status.busy": "2023-05-20T13:09:26.424669Z",
     "iopub.execute_input": "2023-05-20T13:09:26.425671Z",
     "iopub.status.idle": "2023-05-20T13:09:26.434186Z",
     "shell.execute_reply.started": "2023-05-20T13:09:26.425616Z",
     "shell.execute_reply": "2023-05-20T13:09:26.432553Z"
    },
    "trusted": true
   },
   "execution_count": 153,
   "outputs": []
  },
  {
   "cell_type": "code",
   "source": [
    "model = RNN(input_size=21, seq_lentgth=24, hidden_size=140, num_layers=10, num_classes=1).to(device)\n",
    "criterion = nn.BCEWithLogitsLoss()\n",
    "optimizer = torch.optim.Adam(model.parameters(), lr=1e-5)\n",
    "num_epochs = 30\n",
    "loss_train_hist, loss_valid_hist = training_rnn(model, criterion, optimizer, num_epochs, trainloader_target, validloader)"
   ],
   "metadata": {
    "execution": {
     "iopub.status.busy": "2023-05-20T13:09:27.291608Z",
     "iopub.execute_input": "2023-05-20T13:09:27.292006Z",
     "iopub.status.idle": "2023-05-20T13:10:15.683847Z",
     "shell.execute_reply.started": "2023-05-20T13:09:27.291968Z",
     "shell.execute_reply": "2023-05-20T13:10:15.682512Z"
    },
    "trusted": true
   },
   "execution_count": 154,
   "outputs": [
    {
     "name": "stderr",
     "text": "100%|██████████| 30/30 [00:48<00:00,  1.61s/it]\n",
     "output_type": "stream"
    }
   ]
  },
  {
   "cell_type": "code",
   "source": [
    "plot_loss(loss_train_hist, loss_valid_hist)"
   ],
   "metadata": {
    "execution": {
     "iopub.status.busy": "2023-05-20T13:10:22.428921Z",
     "iopub.execute_input": "2023-05-20T13:10:22.429383Z",
     "iopub.status.idle": "2023-05-20T13:10:22.822979Z",
     "shell.execute_reply.started": "2023-05-20T13:10:22.429341Z",
     "shell.execute_reply": "2023-05-20T13:10:22.821735Z"
    },
    "trusted": true
   },
   "execution_count": 155,
   "outputs": [
    {
     "output_type": "display_data",
     "data": {
      "text/plain": "<Figure size 640x480 with 1 Axes>",
      "image/png": "[encoded data removed]"
     },
     "metadata": {}
    }
   ]
  },
  {
   "cell_type": "code",
   "source": [
    "evaluate_model_rnn(testloader, model)"
   ],
   "metadata": {
    "execution": {
     "iopub.status.busy": "2023-05-20T13:10:25.485661Z",
     "iopub.execute_input": "2023-05-20T13:10:25.486072Z",
     "iopub.status.idle": "2023-05-20T13:10:30.134754Z",
     "shell.execute_reply.started": "2023-05-20T13:10:25.486035Z",
     "shell.execute_reply": "2023-05-20T13:10:30.133520Z"
    },
    "trusted": true
   },
   "execution_count": 156,
   "outputs": [
    {
     "execution_count": 156,
     "output_type": "execute_result",
     "data": {
      "text/plain": "   accuracy    recall  precision   f1_scor       auc\n0  0.719194  0.592026   0.793332  0.678053  0.812496",
      "text/html": "<div>\n<style scoped>\n    .dataframe tbody tr th:only-of-type {\n        vertical-align: middle;\n    }\n\n    .dataframe tbody tr th {\n        vertical-align: top;\n    }\n\n    .dataframe thead th {\n        text-align: right;\n    }\n</style>\n<table border=\"1\" class=\"dataframe\">\n  <thead>\n    <tr style=\"text-align: right;\">\n      <th></th>\n      <th>accuracy</th>\n      <th>recall</th>\n      <th>precision</th>\n      <th>f1_scor</th>\n      <th>auc</th>\n    </tr>\n  </thead>\n  <tbody>\n    <tr>\n      <th>0</th>\n      <td>0.719194</td>\n      <td>0.592026</td>\n      <td>0.793332</td>\n      <td>0.678053</td>\n      <td>0.812496</td>\n    </tr>\n  </tbody>\n</table>\n</div>"
     },
     "metadata": {}
    }
   ]
  },
  {
   "cell_type": "markdown",
   "source": [
    "\n",
    "#### Generating embedding belonging special target increase performance model in case of RNN model. "
   ],
   "metadata": {}
  },
  {
   "cell_type": "markdown",
   "source": [],
   "metadata": {}
  },
  {
   "cell_type": "markdown",
   "source": [
    "#### Let's evaluate performce algoritm to add sequence of other antibodies."
   ],
   "metadata": {}
  },
  {
   "cell_type": "code",
   "source": [
    "train_target, valid_target, target_test, rest_df = get_data(train, test, target_ab = 'LY555')"
   ],
   "metadata": {
    "execution": {
     "iopub.status.busy": "2023-05-20T13:46:15.538446Z",
     "iopub.execute_input": "2023-05-20T13:46:15.539622Z",
     "iopub.status.idle": "2023-05-20T13:46:15.770220Z",
     "shell.execute_reply.started": "2023-05-20T13:46:15.539560Z",
     "shell.execute_reply": "2023-05-20T13:46:15.769064Z"
    },
    "trusted": true
   },
   "execution_count": 185,
   "outputs": []
  },
  {
   "cell_type": "code",
   "source": [
    "ace_2 = rest_df[rest_df['Antibody']=='ACE2']\n",
    "ace_2_subset = ace_2.sample(n=10000, random_state = SEED)"
   ],
   "metadata": {
    "execution": {
     "iopub.status.busy": "2023-05-20T13:49:01.832418Z",
     "iopub.execute_input": "2023-05-20T13:49:01.833623Z",
     "iopub.status.idle": "2023-05-20T13:49:01.969430Z",
     "shell.execute_reply.started": "2023-05-20T13:49:01.833579Z",
     "shell.execute_reply": "2023-05-20T13:49:01.968265Z"
    },
    "trusted": true
   },
   "execution_count": 193,
   "outputs": []
  },
  {
   "cell_type": "code",
   "source": [
    "trainloader_rest = prepare_dataloader(ace_2_subset, Ab_encode, shuffle=True, batch_size=10)\n",
    "validloader = prepare_dataloader(valid_target, Ab_encode, shuffle=True, batch_size=10)"
   ],
   "metadata": {
    "execution": {
     "iopub.status.busy": "2023-05-20T13:49:02.964058Z",
     "iopub.execute_input": "2023-05-20T13:49:02.964695Z",
     "iopub.status.idle": "2023-05-20T13:49:02.970990Z",
     "shell.execute_reply.started": "2023-05-20T13:49:02.964658Z",
     "shell.execute_reply": "2023-05-20T13:49:02.969787Z"
    },
    "trusted": true
   },
   "execution_count": 194,
   "outputs": []
  },
  {
   "cell_type": "code",
   "source": [
    "model = RNN(input_size=21, seq_lentgth=24, hidden_size=140, num_layers=10, num_classes=1).to(device)\n",
    "criterion = nn.BCEWithLogitsLoss()\n",
    "optimizer = torch.optim.Adam(model.parameters(), lr=1e-5)\n",
    "num_epochs = 30\n",
    "loss_train_hist, loss_valid_hist = training_rnn(model, criterion, optimizer, num_epochs, trainloader_rest, validloader)"
   ],
   "metadata": {
    "execution": {
     "iopub.status.busy": "2023-05-20T13:49:04.158301Z",
     "iopub.execute_input": "2023-05-20T13:49:04.159364Z",
     "iopub.status.idle": "2023-05-20T14:03:35.953506Z",
     "shell.execute_reply.started": "2023-05-20T13:49:04.159320Z",
     "shell.execute_reply": "2023-05-20T14:03:35.952145Z"
    },
    "trusted": true
   },
   "execution_count": 195,
   "outputs": [
    {
     "name": "stderr",
     "text": "100%|██████████| 30/30 [14:31<00:00, 29.06s/it]\n",
     "output_type": "stream"
    }
   ]
  },
  {
   "cell_type": "code",
   "source": [
    "plot_loss(loss_train_hist, loss_valid_hist)"
   ],
   "metadata": {
    "execution": {
     "iopub.status.busy": "2023-05-20T14:05:19.999290Z",
     "iopub.execute_input": "2023-05-20T14:05:20.000401Z",
     "iopub.status.idle": "2023-05-20T14:05:20.388155Z",
     "shell.execute_reply.started": "2023-05-20T14:05:20.000353Z",
     "shell.execute_reply": "2023-05-20T14:05:20.385558Z"
    },
    "trusted": true
   },
   "execution_count": 196,
   "outputs": [
    {
     "output_type": "display_data",
     "data": {
      "text/plain": "<Figure size 640x480 with 1 Axes>",
      "image/png": "[encoded data removed]"
     },
     "metadata": {}
    }
   ]
  },
  {
   "cell_type": "code",
   "source": [
    "evaluate_model_rnn(testloader, model)"
   ],
   "metadata": {
    "execution": {
     "iopub.status.busy": "2023-05-20T14:05:24.641546Z",
     "iopub.execute_input": "2023-05-20T14:05:24.642129Z",
     "iopub.status.idle": "2023-05-20T14:05:28.922846Z",
     "shell.execute_reply.started": "2023-05-20T14:05:24.642091Z",
     "shell.execute_reply": "2023-05-20T14:05:28.921549Z"
    },
    "trusted": true
   },
   "execution_count": 197,
   "outputs": [
    {
     "execution_count": 197,
     "output_type": "execute_result",
     "data": {
      "text/plain": "   accuracy   recall  precision   f1_scor       auc\n0  0.509582  0.98786   0.504632  0.668018  0.530454",
      "text/html": "<div>\n<style scoped>\n    .dataframe tbody tr th:only-of-type {\n        vertical-align: middle;\n    }\n\n    .dataframe tbody tr th {\n        vertical-align: top;\n    }\n\n    .dataframe thead th {\n        text-align: right;\n    }\n</style>\n<table border=\"1\" class=\"dataframe\">\n  <thead>\n    <tr style=\"text-align: right;\">\n      <th></th>\n      <th>accuracy</th>\n      <th>recall</th>\n      <th>precision</th>\n      <th>f1_scor</th>\n      <th>auc</th>\n    </tr>\n  </thead>\n  <tbody>\n    <tr>\n      <th>0</th>\n      <td>0.509582</td>\n      <td>0.98786</td>\n      <td>0.504632</td>\n      <td>0.668018</td>\n      <td>0.530454</td>\n    </tr>\n  </tbody>\n</table>\n</div>"
     },
     "metadata": {}
    }
   ]
  },
  {
   "cell_type": "code",
   "source": [
    "def copy_model(model, *args):\n",
    "    model_copy = type(model)(*args)\n",
    "    model_copy.load_state_dict(model.state_dict())\n",
    "    return model_copy.to(device)"
   ],
   "metadata": {
    "execution": {
     "iopub.status.busy": "2023-05-20T14:05:35.942379Z",
     "iopub.execute_input": "2023-05-20T14:05:35.943237Z",
     "iopub.status.idle": "2023-05-20T14:05:35.949285Z",
     "shell.execute_reply.started": "2023-05-20T14:05:35.943192Z",
     "shell.execute_reply": "2023-05-20T14:05:35.948209Z"
    },
    "trusted": true
   },
   "execution_count": 198,
   "outputs": []
  },
  {
   "cell_type": "code",
   "source": [
    "model_copy = copy_model(model, 21, 24, 140, 10, 1)"
   ],
   "metadata": {
    "execution": {
     "iopub.status.busy": "2023-05-20T14:05:36.772232Z",
     "iopub.execute_input": "2023-05-20T14:05:36.772651Z",
     "iopub.status.idle": "2023-05-20T14:05:36.813256Z",
     "shell.execute_reply.started": "2023-05-20T14:05:36.772612Z",
     "shell.execute_reply": "2023-05-20T14:05:36.812262Z"
    },
    "trusted": true
   },
   "execution_count": 199,
   "outputs": []
  },
  {
   "cell_type": "code",
   "source": [
    "LY16 = rest_df[rest_df['Antibody']=='LY16']\n",
    "LY16_subset = LY16.sample(n=10000, random_state = SEED)"
   ],
   "metadata": {
    "execution": {
     "iopub.status.busy": "2023-05-20T14:07:02.007380Z",
     "iopub.execute_input": "2023-05-20T14:07:02.008463Z",
     "iopub.status.idle": "2023-05-20T14:07:02.103190Z",
     "shell.execute_reply.started": "2023-05-20T14:07:02.008418Z",
     "shell.execute_reply": "2023-05-20T14:07:02.101860Z"
    },
    "trusted": true
   },
   "execution_count": 201,
   "outputs": []
  },
  {
   "cell_type": "code",
   "source": [
    "trainloader_rest = prepare_dataloader(LY16_subset, Ab_encode, shuffle=True, batch_size=10)"
   ],
   "metadata": {
    "execution": {
     "iopub.status.busy": "2023-05-20T14:07:02.764725Z",
     "iopub.execute_input": "2023-05-20T14:07:02.765712Z",
     "iopub.status.idle": "2023-05-20T14:07:02.771379Z",
     "shell.execute_reply.started": "2023-05-20T14:07:02.765669Z",
     "shell.execute_reply": "2023-05-20T14:07:02.770117Z"
    },
    "trusted": true
   },
   "execution_count": 202,
   "outputs": []
  },
  {
   "cell_type": "code",
   "source": [
    "optimizer = torch.optim.Adam(model_copy.parameters(), lr=1e-5)\n",
    "num_epochs = 30\n",
    "loss_train_hist, loss_valid_hist = training_rnn(model_copy, criterion, optimizer, num_epochs, trainloader_rest, validloader)"
   ],
   "metadata": {
    "execution": {
     "iopub.status.busy": "2023-05-20T14:07:16.756573Z",
     "iopub.execute_input": "2023-05-20T14:07:16.757653Z",
     "iopub.status.idle": "2023-05-20T14:21:52.349764Z",
     "shell.execute_reply.started": "2023-05-20T14:07:16.757610Z",
     "shell.execute_reply": "2023-05-20T14:21:52.348180Z"
    },
    "trusted": true
   },
   "execution_count": 203,
   "outputs": [
    {
     "name": "stderr",
     "text": "100%|██████████| 30/30 [14:35<00:00, 29.19s/it]\n",
     "output_type": "stream"
    }
   ]
  },
  {
   "cell_type": "code",
   "source": [
    "plot_loss(loss_train_hist, loss_valid_hist)"
   ],
   "metadata": {
    "execution": {
     "iopub.status.busy": "2023-05-20T14:22:51.225836Z",
     "iopub.execute_input": "2023-05-20T14:22:51.227084Z",
     "iopub.status.idle": "2023-05-20T14:22:51.509145Z",
     "shell.execute_reply.started": "2023-05-20T14:22:51.227032Z",
     "shell.execute_reply": "2023-05-20T14:22:51.508035Z"
    },
    "trusted": true
   },
   "execution_count": 204,
   "outputs": [
    {
     "output_type": "display_data",
     "data": {
      "text/plain": "<Figure size 640x480 with 1 Axes>",
      "image/png": "[encoded data removed]"
     },
     "metadata": {}
    }
   ]
  },
  {
   "cell_type": "code",
   "source": [
    "evaluate_model_rnn(testloader, model)"
   ],
   "metadata": {
    "execution": {
     "iopub.status.busy": "2023-05-20T14:23:06.537744Z",
     "iopub.execute_input": "2023-05-20T14:23:06.538758Z",
     "iopub.status.idle": "2023-05-20T14:23:10.996276Z",
     "shell.execute_reply.started": "2023-05-20T14:23:06.538715Z",
     "shell.execute_reply": "2023-05-20T14:23:10.995038Z"
    },
    "trusted": true
   },
   "execution_count": 205,
   "outputs": [
    {
     "execution_count": 205,
     "output_type": "execute_result",
     "data": {
      "text/plain": "   accuracy   recall  precision   f1_scor       auc\n0  0.509582  0.98786   0.504632  0.668018  0.530454",
      "text/html": "<div>\n<style scoped>\n    .dataframe tbody tr th:only-of-type {\n        vertical-align: middle;\n    }\n\n    .dataframe tbody tr th {\n        vertical-align: top;\n    }\n\n    .dataframe thead th {\n        text-align: right;\n    }\n</style>\n<table border=\"1\" class=\"dataframe\">\n  <thead>\n    <tr style=\"text-align: right;\">\n      <th></th>\n      <th>accuracy</th>\n      <th>recall</th>\n      <th>precision</th>\n      <th>f1_scor</th>\n      <th>auc</th>\n    </tr>\n  </thead>\n  <tbody>\n    <tr>\n      <th>0</th>\n      <td>0.509582</td>\n      <td>0.98786</td>\n      <td>0.504632</td>\n      <td>0.668018</td>\n      <td>0.530454</td>\n    </tr>\n  </tbody>\n</table>\n</div>"
     },
     "metadata": {}
    }
   ]
  },
  {
   "cell_type": "markdown",
   "source": [
    "Ace2 data increase recall for LY555 data."
   ],
   "metadata": {
    "collapsed": false
   }
  },
  {
   "cell_type": "code",
   "execution_count": null,
   "outputs": [],
   "source": [],
   "metadata": {
    "collapsed": false
   }
  }
 ]
}
