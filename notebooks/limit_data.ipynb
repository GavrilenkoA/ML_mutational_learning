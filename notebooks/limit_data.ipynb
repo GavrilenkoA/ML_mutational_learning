{
 "metadata": {
  "kernelspec": {
   "language": "python",
   "display_name": "Python 3",
   "name": "python3"
  },
  "language_info": {
   "name": "python",
   "version": "3.7.12",
   "mimetype": "text/x-python",
   "codemirror_mode": {
    "name": "ipython",
    "version": 3
   },
   "pygments_lexer": "ipython3",
   "nbconvert_exporter": "python",
   "file_extension": ".py"
  }
 },
 "nbformat_minor": 4,
 "nbformat": 4,
 "cells": [
  {
   "cell_type": "markdown",
   "source": [],
   "metadata": {
    "collapsed": false
   }
  },
  {
   "cell_type": "code",
   "execution_count": 4,
   "outputs": [],
   "source": [
    "import torch.nn as nn\n",
    "import torch\n",
    "from torch.utils.data import Dataset, DataLoader\n",
    "import pandas as pd\n",
    "import sys\n",
    "import random\n",
    "import os\n",
    "import numpy as np"
   ],
   "metadata": {
    "collapsed": false,
    "ExecuteTime": {
     "end_time": "2023-06-01T17:16:03.869666877Z",
     "start_time": "2023-06-01T17:16:03.827871789Z"
    }
   }
  },
  {
   "cell_type": "code",
   "source": [
    "device = torch.device('cuda' if torch.cuda.is_available() else 'cpu')\n",
    "device"
   ],
   "metadata": {
    "execution": {
     "iopub.status.busy": "2023-05-20T11:34:57.414254Z",
     "iopub.execute_input": "2023-05-20T11:34:57.414814Z",
     "iopub.status.idle": "2023-05-20T11:34:57.424830Z",
     "shell.execute_reply.started": "2023-05-20T11:34:57.414761Z",
     "shell.execute_reply": "2023-05-20T11:34:57.423535Z"
    },
    "trusted": true,
    "ExecuteTime": {
     "end_time": "2023-06-01T17:16:04.467053868Z",
     "start_time": "2023-06-01T17:16:04.464602561Z"
    }
   },
   "execution_count": 5,
   "outputs": [
    {
     "data": {
      "text/plain": "device(type='cuda')"
     },
     "execution_count": 5,
     "metadata": {},
     "output_type": "execute_result"
    }
   ]
  },
  {
   "cell_type": "code",
   "execution_count": 6,
   "outputs": [],
   "source": [
    "sys.path.append('../utils')"
   ],
   "metadata": {
    "collapsed": false,
    "ExecuteTime": {
     "end_time": "2023-06-01T17:16:05.050906395Z",
     "start_time": "2023-06-01T17:16:05.046847843Z"
    }
   }
  },
  {
   "cell_type": "code",
   "source": [
    "SEED = 42\n",
    "def seed_everything(seed: int):\n",
    "    random.seed(seed)\n",
    "    os.environ['PYTHONHASHSEED'] = str(seed)\n",
    "    np.random.seed(seed)\n",
    "    torch.manual_seed(seed)\n",
    "    torch.cuda.manual_seed(seed)\n",
    "    torch.backends.cudnn.benchmark = True\n",
    "\n",
    "\n",
    "seed_everything(SEED)"
   ],
   "metadata": {
    "execution": {
     "iopub.status.busy": "2023-05-20T11:34:58.120647Z",
     "iopub.execute_input": "2023-05-20T11:34:58.121039Z",
     "iopub.status.idle": "2023-05-20T11:34:58.128304Z",
     "shell.execute_reply.started": "2023-05-20T11:34:58.121005Z",
     "shell.execute_reply": "2023-05-20T11:34:58.127182Z"
    },
    "trusted": true,
    "ExecuteTime": {
     "end_time": "2023-06-01T17:16:05.589488044Z",
     "start_time": "2023-06-01T17:16:05.580722283Z"
    }
   },
   "execution_count": 7,
   "outputs": []
  },
  {
   "cell_type": "code",
   "source": [
    "from training_nn import training_rnn, training\n",
    "from evaluation import evaluate_model, plot_loss, evaluate_model_rnn\n",
    "from process_data import get_desc, get_data\n",
    "from models import CNN, RNNembed, RNN\n",
    "from dataset import Abencode1, Abencode2, Onehot, OnehotandAB"
   ],
   "metadata": {
    "execution": {
     "iopub.status.busy": "2023-05-20T11:34:58.706258Z",
     "iopub.execute_input": "2023-05-20T11:34:58.707305Z",
     "iopub.status.idle": "2023-05-20T11:34:58.713444Z",
     "shell.execute_reply.started": "2023-05-20T11:34:58.707258Z",
     "shell.execute_reply": "2023-05-20T11:34:58.712170Z"
    },
    "trusted": true,
    "ExecuteTime": {
     "end_time": "2023-06-01T17:34:06.353448484Z",
     "start_time": "2023-06-01T17:34:06.311368141Z"
    }
   },
   "execution_count": 38,
   "outputs": []
  },
  {
   "cell_type": "code",
   "execution_count": 7,
   "outputs": [],
   "source": [
    "train_path = '../dataset/phys_train.csv'\n",
    "test_path = '../dataset/phys_test.csv'"
   ],
   "metadata": {
    "collapsed": false,
    "ExecuteTime": {
     "end_time": "2023-06-01T14:12:12.465218890Z",
     "start_time": "2023-06-01T14:12:12.459983681Z"
    }
   }
  },
  {
   "cell_type": "code",
   "source": [
    "train = pd.read_csv(train_path)"
   ],
   "metadata": {
    "execution": {
     "iopub.status.busy": "2023-05-20T11:35:04.974443Z",
     "iopub.execute_input": "2023-05-20T11:35:04.975212Z",
     "iopub.status.idle": "2023-05-20T11:35:40.471785Z",
     "shell.execute_reply.started": "2023-05-20T11:35:04.975168Z",
     "shell.execute_reply": "2023-05-20T11:35:40.470596Z"
    },
    "trusted": true,
    "ExecuteTime": {
     "end_time": "2023-06-01T13:20:04.716545327Z",
     "start_time": "2023-06-01T13:19:49.076576399Z"
    }
   },
   "execution_count": 8,
   "outputs": []
  },
  {
   "cell_type": "code",
   "source": [
    "test = pd.read_csv(test_path)"
   ],
   "metadata": {
    "execution": {
     "iopub.status.busy": "2023-05-20T11:36:40.833457Z",
     "iopub.execute_input": "2023-05-20T11:36:40.834196Z",
     "iopub.status.idle": "2023-05-20T11:36:45.573869Z",
     "shell.execute_reply.started": "2023-05-20T11:36:40.834155Z",
     "shell.execute_reply": "2023-05-20T11:36:45.572714Z"
    },
    "trusted": true,
    "ExecuteTime": {
     "end_time": "2023-06-01T13:20:09.120044825Z",
     "start_time": "2023-06-01T13:20:07.216443981Z"
    }
   },
   "execution_count": 9,
   "outputs": []
  },
  {
   "cell_type": "code",
   "source": [
    "train['repr'] = get_desc(train)\n",
    "test['repr'] = get_desc(test)"
   ],
   "metadata": {
    "execution": {
     "iopub.status.busy": "2023-05-20T11:36:47.921519Z",
     "iopub.execute_input": "2023-05-20T11:36:47.922244Z",
     "iopub.status.idle": "2023-05-20T11:42:26.358834Z",
     "shell.execute_reply.started": "2023-05-20T11:36:47.922194Z",
     "shell.execute_reply": "2023-05-20T11:42:26.357627Z"
    },
    "trusted": true,
    "ExecuteTime": {
     "end_time": "2023-06-01T13:21:34.357033510Z",
     "start_time": "2023-06-01T13:20:09.822107083Z"
    }
   },
   "execution_count": 10,
   "outputs": []
  },
  {
   "cell_type": "code",
   "source": [
    "train_target, valid_target, target_test, _ = get_data(train, test, target_ab='REGN33')"
   ],
   "metadata": {
    "execution": {
     "iopub.status.busy": "2023-05-20T12:09:02.614406Z",
     "iopub.execute_input": "2023-05-20T12:09:02.616802Z",
     "iopub.status.idle": "2023-05-20T12:09:02.721176Z",
     "shell.execute_reply.started": "2023-05-20T12:09:02.616748Z",
     "shell.execute_reply": "2023-05-20T12:09:02.720111Z"
    },
    "trusted": true,
    "ExecuteTime": {
     "end_time": "2023-06-01T13:22:56.245674278Z",
     "start_time": "2023-06-01T13:22:56.193384226Z"
    }
   },
   "execution_count": 11,
   "outputs": []
  },
  {
   "cell_type": "code",
   "source": [
    "def prepare_dataloader(df, dataset_torch, batch_size=5, shuffle=True):\n",
    "    dataset = dataset_torch(df)\n",
    "    dataloader = DataLoader(dataset, batch_size=batch_size, shuffle=shuffle, num_workers=2)\n",
    "    return dataloader"
   ],
   "metadata": {
    "execution": {
     "iopub.status.busy": "2023-05-20T13:08:01.320797Z",
     "iopub.execute_input": "2023-05-20T13:08:01.321230Z",
     "iopub.status.idle": "2023-05-20T13:08:01.328020Z",
     "shell.execute_reply.started": "2023-05-20T13:08:01.321192Z",
     "shell.execute_reply": "2023-05-20T13:08:01.326665Z"
    },
    "trusted": true,
    "ExecuteTime": {
     "end_time": "2023-06-01T17:16:33.766785701Z",
     "start_time": "2023-06-01T17:16:33.760071157Z"
    }
   },
   "execution_count": 13,
   "outputs": []
  },
  {
   "cell_type": "code",
   "source": [
    "validloader = prepare_dataloader(valid_target, Abencode1, shuffle=False, batch_size=10)\n",
    "trainloader_target = prepare_dataloader(train_target, Abencode1, shuffle=True, batch_size=5)\n",
    "testloader = prepare_dataloader(target_test, Abencode1, shuffle=False, batch_size=50)"
   ],
   "metadata": {
    "execution": {
     "iopub.status.busy": "2023-05-20T11:50:48.798174Z",
     "iopub.execute_input": "2023-05-20T11:50:48.798814Z",
     "iopub.status.idle": "2023-05-20T11:50:48.811640Z",
     "shell.execute_reply.started": "2023-05-20T11:50:48.798747Z",
     "shell.execute_reply": "2023-05-20T11:50:48.810324Z"
    },
    "trusted": true,
    "ExecuteTime": {
     "end_time": "2023-06-01T13:23:04.817431318Z",
     "start_time": "2023-06-01T13:23:04.810603164Z"
    }
   },
   "execution_count": 13,
   "outputs": []
  },
  {
   "cell_type": "markdown",
   "source": [
    "CNN model training"
   ],
   "metadata": {
    "collapsed": false
   }
  },
  {
   "cell_type": "code",
   "source": [
    "model = CNN(41, 100).to(device)\n",
    "criterion = nn.BCEWithLogitsLoss()\n",
    "optimizer = torch.optim.Adam(model.parameters(), lr=1e-5)\n",
    "num_epochs = 30\n",
    "loss_train_hist, loss_valid_hist = training(model, criterion, optimizer, num_epochs, trainloader_target,\n",
    "                                                validloader)"
   ],
   "metadata": {
    "execution": {
     "iopub.status.busy": "2023-05-20T11:50:49.643354Z",
     "iopub.execute_input": "2023-05-20T11:50:49.644670Z",
     "iopub.status.idle": "2023-05-20T11:51:20.480273Z",
     "shell.execute_reply.started": "2023-05-20T11:50:49.644611Z",
     "shell.execute_reply": "2023-05-20T11:51:20.478958Z"
    },
    "trusted": true,
    "ExecuteTime": {
     "end_time": "2023-06-01T12:48:30.517113150Z",
     "start_time": "2023-06-01T12:48:05.206382558Z"
    }
   },
   "execution_count": 19,
   "outputs": [
    {
     "name": "stderr",
     "output_type": "stream",
     "text": [
      "100%|██████████| 30/30 [00:22<00:00,  1.34it/s]\n"
     ]
    }
   ]
  },
  {
   "cell_type": "code",
   "source": [
    "plot_loss(loss_train_hist, loss_valid_hist)"
   ],
   "metadata": {
    "execution": {
     "iopub.status.busy": "2023-05-20T11:51:55.521724Z",
     "iopub.execute_input": "2023-05-20T11:51:55.522155Z",
     "iopub.status.idle": "2023-05-20T11:51:55.824610Z",
     "shell.execute_reply.started": "2023-05-20T11:51:55.522112Z",
     "shell.execute_reply": "2023-05-20T11:51:55.823446Z"
    },
    "trusted": true,
    "ExecuteTime": {
     "end_time": "2023-06-01T12:48:49.593645633Z",
     "start_time": "2023-06-01T12:48:49.387482843Z"
    }
   },
   "execution_count": 20,
   "outputs": [
    {
     "data": {
      "text/plain": "<Figure size 640x480 with 1 Axes>",
      "image/png": "[encoded data removed]"
     },
     "metadata": {},
     "output_type": "display_data"
    }
   ]
  },
  {
   "cell_type": "code",
   "source": [
    "evaluate_model(testloader, model)"
   ],
   "metadata": {
    "execution": {
     "iopub.status.busy": "2023-05-20T11:51:59.432797Z",
     "iopub.execute_input": "2023-05-20T11:51:59.433221Z",
     "iopub.status.idle": "2023-05-20T11:52:01.369896Z",
     "shell.execute_reply.started": "2023-05-20T11:51:59.433181Z",
     "shell.execute_reply": "2023-05-20T11:52:01.368522Z"
    },
    "trusted": true,
    "ExecuteTime": {
     "end_time": "2023-06-01T12:48:56.152594582Z",
     "start_time": "2023-06-01T12:48:54.515314627Z"
    }
   },
   "execution_count": 21,
   "outputs": [
    {
     "data": {
      "text/plain": "   accuracy    recall  precision   f1_scor      auc\n0  0.577225  0.174187   0.893846  0.291557  0.79425",
      "text/html": "<div>\n<style scoped>\n    .dataframe tbody tr th:only-of-type {\n        vertical-align: middle;\n    }\n\n    .dataframe tbody tr th {\n        vertical-align: top;\n    }\n\n    .dataframe thead th {\n        text-align: right;\n    }\n</style>\n<table border=\"1\" class=\"dataframe\">\n  <thead>\n    <tr style=\"text-align: right;\">\n      <th></th>\n      <th>accuracy</th>\n      <th>recall</th>\n      <th>precision</th>\n      <th>f1_scor</th>\n      <th>auc</th>\n    </tr>\n  </thead>\n  <tbody>\n    <tr>\n      <th>0</th>\n      <td>0.577225</td>\n      <td>0.174187</td>\n      <td>0.893846</td>\n      <td>0.291557</td>\n      <td>0.79425</td>\n    </tr>\n  </tbody>\n</table>\n</div>"
     },
     "execution_count": 21,
     "metadata": {},
     "output_type": "execute_result"
    }
   ]
  },
  {
   "cell_type": "code",
   "source": [
    "validloader = prepare_dataloader(valid_target, Abencode2, shuffle=False, batch_size=10)\n",
    "trainloader_target = prepare_dataloader(train_target, Abencode2, shuffle=True, batch_size=5)\n",
    "testloader = prepare_dataloader(target_test, Abencode2, shuffle=False, batch_size=50)"
   ],
   "metadata": {
    "execution": {
     "iopub.status.busy": "2023-05-20T11:57:43.290183Z",
     "iopub.execute_input": "2023-05-20T11:57:43.290617Z",
     "iopub.status.idle": "2023-05-20T11:57:43.298210Z",
     "shell.execute_reply.started": "2023-05-20T11:57:43.290578Z",
     "shell.execute_reply": "2023-05-20T11:57:43.297037Z"
    },
    "trusted": true,
    "ExecuteTime": {
     "end_time": "2023-06-01T13:23:23.491686830Z",
     "start_time": "2023-06-01T13:23:23.447478163Z"
    }
   },
   "execution_count": 14,
   "outputs": []
  },
  {
   "cell_type": "markdown",
   "source": [
    "RNN training"
   ],
   "metadata": {
    "collapsed": false
   }
  },
  {
   "cell_type": "code",
   "source": [
    "model = RNNembed().to(device)\n",
    "criterion = nn.BCEWithLogitsLoss()\n",
    "optimizer = torch.optim.Adam(model.parameters(), lr=1e-5)\n",
    "num_epochs = 30\n",
    "loss_train_hist, loss_valid_hist = training_rnn(model, criterion, optimizer, num_epochs, trainloader_target,\n",
    "                                                validloader)"
   ],
   "metadata": {
    "execution": {
     "iopub.status.busy": "2023-05-20T12:00:09.034971Z",
     "iopub.execute_input": "2023-05-20T12:00:09.035625Z",
     "iopub.status.idle": "2023-05-20T12:00:56.239777Z",
     "shell.execute_reply.started": "2023-05-20T12:00:09.035582Z",
     "shell.execute_reply": "2023-05-20T12:00:56.238560Z"
    },
    "trusted": true,
    "ExecuteTime": {
     "end_time": "2023-06-01T13:24:59.673738308Z",
     "start_time": "2023-06-01T13:24:40.023473815Z"
    }
   },
   "execution_count": 16,
   "outputs": [
    {
     "name": "stderr",
     "output_type": "stream",
     "text": [
      "100%|██████████| 30/30 [00:19<00:00,  1.53it/s]\n"
     ]
    }
   ]
  },
  {
   "cell_type": "code",
   "source": [
    "plot_loss(loss_train_hist, loss_valid_hist)"
   ],
   "metadata": {
    "execution": {
     "iopub.status.busy": "2023-05-20T12:00:58.955087Z",
     "iopub.execute_input": "2023-05-20T12:00:58.956195Z",
     "iopub.status.idle": "2023-05-20T12:01:09.862643Z",
     "shell.execute_reply.started": "2023-05-20T12:00:58.956145Z",
     "shell.execute_reply": "2023-05-20T12:01:09.861487Z"
    },
    "trusted": true,
    "ExecuteTime": {
     "end_time": "2023-06-01T13:25:05.362285649Z",
     "start_time": "2023-06-01T13:25:05.164768719Z"
    }
   },
   "execution_count": 17,
   "outputs": [
    {
     "data": {
      "text/plain": "<Figure size 640x480 with 1 Axes>",
      "image/png": "[encoded data removed]"
     },
     "metadata": {},
     "output_type": "display_data"
    }
   ]
  },
  {
   "cell_type": "code",
   "source": [
    "evaluate_model_rnn(testloader, model)"
   ],
   "metadata": {
    "execution": {
     "iopub.status.busy": "2023-05-20T12:01:17.504124Z",
     "iopub.execute_input": "2023-05-20T12:01:17.504544Z",
     "iopub.status.idle": "2023-05-20T12:01:20.836371Z",
     "shell.execute_reply.started": "2023-05-20T12:01:17.504496Z",
     "shell.execute_reply": "2023-05-20T12:01:20.835009Z"
    },
    "trusted": true,
    "ExecuteTime": {
     "end_time": "2023-06-01T13:25:09.967749416Z",
     "start_time": "2023-06-01T13:25:08.397570268Z"
    }
   },
   "execution_count": 18,
   "outputs": [
    {
     "data": {
      "text/plain": "   accuracy    recall  precision   f1_scor       auc\n0  0.717302  0.633488   0.760482  0.691201  0.801776",
      "text/html": "<div>\n<style scoped>\n    .dataframe tbody tr th:only-of-type {\n        vertical-align: middle;\n    }\n\n    .dataframe tbody tr th {\n        vertical-align: top;\n    }\n\n    .dataframe thead th {\n        text-align: right;\n    }\n</style>\n<table border=\"1\" class=\"dataframe\">\n  <thead>\n    <tr style=\"text-align: right;\">\n      <th></th>\n      <th>accuracy</th>\n      <th>recall</th>\n      <th>precision</th>\n      <th>f1_scor</th>\n      <th>auc</th>\n    </tr>\n  </thead>\n  <tbody>\n    <tr>\n      <th>0</th>\n      <td>0.717302</td>\n      <td>0.633488</td>\n      <td>0.760482</td>\n      <td>0.691201</td>\n      <td>0.801776</td>\n    </tr>\n  </tbody>\n</table>\n</div>"
     },
     "execution_count": 18,
     "metadata": {},
     "output_type": "execute_result"
    }
   ]
  },
  {
   "cell_type": "markdown",
   "source": [],
   "metadata": {
    "collapsed": false
   }
  },
  {
   "cell_type": "markdown",
   "source": [
    "#### Let's evaluate performance algorithm to add RBD mutant sequence interacted with different antibodies."
   ],
   "metadata": {
    "collapsed": false
   }
  },
  {
   "cell_type": "code",
   "execution_count": 78,
   "outputs": [],
   "source": [
    "whole_train = pd.read_csv(\"../dataset/whole_train.csv\")\n",
    "whole_test = pd.read_csv(\"../dataset/whole_test.csv\")"
   ],
   "metadata": {
    "collapsed": false,
    "ExecuteTime": {
     "end_time": "2023-06-01T17:55:34.925194542Z",
     "start_time": "2023-06-01T17:55:34.635846390Z"
    }
   }
  },
  {
   "cell_type": "code",
   "execution_count": 87,
   "outputs": [],
   "source": [
    "train_target, valid_target, target_test, rest_df = get_data(whole_train, whole_test, samples = 200, target_ab='LY555')"
   ],
   "metadata": {
    "collapsed": false,
    "ExecuteTime": {
     "end_time": "2023-06-01T17:57:01.915302333Z",
     "start_time": "2023-06-01T17:57:01.863422421Z"
    }
   }
  },
  {
   "cell_type": "code",
   "execution_count": 88,
   "outputs": [],
   "source": [
    "exclude_pos = [12, 13]"
   ],
   "metadata": {
    "collapsed": false,
    "ExecuteTime": {
     "end_time": "2023-06-01T17:57:03.432368536Z",
     "start_time": "2023-06-01T17:57:03.425902358Z"
    }
   }
  },
  {
   "cell_type": "code",
   "execution_count": 89,
   "outputs": [],
   "source": [
    "def process_seq(seq):\n",
    "     reduce_seq = ''.join([seq[i] for i in range(len(seq)) if i not in exclude_pos])\n",
    "     return reduce_seq"
   ],
   "metadata": {
    "collapsed": false,
    "ExecuteTime": {
     "end_time": "2023-06-01T17:58:00.277510828Z",
     "start_time": "2023-06-01T17:58:00.232673113Z"
    }
   }
  },
  {
   "cell_type": "code",
   "execution_count": 90,
   "outputs": [
    {
     "name": "stderr",
     "output_type": "stream",
     "text": [
      "/tmp/ipykernel_12923/3362057270.py:3: SettingWithCopyWarning: \n",
      "A value is trying to be set on a copy of a slice from a DataFrame.\n",
      "Try using .loc[row_indexer,col_indexer] = value instead\n",
      "\n",
      "See the caveats in the documentation: https://pandas.pydata.org/pandas-docs/stable/user_guide/indexing.html#returning-a-view-versus-a-copy\n",
      "  target_test['junction_aa'] = target_test['junction_aa'].apply(lambda x: process_seq(x))\n"
     ]
    }
   ],
   "source": [
    "train_target['junction_aa'] = train_target['junction_aa'].apply(lambda x: process_seq(x))\n",
    "valid_target['junction_aa'] = valid_target['junction_aa'].apply(lambda x: process_seq(x))\n",
    "target_test['junction_aa'] = target_test['junction_aa'].apply(lambda x: process_seq(x))"
   ],
   "metadata": {
    "collapsed": false,
    "ExecuteTime": {
     "end_time": "2023-06-01T17:58:00.754636534Z",
     "start_time": "2023-06-01T17:58:00.750439893Z"
    }
   }
  },
  {
   "cell_type": "code",
   "execution_count": 91,
   "outputs": [
    {
     "data": {
      "text/plain": "                     junction_aa  consensus_count  Label  Distance Antibody\n74735   KNQGFNCYRPITNYGFYTTAGQDY                1      1        10     ACE2\n374564  KNQGFNCYVPIVRYGFWPTVGQDF                1      1        10     ACE2\n93318   KNKGFNCYTPIYRYGFQPTFGQGF                3      1         8     ACE2\n50146   KNRGFNCYFPLVSYGFQRTLGKDW                1      1         7     ACE2\n26678   KNKKFNCYYPISSYGFFPTVGKSW                2      1        10     ACE2",
      "text/html": "<div>\n<style scoped>\n    .dataframe tbody tr th:only-of-type {\n        vertical-align: middle;\n    }\n\n    .dataframe tbody tr th {\n        vertical-align: top;\n    }\n\n    .dataframe thead th {\n        text-align: right;\n    }\n</style>\n<table border=\"1\" class=\"dataframe\">\n  <thead>\n    <tr style=\"text-align: right;\">\n      <th></th>\n      <th>junction_aa</th>\n      <th>consensus_count</th>\n      <th>Label</th>\n      <th>Distance</th>\n      <th>Antibody</th>\n    </tr>\n  </thead>\n  <tbody>\n    <tr>\n      <th>74735</th>\n      <td>KNQGFNCYRPITNYGFYTTAGQDY</td>\n      <td>1</td>\n      <td>1</td>\n      <td>10</td>\n      <td>ACE2</td>\n    </tr>\n    <tr>\n      <th>374564</th>\n      <td>KNQGFNCYVPIVRYGFWPTVGQDF</td>\n      <td>1</td>\n      <td>1</td>\n      <td>10</td>\n      <td>ACE2</td>\n    </tr>\n    <tr>\n      <th>93318</th>\n      <td>KNKGFNCYTPIYRYGFQPTFGQGF</td>\n      <td>3</td>\n      <td>1</td>\n      <td>8</td>\n      <td>ACE2</td>\n    </tr>\n    <tr>\n      <th>50146</th>\n      <td>KNRGFNCYFPLVSYGFQRTLGKDW</td>\n      <td>1</td>\n      <td>1</td>\n      <td>7</td>\n      <td>ACE2</td>\n    </tr>\n    <tr>\n      <th>26678</th>\n      <td>KNKKFNCYYPISSYGFFPTVGKSW</td>\n      <td>2</td>\n      <td>1</td>\n      <td>10</td>\n      <td>ACE2</td>\n    </tr>\n  </tbody>\n</table>\n</div>"
     },
     "execution_count": 91,
     "metadata": {},
     "output_type": "execute_result"
    }
   ],
   "source": [
    "ace_2 = rest_df[rest_df['Antibody'] == 'ACE2']\n",
    "ace_2_subset = ace_2.sample(n=10000, random_state=SEED)\n",
    "ace_2_subset.head()"
   ],
   "metadata": {
    "collapsed": false,
    "ExecuteTime": {
     "end_time": "2023-06-01T17:58:01.973472194Z",
     "start_time": "2023-06-01T17:58:01.937946434Z"
    }
   }
  },
  {
   "cell_type": "code",
   "execution_count": null,
   "outputs": [],
   "source": [],
   "metadata": {
    "collapsed": false
   }
  },
  {
   "cell_type": "code",
   "execution_count": 92,
   "outputs": [],
   "source": [
    "trainloader_rest = prepare_dataloader(ace_2_subset, OnehotandAB, shuffle=True, batch_size=10)\n",
    "validloader = prepare_dataloader(valid_target, OnehotandAB, shuffle=True, batch_size=10)\n",
    "testloader = prepare_dataloader(target_test, OnehotandAB, shuffle=True, batch_size=10)\n",
    "trainloader_target = prepare_dataloader(train_target, OnehotandAB, shuffle=True, batch_size=10)"
   ],
   "metadata": {
    "collapsed": false,
    "ExecuteTime": {
     "end_time": "2023-06-01T17:58:07.787232692Z",
     "start_time": "2023-06-01T17:58:07.785065256Z"
    }
   }
  },
  {
   "cell_type": "code",
   "execution_count": 93,
   "outputs": [
    {
     "name": "stderr",
     "output_type": "stream",
     "text": [
      "100%|██████████| 30/30 [00:11<00:00,  2.62it/s]\n"
     ]
    }
   ],
   "source": [
    "model = RNNembed(input_size=21, seq_lentgth=22, hidden_size=140, num_layers=10).to(device)\n",
    "criterion = nn.BCEWithLogitsLoss()\n",
    "optimizer = torch.optim.Adam(model.parameters(), lr=1e-5)\n",
    "num_epochs = 30\n",
    "loss_train_hist, loss_valid_hist = training_rnn(model, criterion, optimizer, num_epochs, trainloader_target, validloader)"
   ],
   "metadata": {
    "collapsed": false,
    "ExecuteTime": {
     "end_time": "2023-06-01T17:58:19.939952966Z",
     "start_time": "2023-06-01T17:58:08.463602277Z"
    }
   }
  },
  {
   "cell_type": "code",
   "execution_count": 94,
   "outputs": [
    {
     "data": {
      "text/plain": "<Figure size 640x480 with 1 Axes>",
      "image/png": "[encoded data removed]"
     },
     "metadata": {},
     "output_type": "display_data"
    }
   ],
   "source": [
    "plot_loss(loss_train_hist, loss_valid_hist)"
   ],
   "metadata": {
    "collapsed": false,
    "ExecuteTime": {
     "end_time": "2023-06-01T17:58:22.424324675Z",
     "start_time": "2023-06-01T17:58:22.315597132Z"
    }
   }
  },
  {
   "cell_type": "code",
   "execution_count": 95,
   "outputs": [
    {
     "name": "stderr",
     "output_type": "stream",
     "text": [
      "/home/alexg/ML_mutational_learning/mutations_leaning/lib/python3.10/site-packages/sklearn/metrics/_classification.py:1344: UndefinedMetricWarning: Precision is ill-defined and being set to 0.0 due to no predicted samples. Use `zero_division` parameter to control this behavior.\n",
      "  _warn_prf(average, modifier, msg_start, len(result))\n"
     ]
    },
    {
     "data": {
      "text/plain": "   accuracy  recall  precision  f1_scor       auc\n0  0.495528     0.0        0.0      0.0  0.768164",
      "text/html": "<div>\n<style scoped>\n    .dataframe tbody tr th:only-of-type {\n        vertical-align: middle;\n    }\n\n    .dataframe tbody tr th {\n        vertical-align: top;\n    }\n\n    .dataframe thead th {\n        text-align: right;\n    }\n</style>\n<table border=\"1\" class=\"dataframe\">\n  <thead>\n    <tr style=\"text-align: right;\">\n      <th></th>\n      <th>accuracy</th>\n      <th>recall</th>\n      <th>precision</th>\n      <th>f1_scor</th>\n      <th>auc</th>\n    </tr>\n  </thead>\n  <tbody>\n    <tr>\n      <th>0</th>\n      <td>0.495528</td>\n      <td>0.0</td>\n      <td>0.0</td>\n      <td>0.0</td>\n      <td>0.768164</td>\n    </tr>\n  </tbody>\n</table>\n</div>"
     },
     "execution_count": 95,
     "metadata": {},
     "output_type": "execute_result"
    }
   ],
   "source": [
    "evaluate_model_rnn(testloader, model)"
   ],
   "metadata": {
    "collapsed": false,
    "ExecuteTime": {
     "end_time": "2023-06-01T17:58:26.915676317Z",
     "start_time": "2023-06-01T17:58:26.370890441Z"
    }
   }
  },
  {
   "cell_type": "code",
   "execution_count": 52,
   "outputs": [
    {
     "name": "stderr",
     "output_type": "stream",
     "text": [
      "100%|██████████| 30/30 [00:11<00:00,  2.67it/s]\n"
     ]
    }
   ],
   "source": [
    "loss_train_hist, loss_valid_hist = training_rnn(model, criterion, optimizer, num_epochs, trainloader_target, validloader)"
   ],
   "metadata": {
    "collapsed": false,
    "ExecuteTime": {
     "end_time": "2023-06-01T17:46:12.949121283Z",
     "start_time": "2023-06-01T17:46:01.725904105Z"
    }
   }
  },
  {
   "cell_type": "code",
   "execution_count": 53,
   "outputs": [
    {
     "data": {
      "text/plain": "<Figure size 640x480 with 1 Axes>",
      "image/png": "[encoded data removed]"
     },
     "metadata": {},
     "output_type": "display_data"
    }
   ],
   "source": [
    "plot_loss(loss_train_hist, loss_valid_hist)"
   ],
   "metadata": {
    "collapsed": false,
    "ExecuteTime": {
     "end_time": "2023-06-01T17:46:14.567660421Z",
     "start_time": "2023-06-01T17:46:14.459965195Z"
    }
   }
  },
  {
   "cell_type": "code",
   "execution_count": 54,
   "outputs": [
    {
     "data": {
      "text/plain": "   accuracy    recall  precision   f1_scor       auc\n0  0.667263  0.548463      0.725  0.624495  0.731391",
      "text/html": "<div>\n<style scoped>\n    .dataframe tbody tr th:only-of-type {\n        vertical-align: middle;\n    }\n\n    .dataframe tbody tr th {\n        vertical-align: top;\n    }\n\n    .dataframe thead th {\n        text-align: right;\n    }\n</style>\n<table border=\"1\" class=\"dataframe\">\n  <thead>\n    <tr style=\"text-align: right;\">\n      <th></th>\n      <th>accuracy</th>\n      <th>recall</th>\n      <th>precision</th>\n      <th>f1_scor</th>\n      <th>auc</th>\n    </tr>\n  </thead>\n  <tbody>\n    <tr>\n      <th>0</th>\n      <td>0.667263</td>\n      <td>0.548463</td>\n      <td>0.725</td>\n      <td>0.624495</td>\n      <td>0.731391</td>\n    </tr>\n  </tbody>\n</table>\n</div>"
     },
     "execution_count": 54,
     "metadata": {},
     "output_type": "execute_result"
    }
   ],
   "source": [
    "evaluate_model_rnn(testloader, model)"
   ],
   "metadata": {
    "collapsed": false,
    "ExecuteTime": {
     "end_time": "2023-06-01T17:46:16.995040610Z",
     "start_time": "2023-06-01T17:46:16.401707062Z"
    }
   }
  },
  {
   "cell_type": "code",
   "execution_count": null,
   "outputs": [],
   "source": [],
   "metadata": {
    "collapsed": false
   }
  }
 ]
}
