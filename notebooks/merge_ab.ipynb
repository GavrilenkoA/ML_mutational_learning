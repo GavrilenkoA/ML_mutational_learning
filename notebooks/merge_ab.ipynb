{
 "cells": [
  {
   "cell_type": "code",
   "execution_count": 68,
   "metadata": {},
   "outputs": [],
   "source": [
    "import os\n",
    "import pandas as pd\n",
    "import numpy as np\n",
    "import sys\n",
    "import torch\n",
    "import torch\n",
    "import torch.nn as nn"
   ]
  },
  {
   "cell_type": "code",
   "execution_count": 46,
   "metadata": {},
   "outputs": [],
   "source": [
    "device = torch.device('cuda' if torch.cuda.is_available() else 'cpu')"
   ]
  },
  {
   "cell_type": "code",
   "execution_count": 47,
   "metadata": {},
   "outputs": [
    {
     "data": {
      "text/plain": [
       "device(type='cuda')"
      ]
     },
     "execution_count": 47,
     "metadata": {},
     "output_type": "execute_result"
    }
   ],
   "source": [
    "device"
   ]
  },
  {
   "cell_type": "code",
   "execution_count": 48,
   "metadata": {},
   "outputs": [
    {
     "data": {
      "text/plain": [
       "'/home/alexg/ML_mutational_learning'"
      ]
     },
     "execution_count": 48,
     "metadata": {},
     "output_type": "execute_result"
    }
   ],
   "source": [
    "os.getcwd()"
   ]
  },
  {
   "cell_type": "code",
   "execution_count": 49,
   "metadata": {},
   "outputs": [],
   "source": [
    "os.chdir(\"..\")"
   ]
  },
  {
   "cell_type": "code",
   "execution_count": 50,
   "metadata": {},
   "outputs": [
    {
     "data": {
      "text/plain": [
       "'/home/alexg'"
      ]
     },
     "execution_count": 50,
     "metadata": {},
     "output_type": "execute_result"
    }
   ],
   "source": [
    "os.getcwd()"
   ]
  },
  {
   "cell_type": "code",
   "execution_count": 51,
   "metadata": {},
   "outputs": [],
   "source": [
    "sys.path.append('./scripts/')"
   ]
  },
  {
   "cell_type": "code",
   "execution_count": 52,
   "metadata": {},
   "outputs": [],
   "source": [
    "from scripts.train import training"
   ]
  },
  {
   "cell_type": "code",
   "execution_count": 53,
   "metadata": {},
   "outputs": [],
   "source": [
    "from scripts.models import CNNModel\n",
    "from scripts.data import get_desc"
   ]
  },
  {
   "cell_type": "code",
   "execution_count": 10,
   "metadata": {},
   "outputs": [],
   "source": [
    "DIR_NAME = './data/ab/'"
   ]
  },
  {
   "cell_type": "code",
   "execution_count": 11,
   "metadata": {},
   "outputs": [],
   "source": [
    "train_name = 'train.csv.gz'\n",
    "test_name = 'test.csv.gz'"
   ]
  },
  {
   "cell_type": "code",
   "execution_count": 12,
   "metadata": {},
   "outputs": [],
   "source": [
    "train_path = os.path.join(DIR_NAME, train_name)\n",
    "test_path = os.path.join(DIR_NAME, test_name)\n"
   ]
  },
  {
   "cell_type": "code",
   "execution_count": 13,
   "metadata": {},
   "outputs": [
    {
     "data": {
      "text/plain": [
       "'./data/ab/train.csv.gz'"
      ]
     },
     "execution_count": 13,
     "metadata": {},
     "output_type": "execute_result"
    }
   ],
   "source": [
    "train_path"
   ]
  },
  {
   "cell_type": "code",
   "execution_count": 14,
   "metadata": {},
   "outputs": [],
   "source": [
    "train = pd.read_csv(train_path,  compression='gzip')"
   ]
  },
  {
   "cell_type": "code",
   "execution_count": 15,
   "metadata": {},
   "outputs": [],
   "source": [
    "test = pd.read_csv(test_path,  compression='gzip')"
   ]
  },
  {
   "cell_type": "code",
   "execution_count": 16,
   "metadata": {},
   "outputs": [
    {
     "data": {
      "text/html": [
       "<div>\n",
       "<style scoped>\n",
       "    .dataframe tbody tr th:only-of-type {\n",
       "        vertical-align: middle;\n",
       "    }\n",
       "\n",
       "    .dataframe tbody tr th {\n",
       "        vertical-align: top;\n",
       "    }\n",
       "\n",
       "    .dataframe thead th {\n",
       "        text-align: right;\n",
       "    }\n",
       "</style>\n",
       "<table border=\"1\" class=\"dataframe\">\n",
       "  <thead>\n",
       "    <tr style=\"text-align: right;\">\n",
       "      <th></th>\n",
       "      <th>junction_aa</th>\n",
       "      <th>v_call</th>\n",
       "      <th>consensus_count</th>\n",
       "      <th>j_call</th>\n",
       "      <th>clonal_frequency</th>\n",
       "      <th>Label</th>\n",
       "      <th>Distance</th>\n",
       "      <th>Antibody</th>\n",
       "      <th>repr</th>\n",
       "    </tr>\n",
       "  </thead>\n",
       "  <tbody>\n",
       "    <tr>\n",
       "      <th>0</th>\n",
       "      <td>KNEGFNCYIPLVTYGFHTTTGVSY</td>\n",
       "      <td>IGHV_RBD</td>\n",
       "      <td>1</td>\n",
       "      <td>IGHJ_RBD</td>\n",
       "      <td>0.000028</td>\n",
       "      <td>0</td>\n",
       "      <td>7</td>\n",
       "      <td>LY16</td>\n",
       "      <td>[[ 0.0000000e+00  0.0000000e+00  0.0000000e+00...</td>\n",
       "    </tr>\n",
       "    <tr>\n",
       "      <th>1</th>\n",
       "      <td>KNKGFNCYSPITEYGFFPTNGKNF</td>\n",
       "      <td>IGHV_RBD</td>\n",
       "      <td>2</td>\n",
       "      <td>IGHJ_RBD</td>\n",
       "      <td>0.000093</td>\n",
       "      <td>1</td>\n",
       "      <td>9</td>\n",
       "      <td>LY16</td>\n",
       "      <td>[[ 0.0000000e+00  0.0000000e+00  0.0000000e+00...</td>\n",
       "    </tr>\n",
       "    <tr>\n",
       "      <th>2</th>\n",
       "      <td>SKQGFNCYCPLIGYGFQRTFGVGW</td>\n",
       "      <td>IGHV_RBD</td>\n",
       "      <td>1</td>\n",
       "      <td>IGHJ_RBD</td>\n",
       "      <td>0.000028</td>\n",
       "      <td>0</td>\n",
       "      <td>9</td>\n",
       "      <td>LY16</td>\n",
       "      <td>[[ 0.0000000e+00  0.0000000e+00  0.0000000e+00...</td>\n",
       "    </tr>\n",
       "    <tr>\n",
       "      <th>3</th>\n",
       "      <td>KNRQFNCYWPLVRYGFWTTSGVGW</td>\n",
       "      <td>IGHV_RBD</td>\n",
       "      <td>1</td>\n",
       "      <td>IGHJ_RBD</td>\n",
       "      <td>0.000028</td>\n",
       "      <td>0</td>\n",
       "      <td>9</td>\n",
       "      <td>LY16</td>\n",
       "      <td>[[ 0.0000000e+00  0.0000000e+00  0.0000000e+00...</td>\n",
       "    </tr>\n",
       "    <tr>\n",
       "      <th>4</th>\n",
       "      <td>KNPGFNCYLPLGHYGFQPTNGRDF</td>\n",
       "      <td>IGHV_RBD</td>\n",
       "      <td>3</td>\n",
       "      <td>IGHJ_RBD</td>\n",
       "      <td>0.000140</td>\n",
       "      <td>1</td>\n",
       "      <td>7</td>\n",
       "      <td>LY16</td>\n",
       "      <td>[[ 0.00000000e+00  0.00000000e+00  0.00000000e...</td>\n",
       "    </tr>\n",
       "  </tbody>\n",
       "</table>\n",
       "</div>"
      ],
      "text/plain": [
       "                junction_aa    v_call  consensus_count    j_call   \n",
       "0  KNEGFNCYIPLVTYGFHTTTGVSY  IGHV_RBD                1  IGHJ_RBD  \\\n",
       "1  KNKGFNCYSPITEYGFFPTNGKNF  IGHV_RBD                2  IGHJ_RBD   \n",
       "2  SKQGFNCYCPLIGYGFQRTFGVGW  IGHV_RBD                1  IGHJ_RBD   \n",
       "3  KNRQFNCYWPLVRYGFWTTSGVGW  IGHV_RBD                1  IGHJ_RBD   \n",
       "4  KNPGFNCYLPLGHYGFQPTNGRDF  IGHV_RBD                3  IGHJ_RBD   \n",
       "\n",
       "   clonal_frequency  Label  Distance Antibody   \n",
       "0          0.000028      0         7     LY16  \\\n",
       "1          0.000093      1         9     LY16   \n",
       "2          0.000028      0         9     LY16   \n",
       "3          0.000028      0         9     LY16   \n",
       "4          0.000140      1         7     LY16   \n",
       "\n",
       "                                                repr  \n",
       "0  [[ 0.0000000e+00  0.0000000e+00  0.0000000e+00...  \n",
       "1  [[ 0.0000000e+00  0.0000000e+00  0.0000000e+00...  \n",
       "2  [[ 0.0000000e+00  0.0000000e+00  0.0000000e+00...  \n",
       "3  [[ 0.0000000e+00  0.0000000e+00  0.0000000e+00...  \n",
       "4  [[ 0.00000000e+00  0.00000000e+00  0.00000000e...  "
      ]
     },
     "execution_count": 16,
     "metadata": {},
     "output_type": "execute_result"
    }
   ],
   "source": [
    "train.head()"
   ]
  },
  {
   "cell_type": "code",
   "execution_count": 17,
   "metadata": {},
   "outputs": [],
   "source": [
    "train['repr'] = get_desc(train)"
   ]
  },
  {
   "cell_type": "code",
   "execution_count": 18,
   "metadata": {},
   "outputs": [],
   "source": [
    "test['repr'] = get_desc(test)"
   ]
  },
  {
   "cell_type": "code",
   "execution_count": 19,
   "metadata": {},
   "outputs": [
    {
     "data": {
      "text/html": [
       "<div>\n",
       "<style scoped>\n",
       "    .dataframe tbody tr th:only-of-type {\n",
       "        vertical-align: middle;\n",
       "    }\n",
       "\n",
       "    .dataframe tbody tr th {\n",
       "        vertical-align: top;\n",
       "    }\n",
       "\n",
       "    .dataframe thead th {\n",
       "        text-align: right;\n",
       "    }\n",
       "</style>\n",
       "<table border=\"1\" class=\"dataframe\">\n",
       "  <thead>\n",
       "    <tr style=\"text-align: right;\">\n",
       "      <th></th>\n",
       "      <th>junction_aa</th>\n",
       "      <th>v_call</th>\n",
       "      <th>consensus_count</th>\n",
       "      <th>j_call</th>\n",
       "      <th>clonal_frequency</th>\n",
       "      <th>Label</th>\n",
       "      <th>Distance</th>\n",
       "      <th>Antibody</th>\n",
       "      <th>repr</th>\n",
       "    </tr>\n",
       "  </thead>\n",
       "  <tbody>\n",
       "    <tr>\n",
       "      <th>0</th>\n",
       "      <td>KNTGFNCYFPLLAYGFHPTSGVDY</td>\n",
       "      <td>IGHV_RBD</td>\n",
       "      <td>1</td>\n",
       "      <td>IGHJ_RBD</td>\n",
       "      <td>0.000063</td>\n",
       "      <td>0</td>\n",
       "      <td>6</td>\n",
       "      <td>LY16</td>\n",
       "      <td>[[0.0, 0.0, 0.0, 0.0, 0.0, 0.0, 0.0, 0.0, 0.0,...</td>\n",
       "    </tr>\n",
       "    <tr>\n",
       "      <th>1</th>\n",
       "      <td>KNPGFNCYHPIVGYGFQPTIGHDF</td>\n",
       "      <td>IGHV_RBD</td>\n",
       "      <td>1</td>\n",
       "      <td>IGHJ_RBD</td>\n",
       "      <td>0.000047</td>\n",
       "      <td>1</td>\n",
       "      <td>9</td>\n",
       "      <td>LY16</td>\n",
       "      <td>[[0.0, 0.0, 0.0, 0.0, 0.0, 0.0, 0.0, 0.0, 0.0,...</td>\n",
       "    </tr>\n",
       "    <tr>\n",
       "      <th>2</th>\n",
       "      <td>TTAGFNCYMPITRYGFWPTDGRSW</td>\n",
       "      <td>IGHV_RBD</td>\n",
       "      <td>1</td>\n",
       "      <td>IGHJ_RBD</td>\n",
       "      <td>0.000028</td>\n",
       "      <td>0</td>\n",
       "      <td>12</td>\n",
       "      <td>LY16</td>\n",
       "      <td>[[0.0, 0.0, 0.0, 0.0, 0.0, 0.0, 0.0, 0.0, 0.0,...</td>\n",
       "    </tr>\n",
       "    <tr>\n",
       "      <th>3</th>\n",
       "      <td>RNRGFNCYDPIHKYGFHRTNGLNY</td>\n",
       "      <td>IGHV_RBD</td>\n",
       "      <td>1</td>\n",
       "      <td>IGHJ_RBD</td>\n",
       "      <td>0.000047</td>\n",
       "      <td>1</td>\n",
       "      <td>10</td>\n",
       "      <td>LY16</td>\n",
       "      <td>[[0.0, 0.0, 0.0, 0.0, 0.0, 0.0, 0.0, 0.0, 0.0,...</td>\n",
       "    </tr>\n",
       "    <tr>\n",
       "      <th>4</th>\n",
       "      <td>KNKKFNCYVPLVTYGFHPTNGVNY</td>\n",
       "      <td>IGHV_RBD</td>\n",
       "      <td>1</td>\n",
       "      <td>IGHJ_RBD</td>\n",
       "      <td>0.000028</td>\n",
       "      <td>0</td>\n",
       "      <td>7</td>\n",
       "      <td>LY16</td>\n",
       "      <td>[[0.0, 0.0, 0.0, 0.0, 0.0, 0.0, 0.0, 0.0, 0.0,...</td>\n",
       "    </tr>\n",
       "  </tbody>\n",
       "</table>\n",
       "</div>"
      ],
      "text/plain": [
       "                junction_aa    v_call  consensus_count    j_call   \n",
       "0  KNTGFNCYFPLLAYGFHPTSGVDY  IGHV_RBD                1  IGHJ_RBD  \\\n",
       "1  KNPGFNCYHPIVGYGFQPTIGHDF  IGHV_RBD                1  IGHJ_RBD   \n",
       "2  TTAGFNCYMPITRYGFWPTDGRSW  IGHV_RBD                1  IGHJ_RBD   \n",
       "3  RNRGFNCYDPIHKYGFHRTNGLNY  IGHV_RBD                1  IGHJ_RBD   \n",
       "4  KNKKFNCYVPLVTYGFHPTNGVNY  IGHV_RBD                1  IGHJ_RBD   \n",
       "\n",
       "   clonal_frequency  Label  Distance Antibody   \n",
       "0          0.000063      0         6     LY16  \\\n",
       "1          0.000047      1         9     LY16   \n",
       "2          0.000028      0        12     LY16   \n",
       "3          0.000047      1        10     LY16   \n",
       "4          0.000028      0         7     LY16   \n",
       "\n",
       "                                                repr  \n",
       "0  [[0.0, 0.0, 0.0, 0.0, 0.0, 0.0, 0.0, 0.0, 0.0,...  \n",
       "1  [[0.0, 0.0, 0.0, 0.0, 0.0, 0.0, 0.0, 0.0, 0.0,...  \n",
       "2  [[0.0, 0.0, 0.0, 0.0, 0.0, 0.0, 0.0, 0.0, 0.0,...  \n",
       "3  [[0.0, 0.0, 0.0, 0.0, 0.0, 0.0, 0.0, 0.0, 0.0,...  \n",
       "4  [[0.0, 0.0, 0.0, 0.0, 0.0, 0.0, 0.0, 0.0, 0.0,...  "
      ]
     },
     "execution_count": 19,
     "metadata": {},
     "output_type": "execute_result"
    }
   ],
   "source": [
    "test.head()"
   ]
  },
  {
   "cell_type": "code",
   "execution_count": 20,
   "metadata": {},
   "outputs": [
    {
     "data": {
      "text/html": [
       "<div>\n",
       "<style scoped>\n",
       "    .dataframe tbody tr th:only-of-type {\n",
       "        vertical-align: middle;\n",
       "    }\n",
       "\n",
       "    .dataframe tbody tr th {\n",
       "        vertical-align: top;\n",
       "    }\n",
       "\n",
       "    .dataframe thead th {\n",
       "        text-align: right;\n",
       "    }\n",
       "</style>\n",
       "<table border=\"1\" class=\"dataframe\">\n",
       "  <thead>\n",
       "    <tr style=\"text-align: right;\">\n",
       "      <th></th>\n",
       "      <th>junction_aa</th>\n",
       "      <th>v_call</th>\n",
       "      <th>consensus_count</th>\n",
       "      <th>j_call</th>\n",
       "      <th>clonal_frequency</th>\n",
       "      <th>Label</th>\n",
       "      <th>Distance</th>\n",
       "      <th>Antibody</th>\n",
       "      <th>repr</th>\n",
       "    </tr>\n",
       "  </thead>\n",
       "  <tbody>\n",
       "    <tr>\n",
       "      <th>0</th>\n",
       "      <td>KNEGFNCYIPLVTYGFHTTTGVSY</td>\n",
       "      <td>IGHV_RBD</td>\n",
       "      <td>1</td>\n",
       "      <td>IGHJ_RBD</td>\n",
       "      <td>0.000028</td>\n",
       "      <td>0</td>\n",
       "      <td>7</td>\n",
       "      <td>LY16</td>\n",
       "      <td>[[0.0, 0.0, 0.0, 0.0, 0.0, 0.0, 0.0, 0.0, 0.0,...</td>\n",
       "    </tr>\n",
       "    <tr>\n",
       "      <th>1</th>\n",
       "      <td>KNKGFNCYSPITEYGFFPTNGKNF</td>\n",
       "      <td>IGHV_RBD</td>\n",
       "      <td>2</td>\n",
       "      <td>IGHJ_RBD</td>\n",
       "      <td>0.000093</td>\n",
       "      <td>1</td>\n",
       "      <td>9</td>\n",
       "      <td>LY16</td>\n",
       "      <td>[[0.0, 0.0, 0.0, 0.0, 0.0, 0.0, 0.0, 0.0, 0.0,...</td>\n",
       "    </tr>\n",
       "    <tr>\n",
       "      <th>2</th>\n",
       "      <td>SKQGFNCYCPLIGYGFQRTFGVGW</td>\n",
       "      <td>IGHV_RBD</td>\n",
       "      <td>1</td>\n",
       "      <td>IGHJ_RBD</td>\n",
       "      <td>0.000028</td>\n",
       "      <td>0</td>\n",
       "      <td>9</td>\n",
       "      <td>LY16</td>\n",
       "      <td>[[0.0, 0.0, 0.0, 0.0, 0.0, 0.0, 0.0, 0.0, 0.0,...</td>\n",
       "    </tr>\n",
       "    <tr>\n",
       "      <th>3</th>\n",
       "      <td>KNRQFNCYWPLVRYGFWTTSGVGW</td>\n",
       "      <td>IGHV_RBD</td>\n",
       "      <td>1</td>\n",
       "      <td>IGHJ_RBD</td>\n",
       "      <td>0.000028</td>\n",
       "      <td>0</td>\n",
       "      <td>9</td>\n",
       "      <td>LY16</td>\n",
       "      <td>[[0.0, 0.0, 0.0, 0.0, 0.0, 0.0, 0.0, 0.0, 0.0,...</td>\n",
       "    </tr>\n",
       "    <tr>\n",
       "      <th>4</th>\n",
       "      <td>KNPGFNCYLPLGHYGFQPTNGRDF</td>\n",
       "      <td>IGHV_RBD</td>\n",
       "      <td>3</td>\n",
       "      <td>IGHJ_RBD</td>\n",
       "      <td>0.000140</td>\n",
       "      <td>1</td>\n",
       "      <td>7</td>\n",
       "      <td>LY16</td>\n",
       "      <td>[[0.0, 0.0, 0.0, 0.0, 0.0, 0.0, 0.0, 0.0, 0.0,...</td>\n",
       "    </tr>\n",
       "  </tbody>\n",
       "</table>\n",
       "</div>"
      ],
      "text/plain": [
       "                junction_aa    v_call  consensus_count    j_call   \n",
       "0  KNEGFNCYIPLVTYGFHTTTGVSY  IGHV_RBD                1  IGHJ_RBD  \\\n",
       "1  KNKGFNCYSPITEYGFFPTNGKNF  IGHV_RBD                2  IGHJ_RBD   \n",
       "2  SKQGFNCYCPLIGYGFQRTFGVGW  IGHV_RBD                1  IGHJ_RBD   \n",
       "3  KNRQFNCYWPLVRYGFWTTSGVGW  IGHV_RBD                1  IGHJ_RBD   \n",
       "4  KNPGFNCYLPLGHYGFQPTNGRDF  IGHV_RBD                3  IGHJ_RBD   \n",
       "\n",
       "   clonal_frequency  Label  Distance Antibody   \n",
       "0          0.000028      0         7     LY16  \\\n",
       "1          0.000093      1         9     LY16   \n",
       "2          0.000028      0         9     LY16   \n",
       "3          0.000028      0         9     LY16   \n",
       "4          0.000140      1         7     LY16   \n",
       "\n",
       "                                                repr  \n",
       "0  [[0.0, 0.0, 0.0, 0.0, 0.0, 0.0, 0.0, 0.0, 0.0,...  \n",
       "1  [[0.0, 0.0, 0.0, 0.0, 0.0, 0.0, 0.0, 0.0, 0.0,...  \n",
       "2  [[0.0, 0.0, 0.0, 0.0, 0.0, 0.0, 0.0, 0.0, 0.0,...  \n",
       "3  [[0.0, 0.0, 0.0, 0.0, 0.0, 0.0, 0.0, 0.0, 0.0,...  \n",
       "4  [[0.0, 0.0, 0.0, 0.0, 0.0, 0.0, 0.0, 0.0, 0.0,...  "
      ]
     },
     "execution_count": 20,
     "metadata": {},
     "output_type": "execute_result"
    }
   ],
   "source": [
    "train.head()"
   ]
  },
  {
   "cell_type": "code",
   "execution_count": 21,
   "metadata": {},
   "outputs": [],
   "source": [
    "def make_map():\n",
    "    mapp_ = {}\n",
    "    for i, ab in enumerate(train['Antibody'].unique()):\n",
    "        mapp_[ab] = i\n",
    "    return mapp_"
   ]
  },
  {
   "cell_type": "code",
   "execution_count": 22,
   "metadata": {},
   "outputs": [],
   "source": [
    "mapp_ = make_map()"
   ]
  },
  {
   "cell_type": "code",
   "execution_count": 23,
   "metadata": {},
   "outputs": [],
   "source": [
    "def func_(x):\n",
    "    pos = mapp_[x['Antibody']]\n",
    "    features = x['repr']\n",
    "    ab_feature = np.zeros((24, 1))\n",
    "    ab_feature[pos] = 1\n",
    "    features = np.concatenate((ab_feature, features), axis=1)\n",
    "    return features"
   ]
  },
  {
   "cell_type": "code",
   "execution_count": 24,
   "metadata": {},
   "outputs": [],
   "source": [
    "train['repr'] = train.apply(func_, axis=1)"
   ]
  },
  {
   "cell_type": "code",
   "execution_count": 25,
   "metadata": {},
   "outputs": [],
   "source": [
    "test['repr'] = test.apply(func_, axis=1)"
   ]
  },
  {
   "attachments": {},
   "cell_type": "markdown",
   "metadata": {},
   "source": [
    "Specify the target antibodies"
   ]
  },
  {
   "cell_type": "code",
   "execution_count": 26,
   "metadata": {},
   "outputs": [],
   "source": [
    "target_ab = 'REGN33'"
   ]
  },
  {
   "cell_type": "code",
   "execution_count": 27,
   "metadata": {},
   "outputs": [],
   "source": [
    "SEED = 42"
   ]
  },
  {
   "cell_type": "code",
   "execution_count": 28,
   "metadata": {},
   "outputs": [],
   "source": [
    "def get_data(target_ab, train, test, frac = 0.3):\n",
    "    target_df = train.loc[train['Antibody'] == target_ab]\n",
    "    rest_df = train.loc[train['Antibody'] != target_ab]\n",
    "    target_test = test.loc[test['Antibody'] == target_ab]\n",
    "    \n",
    "    sample_target = target_df.sample(frac=frac, random_state=SEED)\n",
    "    \n",
    "    train_target = sample_target.iloc[:25000, :]\n",
    "    valid_target = sample_target.iloc[25000:, :]\n",
    "    \n",
    "    return train_target, valid_target, target_test, rest_df"
   ]
  },
  {
   "cell_type": "code",
   "execution_count": 29,
   "metadata": {},
   "outputs": [],
   "source": [
    "train_target, valid_target, target_test, rest_df = get_data(target_ab, train, test)"
   ]
  },
  {
   "attachments": {},
   "cell_type": "markdown",
   "metadata": {},
   "source": [
    "Первый вариант - сначала просто другие антитела в обучении. "
   ]
  },
  {
   "cell_type": "code",
   "execution_count": 30,
   "metadata": {},
   "outputs": [],
   "source": [
    "from torch.utils.data import Dataset, DataLoader"
   ]
  },
  {
   "cell_type": "code",
   "execution_count": 31,
   "metadata": {},
   "outputs": [
    {
     "data": {
      "text/html": [
       "<div>\n",
       "<style scoped>\n",
       "    .dataframe tbody tr th:only-of-type {\n",
       "        vertical-align: middle;\n",
       "    }\n",
       "\n",
       "    .dataframe tbody tr th {\n",
       "        vertical-align: top;\n",
       "    }\n",
       "\n",
       "    .dataframe thead th {\n",
       "        text-align: right;\n",
       "    }\n",
       "</style>\n",
       "<table border=\"1\" class=\"dataframe\">\n",
       "  <thead>\n",
       "    <tr style=\"text-align: right;\">\n",
       "      <th></th>\n",
       "      <th>junction_aa</th>\n",
       "      <th>v_call</th>\n",
       "      <th>consensus_count</th>\n",
       "      <th>j_call</th>\n",
       "      <th>clonal_frequency</th>\n",
       "      <th>Label</th>\n",
       "      <th>Distance</th>\n",
       "      <th>Antibody</th>\n",
       "      <th>repr</th>\n",
       "    </tr>\n",
       "  </thead>\n",
       "  <tbody>\n",
       "    <tr>\n",
       "      <th>0</th>\n",
       "      <td>KNEGFNCYIPLVTYGFHTTTGVSY</td>\n",
       "      <td>IGHV_RBD</td>\n",
       "      <td>1</td>\n",
       "      <td>IGHJ_RBD</td>\n",
       "      <td>0.000028</td>\n",
       "      <td>0</td>\n",
       "      <td>7</td>\n",
       "      <td>LY16</td>\n",
       "      <td>[[1.0, 0.0, 0.0, 0.0, 0.0, 0.0, 0.0, 0.0, 0.0,...</td>\n",
       "    </tr>\n",
       "    <tr>\n",
       "      <th>1</th>\n",
       "      <td>KNKGFNCYSPITEYGFFPTNGKNF</td>\n",
       "      <td>IGHV_RBD</td>\n",
       "      <td>2</td>\n",
       "      <td>IGHJ_RBD</td>\n",
       "      <td>0.000093</td>\n",
       "      <td>1</td>\n",
       "      <td>9</td>\n",
       "      <td>LY16</td>\n",
       "      <td>[[1.0, 0.0, 0.0, 0.0, 0.0, 0.0, 0.0, 0.0, 0.0,...</td>\n",
       "    </tr>\n",
       "    <tr>\n",
       "      <th>2</th>\n",
       "      <td>SKQGFNCYCPLIGYGFQRTFGVGW</td>\n",
       "      <td>IGHV_RBD</td>\n",
       "      <td>1</td>\n",
       "      <td>IGHJ_RBD</td>\n",
       "      <td>0.000028</td>\n",
       "      <td>0</td>\n",
       "      <td>9</td>\n",
       "      <td>LY16</td>\n",
       "      <td>[[1.0, 0.0, 0.0, 0.0, 0.0, 0.0, 0.0, 0.0, 0.0,...</td>\n",
       "    </tr>\n",
       "    <tr>\n",
       "      <th>3</th>\n",
       "      <td>KNRQFNCYWPLVRYGFWTTSGVGW</td>\n",
       "      <td>IGHV_RBD</td>\n",
       "      <td>1</td>\n",
       "      <td>IGHJ_RBD</td>\n",
       "      <td>0.000028</td>\n",
       "      <td>0</td>\n",
       "      <td>9</td>\n",
       "      <td>LY16</td>\n",
       "      <td>[[1.0, 0.0, 0.0, 0.0, 0.0, 0.0, 0.0, 0.0, 0.0,...</td>\n",
       "    </tr>\n",
       "    <tr>\n",
       "      <th>4</th>\n",
       "      <td>KNPGFNCYLPLGHYGFQPTNGRDF</td>\n",
       "      <td>IGHV_RBD</td>\n",
       "      <td>3</td>\n",
       "      <td>IGHJ_RBD</td>\n",
       "      <td>0.000140</td>\n",
       "      <td>1</td>\n",
       "      <td>7</td>\n",
       "      <td>LY16</td>\n",
       "      <td>[[1.0, 0.0, 0.0, 0.0, 0.0, 0.0, 0.0, 0.0, 0.0,...</td>\n",
       "    </tr>\n",
       "  </tbody>\n",
       "</table>\n",
       "</div>"
      ],
      "text/plain": [
       "                junction_aa    v_call  consensus_count    j_call   \n",
       "0  KNEGFNCYIPLVTYGFHTTTGVSY  IGHV_RBD                1  IGHJ_RBD  \\\n",
       "1  KNKGFNCYSPITEYGFFPTNGKNF  IGHV_RBD                2  IGHJ_RBD   \n",
       "2  SKQGFNCYCPLIGYGFQRTFGVGW  IGHV_RBD                1  IGHJ_RBD   \n",
       "3  KNRQFNCYWPLVRYGFWTTSGVGW  IGHV_RBD                1  IGHJ_RBD   \n",
       "4  KNPGFNCYLPLGHYGFQPTNGRDF  IGHV_RBD                3  IGHJ_RBD   \n",
       "\n",
       "   clonal_frequency  Label  Distance Antibody   \n",
       "0          0.000028      0         7     LY16  \\\n",
       "1          0.000093      1         9     LY16   \n",
       "2          0.000028      0         9     LY16   \n",
       "3          0.000028      0         9     LY16   \n",
       "4          0.000140      1         7     LY16   \n",
       "\n",
       "                                                repr  \n",
       "0  [[1.0, 0.0, 0.0, 0.0, 0.0, 0.0, 0.0, 0.0, 0.0,...  \n",
       "1  [[1.0, 0.0, 0.0, 0.0, 0.0, 0.0, 0.0, 0.0, 0.0,...  \n",
       "2  [[1.0, 0.0, 0.0, 0.0, 0.0, 0.0, 0.0, 0.0, 0.0,...  \n",
       "3  [[1.0, 0.0, 0.0, 0.0, 0.0, 0.0, 0.0, 0.0, 0.0,...  \n",
       "4  [[1.0, 0.0, 0.0, 0.0, 0.0, 0.0, 0.0, 0.0, 0.0,...  "
      ]
     },
     "execution_count": 31,
     "metadata": {},
     "output_type": "execute_result"
    }
   ],
   "source": [
    "rest_df.head()"
   ]
  },
  {
   "cell_type": "code",
   "execution_count": 32,
   "metadata": {},
   "outputs": [],
   "source": [
    "class Data(Dataset):\n",
    "    def __init__(self, df):\n",
    "        self.df = df\n",
    "    \n",
    "    def __len__(self):\n",
    "        return len(self.df)\n",
    "    \n",
    "    \n",
    "    def __getitem__(self, idx):\n",
    "        feature = self.df.repr.iloc[idx]\n",
    "        label = self.df.Label.iloc[idx]\n",
    "        return feature, label"
   ]
  },
  {
   "cell_type": "code",
   "execution_count": 33,
   "metadata": {},
   "outputs": [],
   "source": [
    "from collections import defaultdict"
   ]
  },
  {
   "cell_type": "code",
   "execution_count": 35,
   "metadata": {},
   "outputs": [],
   "source": [
    "def prepare_dataloader(df, batch_size= 5, shuffle=True, collate_fn = None):\n",
    "    dataset = Data(df)\n",
    "    dataloader = DataLoader(dataset, batch_size=batch_size, shuffle=True, num_workers=2, collate_fn=collate_fn)\n",
    "    return dataloader"
   ]
  },
  {
   "cell_type": "code",
   "execution_count": 36,
   "metadata": {},
   "outputs": [],
   "source": [
    "trainloader = prepare_dataloader(rest_df, shuffle=True)"
   ]
  },
  {
   "cell_type": "code",
   "execution_count": 37,
   "metadata": {},
   "outputs": [],
   "source": [
    "validloader = prepare_dataloader(valid_target, shuffle=False)"
   ]
  },
  {
   "cell_type": "code",
   "execution_count": 38,
   "metadata": {},
   "outputs": [],
   "source": [
    "testloader = prepare_dataloader(target_test, shuffle=False)"
   ]
  },
  {
   "attachments": {},
   "cell_type": "markdown",
   "metadata": {},
   "source": [
    "Попробовать разные стратегии обучения"
   ]
  },
  {
   "attachments": {},
   "cell_type": "markdown",
   "metadata": {},
   "source": [
    "1) Подавать антитела равномерно на каждой эпохе \n",
    "2) Последовательно"
   ]
  },
  {
   "cell_type": "code",
   "execution_count": 39,
   "metadata": {},
   "outputs": [],
   "source": [
    "\n",
    "device = torch.device('cuda' if torch.cuda.is_available() else 'cpu')"
   ]
  },
  {
   "cell_type": "code",
   "execution_count": 54,
   "metadata": {},
   "outputs": [],
   "source": [
    "model = CNNModel(41, 100).to(device)"
   ]
  },
  {
   "cell_type": "code",
   "execution_count": 55,
   "metadata": {},
   "outputs": [],
   "source": [
    "criterion = nn.BCEWithLogitsLoss()\n",
    "optimizer = torch.optim.Adam(model.parameters(), lr=1e-3)\n",
    "num_epochs = 12"
   ]
  },
  {
   "cell_type": "code",
   "execution_count": 56,
   "metadata": {},
   "outputs": [
    {
     "data": {
      "text/plain": [
       "device(type='cuda')"
      ]
     },
     "execution_count": 56,
     "metadata": {},
     "output_type": "execute_result"
    }
   ],
   "source": [
    "device"
   ]
  },
  {
   "cell_type": "code",
   "execution_count": 57,
   "metadata": {},
   "outputs": [
    {
     "name": "stderr",
     "output_type": "stream",
     "text": [
      "100%|██████████| 12/12 [06:45<00:00, 33.83s/it]\n"
     ]
    }
   ],
   "source": [
    "loss_train_hist, loss_valid_hist = training(model, criterion, optimizer, num_epochs, trainloader, validloader)"
   ]
  },
  {
   "cell_type": "code",
   "execution_count": 58,
   "metadata": {},
   "outputs": [],
   "source": [
    "from scripts.evaluate import plot_loss, evaluate_model"
   ]
  },
  {
   "cell_type": "code",
   "execution_count": 59,
   "metadata": {},
   "outputs": [
    {
     "data": {
      "image/png": "[encoded data removed]",
      "text/plain": [
       "<Figure size 640x480 with 1 Axes>"
      ]
     },
     "metadata": {},
     "output_type": "display_data"
    }
   ],
   "source": [
    "plot_loss(loss_train_hist, loss_valid_hist)"
   ]
  },
  {
   "cell_type": "code",
   "execution_count": 60,
   "metadata": {},
   "outputs": [
    {
     "data": {
      "text/html": [
       "<div>\n",
       "<style scoped>\n",
       "    .dataframe tbody tr th:only-of-type {\n",
       "        vertical-align: middle;\n",
       "    }\n",
       "\n",
       "    .dataframe tbody tr th {\n",
       "        vertical-align: top;\n",
       "    }\n",
       "\n",
       "    .dataframe thead th {\n",
       "        text-align: right;\n",
       "    }\n",
       "</style>\n",
       "<table border=\"1\" class=\"dataframe\">\n",
       "  <thead>\n",
       "    <tr style=\"text-align: right;\">\n",
       "      <th></th>\n",
       "      <th>accuracy</th>\n",
       "      <th>recall</th>\n",
       "      <th>precision</th>\n",
       "      <th>f1_scor</th>\n",
       "      <th>auc</th>\n",
       "    </tr>\n",
       "  </thead>\n",
       "  <tbody>\n",
       "    <tr>\n",
       "      <th>0</th>\n",
       "      <td>0.555289</td>\n",
       "      <td>0.257982</td>\n",
       "      <td>0.634821</td>\n",
       "      <td>0.366873</td>\n",
       "      <td>0.622816</td>\n",
       "    </tr>\n",
       "  </tbody>\n",
       "</table>\n",
       "</div>"
      ],
      "text/plain": [
       "   accuracy    recall  precision   f1_scor       auc\n",
       "0  0.555289  0.257982   0.634821  0.366873  0.622816"
      ]
     },
     "execution_count": 60,
     "metadata": {},
     "output_type": "execute_result"
    }
   ],
   "source": [
    "evaluate_model(testloader, model)"
   ]
  },
  {
   "attachments": {},
   "cell_type": "markdown",
   "metadata": {},
   "source": [
    "##### Все другие антитела +  10000  таргентого антитела"
   ]
  },
  {
   "cell_type": "code",
   "execution_count": 52,
   "metadata": {},
   "outputs": [
    {
     "data": {
      "text/plain": [
       "(25000, 9)"
      ]
     },
     "execution_count": 52,
     "metadata": {},
     "output_type": "execute_result"
    }
   ],
   "source": [
    "train_target.shape  # (25000 - объектов)"
   ]
  },
  {
   "cell_type": "code",
   "execution_count": 63,
   "metadata": {},
   "outputs": [],
   "source": [
    "s1 = train_target.iloc[:10000, :]"
   ]
  },
  {
   "cell_type": "code",
   "execution_count": 66,
   "metadata": {},
   "outputs": [],
   "source": [
    "add_train = pd.concat([s1, rest_df])"
   ]
  },
  {
   "cell_type": "code",
   "execution_count": 68,
   "metadata": {},
   "outputs": [],
   "source": [
    "trainloader = prepare_dataloader(add_train, shuffle=True)"
   ]
  },
  {
   "cell_type": "code",
   "execution_count": 69,
   "metadata": {},
   "outputs": [
    {
     "name": "stderr",
     "output_type": "stream",
     "text": [
      "100%|██████████| 12/12 [08:54<00:00, 44.57s/it]\n"
     ]
    }
   ],
   "source": [
    "model = CNNModel(41, 100).to(device)\n",
    "criterion = nn.BCEWithLogitsLoss()\n",
    "optimizer = torch.optim.Adam(model.parameters(), lr=1e-3)\n",
    "num_epochs = 12\n",
    "loss_train_hist, loss_valid_hist = training(model, criterion, optimizer, num_epochs, trainloader, validloader)"
   ]
  },
  {
   "cell_type": "code",
   "execution_count": 70,
   "metadata": {},
   "outputs": [
    {
     "data": {
      "image/png": "[encoded data removed]",
      "text/plain": [
       "<Figure size 640x480 with 1 Axes>"
      ]
     },
     "metadata": {},
     "output_type": "display_data"
    }
   ],
   "source": [
    "plot_loss(loss_train_hist, loss_valid_hist)"
   ]
  },
  {
   "cell_type": "code",
   "execution_count": 71,
   "metadata": {},
   "outputs": [
    {
     "data": {
      "text/html": [
       "<div>\n",
       "<style scoped>\n",
       "    .dataframe tbody tr th:only-of-type {\n",
       "        vertical-align: middle;\n",
       "    }\n",
       "\n",
       "    .dataframe tbody tr th {\n",
       "        vertical-align: top;\n",
       "    }\n",
       "\n",
       "    .dataframe thead th {\n",
       "        text-align: right;\n",
       "    }\n",
       "</style>\n",
       "<table border=\"1\" class=\"dataframe\">\n",
       "  <thead>\n",
       "    <tr style=\"text-align: right;\">\n",
       "      <th></th>\n",
       "      <th>accuracy</th>\n",
       "      <th>recall</th>\n",
       "      <th>precision</th>\n",
       "      <th>f1_scor</th>\n",
       "      <th>auc</th>\n",
       "    </tr>\n",
       "  </thead>\n",
       "  <tbody>\n",
       "    <tr>\n",
       "      <th>0</th>\n",
       "      <td>0.889197</td>\n",
       "      <td>0.867186</td>\n",
       "      <td>0.906882</td>\n",
       "      <td>0.88659</td>\n",
       "      <td>0.958959</td>\n",
       "    </tr>\n",
       "  </tbody>\n",
       "</table>\n",
       "</div>"
      ],
      "text/plain": [
       "   accuracy    recall  precision  f1_scor       auc\n",
       "0  0.889197  0.867186   0.906882  0.88659  0.958959"
      ]
     },
     "execution_count": 71,
     "metadata": {},
     "output_type": "execute_result"
    }
   ],
   "source": [
    "evaluate_model(testloader, model)"
   ]
  },
  {
   "cell_type": "code",
   "execution_count": 82,
   "metadata": {},
   "outputs": [],
   "source": [
    "s2 = train_target.iloc[:17000, :]\n",
    "add_train = pd.concat([s2, rest_df])\n",
    "trainloader = prepare_dataloader(add_train, shuffle=True)"
   ]
  },
  {
   "cell_type": "code",
   "execution_count": 75,
   "metadata": {},
   "outputs": [
    {
     "name": "stderr",
     "output_type": "stream",
     "text": [
      "100%|██████████| 12/12 [09:48<00:00, 49.04s/it]\n"
     ]
    }
   ],
   "source": [
    "model = CNNModel(41, 100).to(device)\n",
    "criterion = nn.BCEWithLogitsLoss()\n",
    "optimizer = torch.optim.Adam(model.parameters(), lr=1e-3)\n",
    "num_epochs = 12\n",
    "loss_train_hist, loss_valid_hist = training(model, criterion, optimizer, num_epochs, trainloader, validloader)"
   ]
  },
  {
   "cell_type": "code",
   "execution_count": 76,
   "metadata": {},
   "outputs": [
    {
     "data": {
      "image/png": "[encoded data removed]",
      "text/plain": [
       "<Figure size 640x480 with 1 Axes>"
      ]
     },
     "metadata": {},
     "output_type": "display_data"
    }
   ],
   "source": [
    "plot_loss(loss_train_hist, loss_valid_hist)"
   ]
  },
  {
   "cell_type": "code",
   "execution_count": 77,
   "metadata": {},
   "outputs": [
    {
     "data": {
      "text/html": [
       "<div>\n",
       "<style scoped>\n",
       "    .dataframe tbody tr th:only-of-type {\n",
       "        vertical-align: middle;\n",
       "    }\n",
       "\n",
       "    .dataframe tbody tr th {\n",
       "        vertical-align: top;\n",
       "    }\n",
       "\n",
       "    .dataframe thead th {\n",
       "        text-align: right;\n",
       "    }\n",
       "</style>\n",
       "<table border=\"1\" class=\"dataframe\">\n",
       "  <thead>\n",
       "    <tr style=\"text-align: right;\">\n",
       "      <th></th>\n",
       "      <th>accuracy</th>\n",
       "      <th>recall</th>\n",
       "      <th>precision</th>\n",
       "      <th>f1_scor</th>\n",
       "      <th>auc</th>\n",
       "    </tr>\n",
       "  </thead>\n",
       "  <tbody>\n",
       "    <tr>\n",
       "      <th>0</th>\n",
       "      <td>0.902748</td>\n",
       "      <td>0.899265</td>\n",
       "      <td>0.905373</td>\n",
       "      <td>0.902309</td>\n",
       "      <td>0.963091</td>\n",
       "    </tr>\n",
       "  </tbody>\n",
       "</table>\n",
       "</div>"
      ],
      "text/plain": [
       "   accuracy    recall  precision   f1_scor       auc\n",
       "0  0.902748  0.899265   0.905373  0.902309  0.963091"
      ]
     },
     "execution_count": 77,
     "metadata": {},
     "output_type": "execute_result"
    }
   ],
   "source": [
    "evaluate_model(testloader, model)"
   ]
  },
  {
   "attachments": {},
   "cell_type": "markdown",
   "metadata": {},
   "source": [
    "### Обучение на  всех 0.3 данных тарегентого антитела + всех антител."
   ]
  },
  {
   "cell_type": "code",
   "execution_count": 78,
   "metadata": {},
   "outputs": [],
   "source": [
    "s3 = train_target.iloc[:, :]\n",
    "add_train = pd.concat([s3, rest_df])\n",
    "trainloader = prepare_dataloader(add_train, shuffle=True)"
   ]
  },
  {
   "cell_type": "code",
   "execution_count": 79,
   "metadata": {},
   "outputs": [
    {
     "name": "stderr",
     "output_type": "stream",
     "text": [
      "100%|██████████| 12/12 [11:02<00:00, 55.19s/it]\n"
     ]
    }
   ],
   "source": [
    "model = CNNModel(41, 100).to(device)\n",
    "criterion = nn.BCEWithLogitsLoss()\n",
    "optimizer = torch.optim.Adam(model.parameters(), lr=1e-3)\n",
    "num_epochs = 12\n",
    "loss_train_hist, loss_valid_hist = training(model, criterion, optimizer, num_epochs, trainloader, validloader)"
   ]
  },
  {
   "cell_type": "code",
   "execution_count": 80,
   "metadata": {},
   "outputs": [
    {
     "data": {
      "image/png": "[encoded data removed]",
      "text/plain": [
       "<Figure size 640x480 with 1 Axes>"
      ]
     },
     "metadata": {},
     "output_type": "display_data"
    }
   ],
   "source": [
    "plot_loss(loss_train_hist, loss_valid_hist)"
   ]
  },
  {
   "cell_type": "code",
   "execution_count": 81,
   "metadata": {},
   "outputs": [
    {
     "data": {
      "text/html": [
       "<div>\n",
       "<style scoped>\n",
       "    .dataframe tbody tr th:only-of-type {\n",
       "        vertical-align: middle;\n",
       "    }\n",
       "\n",
       "    .dataframe tbody tr th {\n",
       "        vertical-align: top;\n",
       "    }\n",
       "\n",
       "    .dataframe thead th {\n",
       "        text-align: right;\n",
       "    }\n",
       "</style>\n",
       "<table border=\"1\" class=\"dataframe\">\n",
       "  <thead>\n",
       "    <tr style=\"text-align: right;\">\n",
       "      <th></th>\n",
       "      <th>accuracy</th>\n",
       "      <th>recall</th>\n",
       "      <th>precision</th>\n",
       "      <th>f1_scor</th>\n",
       "      <th>auc</th>\n",
       "    </tr>\n",
       "  </thead>\n",
       "  <tbody>\n",
       "    <tr>\n",
       "      <th>0</th>\n",
       "      <td>0.897207</td>\n",
       "      <td>0.866437</td>\n",
       "      <td>0.923028</td>\n",
       "      <td>0.893837</td>\n",
       "      <td>0.965941</td>\n",
       "    </tr>\n",
       "  </tbody>\n",
       "</table>\n",
       "</div>"
      ],
      "text/plain": [
       "   accuracy    recall  precision   f1_scor       auc\n",
       "0  0.897207  0.866437   0.923028  0.893837  0.965941"
      ]
     },
     "execution_count": 81,
     "metadata": {},
     "output_type": "execute_result"
    }
   ],
   "source": [
    "evaluate_model(testloader, model)"
   ]
  },
  {
   "attachments": {},
   "cell_type": "markdown",
   "metadata": {},
   "source": [
    "Добавление новых данных таргета увлечили precision но упустили recall"
   ]
  },
  {
   "attachments": {},
   "cell_type": "markdown",
   "metadata": {},
   "source": [
    "### Обучение только на 0.3 данных таргентого антитела."
   ]
  },
  {
   "cell_type": "code",
   "execution_count": 63,
   "metadata": {},
   "outputs": [],
   "source": [
    "trainloader = prepare_dataloader(train_target, shuffle=True)"
   ]
  },
  {
   "cell_type": "code",
   "execution_count": 65,
   "metadata": {},
   "outputs": [
    {
     "name": "stderr",
     "output_type": "stream",
     "text": [
      "100%|██████████| 12/12 [02:08<00:00, 10.72s/it]\n"
     ]
    }
   ],
   "source": [
    "model = CNNModel(41, 100).to(device)\n",
    "criterion = nn.BCEWithLogitsLoss()\n",
    "optimizer = torch.optim.Adam(model.parameters(), lr=1e-3)\n",
    "num_epochs = 12\n",
    "loss_train_hist, loss_valid_hist = training(model, criterion, optimizer, num_epochs, trainloader)"
   ]
  },
  {
   "cell_type": "code",
   "execution_count": 66,
   "metadata": {},
   "outputs": [
    {
     "data": {
      "text/html": [
       "<div>\n",
       "<style scoped>\n",
       "    .dataframe tbody tr th:only-of-type {\n",
       "        vertical-align: middle;\n",
       "    }\n",
       "\n",
       "    .dataframe tbody tr th {\n",
       "        vertical-align: top;\n",
       "    }\n",
       "\n",
       "    .dataframe thead th {\n",
       "        text-align: right;\n",
       "    }\n",
       "</style>\n",
       "<table border=\"1\" class=\"dataframe\">\n",
       "  <thead>\n",
       "    <tr style=\"text-align: right;\">\n",
       "      <th></th>\n",
       "      <th>accuracy</th>\n",
       "      <th>recall</th>\n",
       "      <th>precision</th>\n",
       "      <th>f1_scor</th>\n",
       "      <th>auc</th>\n",
       "    </tr>\n",
       "  </thead>\n",
       "  <tbody>\n",
       "    <tr>\n",
       "      <th>0</th>\n",
       "      <td>0.90694</td>\n",
       "      <td>0.89297</td>\n",
       "      <td>0.91844</td>\n",
       "      <td>0.905526</td>\n",
       "      <td>0.967691</td>\n",
       "    </tr>\n",
       "  </tbody>\n",
       "</table>\n",
       "</div>"
      ],
      "text/plain": [
       "   accuracy   recall  precision   f1_scor       auc\n",
       "0   0.90694  0.89297    0.91844  0.905526  0.967691"
      ]
     },
     "execution_count": 66,
     "metadata": {},
     "output_type": "execute_result"
    }
   ],
   "source": [
    "evaluate_model(testloader, model)"
   ]
  },
  {
   "attachments": {},
   "cell_type": "markdown",
   "metadata": {},
   "source": [
    "#### Можно попробовать разные варианты порядка подачи данных в сетку"
   ]
  },
  {
   "attachments": {},
   "cell_type": "markdown",
   "metadata": {},
   "source": [
    "##### 1. Сначала использовать данные других антител, потом добивать таргентым. "
   ]
  },
  {
   "attachments": {},
   "cell_type": "markdown",
   "metadata": {},
   "source": [
    "####  И порядок: \n",
    "1. Сначала миксованнные антитела + тарегет \n",
    "\n"
   ]
  },
  {
   "cell_type": "code",
   "execution_count": 75,
   "metadata": {},
   "outputs": [],
   "source": [
    "trainloader_1 = prepare_dataloader(rest_df, shuffle=True)\n",
    "trainloader_2 = prepare_dataloader(train_target, shuffle=True)"
   ]
  },
  {
   "cell_type": "code",
   "execution_count": 76,
   "metadata": {},
   "outputs": [
    {
     "name": "stderr",
     "output_type": "stream",
     "text": [
      "100%|██████████| 12/12 [06:50<00:00, 34.17s/it]\n"
     ]
    }
   ],
   "source": [
    "model = CNNModel(41, 100).to(device)\n",
    "criterion = nn.BCEWithLogitsLoss()\n",
    "optimizer = torch.optim.Adam(model.parameters(), lr=1e-3)\n",
    "num_epochs = 12\n",
    "loss_train_hist, loss_valid_hist = training(model, criterion, optimizer, num_epochs, trainloader_1, validloader)"
   ]
  },
  {
   "cell_type": "code",
   "execution_count": 77,
   "metadata": {},
   "outputs": [
    {
     "data": {
      "image/png": "[encoded data removed]",
      "text/plain": [
       "<Figure size 640x480 with 1 Axes>"
      ]
     },
     "metadata": {},
     "output_type": "display_data"
    }
   ],
   "source": [
    "plot_loss(loss_train_hist, loss_valid_hist)"
   ]
  },
  {
   "cell_type": "code",
   "execution_count": 78,
   "metadata": {},
   "outputs": [
    {
     "data": {
      "text/html": [
       "<div>\n",
       "<style scoped>\n",
       "    .dataframe tbody tr th:only-of-type {\n",
       "        vertical-align: middle;\n",
       "    }\n",
       "\n",
       "    .dataframe tbody tr th {\n",
       "        vertical-align: top;\n",
       "    }\n",
       "\n",
       "    .dataframe thead th {\n",
       "        text-align: right;\n",
       "    }\n",
       "</style>\n",
       "<table border=\"1\" class=\"dataframe\">\n",
       "  <thead>\n",
       "    <tr style=\"text-align: right;\">\n",
       "      <th></th>\n",
       "      <th>accuracy</th>\n",
       "      <th>recall</th>\n",
       "      <th>precision</th>\n",
       "      <th>f1_scor</th>\n",
       "      <th>auc</th>\n",
       "    </tr>\n",
       "  </thead>\n",
       "  <tbody>\n",
       "    <tr>\n",
       "      <th>0</th>\n",
       "      <td>0.615932</td>\n",
       "      <td>0.391845</td>\n",
       "      <td>0.708977</td>\n",
       "      <td>0.504731</td>\n",
       "      <td>0.729928</td>\n",
       "    </tr>\n",
       "  </tbody>\n",
       "</table>\n",
       "</div>"
      ],
      "text/plain": [
       "   accuracy    recall  precision   f1_scor       auc\n",
       "0  0.615932  0.391845   0.708977  0.504731  0.729928"
      ]
     },
     "execution_count": 78,
     "metadata": {},
     "output_type": "execute_result"
    }
   ],
   "source": [
    "evaluate_model(testloader, model)"
   ]
  },
  {
   "cell_type": "code",
   "execution_count": 79,
   "metadata": {},
   "outputs": [
    {
     "name": "stderr",
     "output_type": "stream",
     "text": [
      "100%|██████████| 12/12 [02:50<00:00, 14.20s/it]\n"
     ]
    }
   ],
   "source": [
    "criterion = nn.BCEWithLogitsLoss()\n",
    "optimizer = torch.optim.Adam(model.parameters(), lr=1e-3)\n",
    "num_epochs = 12\n",
    "loss_train_hist, loss_valid_hist = training(model, criterion, optimizer, num_epochs, trainloader_2, validloader)"
   ]
  },
  {
   "cell_type": "code",
   "execution_count": 80,
   "metadata": {},
   "outputs": [
    {
     "data": {
      "text/html": [
       "<div>\n",
       "<style scoped>\n",
       "    .dataframe tbody tr th:only-of-type {\n",
       "        vertical-align: middle;\n",
       "    }\n",
       "\n",
       "    .dataframe tbody tr th {\n",
       "        vertical-align: top;\n",
       "    }\n",
       "\n",
       "    .dataframe thead th {\n",
       "        text-align: right;\n",
       "    }\n",
       "</style>\n",
       "<table border=\"1\" class=\"dataframe\">\n",
       "  <thead>\n",
       "    <tr style=\"text-align: right;\">\n",
       "      <th></th>\n",
       "      <th>accuracy</th>\n",
       "      <th>recall</th>\n",
       "      <th>precision</th>\n",
       "      <th>f1_scor</th>\n",
       "      <th>auc</th>\n",
       "    </tr>\n",
       "  </thead>\n",
       "  <tbody>\n",
       "    <tr>\n",
       "      <th>0</th>\n",
       "      <td>0.88141</td>\n",
       "      <td>0.824764</td>\n",
       "      <td>0.929863</td>\n",
       "      <td>0.874166</td>\n",
       "      <td>0.963015</td>\n",
       "    </tr>\n",
       "  </tbody>\n",
       "</table>\n",
       "</div>"
      ],
      "text/plain": [
       "   accuracy    recall  precision   f1_scor       auc\n",
       "0   0.88141  0.824764   0.929863  0.874166  0.963015"
      ]
     },
     "execution_count": 80,
     "metadata": {},
     "output_type": "execute_result"
    }
   ],
   "source": [
    "evaluate_model(testloader, model)"
   ]
  },
  {
   "attachments": {},
   "cell_type": "markdown",
   "metadata": {},
   "source": [
    "2. Cначала тарегет + миксованные антитела"
   ]
  },
  {
   "cell_type": "code",
   "execution_count": 81,
   "metadata": {},
   "outputs": [
    {
     "name": "stderr",
     "output_type": "stream",
     "text": [
      "100%|██████████| 12/12 [02:47<00:00, 13.98s/it]\n"
     ]
    }
   ],
   "source": [
    "model = CNNModel(41, 100).to(device)\n",
    "criterion = nn.BCEWithLogitsLoss()\n",
    "optimizer = torch.optim.Adam(model.parameters(), lr=1e-3)\n",
    "num_epochs = 12\n",
    "loss_train_hist, loss_valid_hist = training(model, criterion, optimizer, num_epochs, trainloader_2, validloader)"
   ]
  },
  {
   "cell_type": "code",
   "execution_count": 82,
   "metadata": {},
   "outputs": [
    {
     "data": {
      "image/png": "[encoded data removed]",
      "text/plain": [
       "<Figure size 640x480 with 1 Axes>"
      ]
     },
     "metadata": {},
     "output_type": "display_data"
    }
   ],
   "source": [
    "plot_loss(loss_train_hist, loss_valid_hist)"
   ]
  },
  {
   "cell_type": "code",
   "execution_count": 83,
   "metadata": {},
   "outputs": [
    {
     "data": {
      "text/html": [
       "<div>\n",
       "<style scoped>\n",
       "    .dataframe tbody tr th:only-of-type {\n",
       "        vertical-align: middle;\n",
       "    }\n",
       "\n",
       "    .dataframe tbody tr th {\n",
       "        vertical-align: top;\n",
       "    }\n",
       "\n",
       "    .dataframe thead th {\n",
       "        text-align: right;\n",
       "    }\n",
       "</style>\n",
       "<table border=\"1\" class=\"dataframe\">\n",
       "  <thead>\n",
       "    <tr style=\"text-align: right;\">\n",
       "      <th></th>\n",
       "      <th>accuracy</th>\n",
       "      <th>recall</th>\n",
       "      <th>precision</th>\n",
       "      <th>f1_scor</th>\n",
       "      <th>auc</th>\n",
       "    </tr>\n",
       "  </thead>\n",
       "  <tbody>\n",
       "    <tr>\n",
       "      <th>0</th>\n",
       "      <td>0.891368</td>\n",
       "      <td>0.848149</td>\n",
       "      <td>0.92815</td>\n",
       "      <td>0.886348</td>\n",
       "      <td>0.96488</td>\n",
       "    </tr>\n",
       "  </tbody>\n",
       "</table>\n",
       "</div>"
      ],
      "text/plain": [
       "   accuracy    recall  precision   f1_scor      auc\n",
       "0  0.891368  0.848149    0.92815  0.886348  0.96488"
      ]
     },
     "execution_count": 83,
     "metadata": {},
     "output_type": "execute_result"
    }
   ],
   "source": [
    "evaluate_model(testloader, model)"
   ]
  },
  {
   "cell_type": "code",
   "execution_count": 84,
   "metadata": {},
   "outputs": [
    {
     "name": "stderr",
     "output_type": "stream",
     "text": [
      "100%|██████████| 12/12 [06:59<00:00, 34.92s/it]\n"
     ]
    }
   ],
   "source": [
    "criterion = nn.BCEWithLogitsLoss()\n",
    "optimizer = torch.optim.Adam(model.parameters(), lr=1e-3)\n",
    "num_epochs = 12\n",
    "loss_train_hist, loss_valid_hist = training(model, criterion, optimizer, num_epochs, trainloader_1, validloader)"
   ]
  },
  {
   "cell_type": "code",
   "execution_count": 85,
   "metadata": {},
   "outputs": [
    {
     "data": {
      "text/html": [
       "<div>\n",
       "<style scoped>\n",
       "    .dataframe tbody tr th:only-of-type {\n",
       "        vertical-align: middle;\n",
       "    }\n",
       "\n",
       "    .dataframe tbody tr th {\n",
       "        vertical-align: top;\n",
       "    }\n",
       "\n",
       "    .dataframe thead th {\n",
       "        text-align: right;\n",
       "    }\n",
       "</style>\n",
       "<table border=\"1\" class=\"dataframe\">\n",
       "  <thead>\n",
       "    <tr style=\"text-align: right;\">\n",
       "      <th></th>\n",
       "      <th>accuracy</th>\n",
       "      <th>recall</th>\n",
       "      <th>precision</th>\n",
       "      <th>f1_scor</th>\n",
       "      <th>auc</th>\n",
       "    </tr>\n",
       "  </thead>\n",
       "  <tbody>\n",
       "    <tr>\n",
       "      <th>0</th>\n",
       "      <td>0.625814</td>\n",
       "      <td>0.353021</td>\n",
       "      <td>0.775436</td>\n",
       "      <td>0.485167</td>\n",
       "      <td>0.726593</td>\n",
       "    </tr>\n",
       "  </tbody>\n",
       "</table>\n",
       "</div>"
      ],
      "text/plain": [
       "   accuracy    recall  precision   f1_scor       auc\n",
       "0  0.625814  0.353021   0.775436  0.485167  0.726593"
      ]
     },
     "execution_count": 85,
     "metadata": {},
     "output_type": "execute_result"
    }
   ],
   "source": [
    "evaluate_model(testloader, model)"
   ]
  },
  {
   "attachments": {},
   "cell_type": "markdown",
   "metadata": {},
   "source": [
    "Дообучение на других таргентом антителе только мешает. \n"
   ]
  },
  {
   "attachments": {},
   "cell_type": "markdown",
   "metadata": {},
   "source": [
    "##### Посмотрю что вообще какие данные лежат в train_target"
   ]
  },
  {
   "cell_type": "code",
   "execution_count": null,
   "metadata": {},
   "outputs": [],
   "source": []
  },
  {
   "attachments": {},
   "cell_type": "markdown",
   "metadata": {},
   "source": []
  },
  {
   "cell_type": "code",
   "execution_count": 86,
   "metadata": {},
   "outputs": [
    {
     "data": {
      "text/html": [
       "<div>\n",
       "<style scoped>\n",
       "    .dataframe tbody tr th:only-of-type {\n",
       "        vertical-align: middle;\n",
       "    }\n",
       "\n",
       "    .dataframe tbody tr th {\n",
       "        vertical-align: top;\n",
       "    }\n",
       "\n",
       "    .dataframe thead th {\n",
       "        text-align: right;\n",
       "    }\n",
       "</style>\n",
       "<table border=\"1\" class=\"dataframe\">\n",
       "  <thead>\n",
       "    <tr style=\"text-align: right;\">\n",
       "      <th></th>\n",
       "      <th>junction_aa</th>\n",
       "      <th>v_call</th>\n",
       "      <th>consensus_count</th>\n",
       "      <th>j_call</th>\n",
       "      <th>clonal_frequency</th>\n",
       "      <th>Label</th>\n",
       "      <th>Distance</th>\n",
       "      <th>Antibody</th>\n",
       "      <th>repr</th>\n",
       "    </tr>\n",
       "  </thead>\n",
       "  <tbody>\n",
       "    <tr>\n",
       "      <th>104975</th>\n",
       "      <td>CCRGFNCYVPLMNYGFWRTSGVGY</td>\n",
       "      <td>IGHV_RBD</td>\n",
       "      <td>1</td>\n",
       "      <td>IGHJ_RBD</td>\n",
       "      <td>0.000008</td>\n",
       "      <td>0</td>\n",
       "      <td>9</td>\n",
       "      <td>REGN33</td>\n",
       "      <td>[[0.0, 0.0, 0.0, 1.0, 0.0, 0.0, 0.0, 0.0, 0.0,...</td>\n",
       "    </tr>\n",
       "    <tr>\n",
       "      <th>145322</th>\n",
       "      <td>EIRGFNCYCPLYRYGFWPTNGRNW</td>\n",
       "      <td>IGHV_RBD</td>\n",
       "      <td>1</td>\n",
       "      <td>IGHJ_RBD</td>\n",
       "      <td>0.000008</td>\n",
       "      <td>0</td>\n",
       "      <td>10</td>\n",
       "      <td>REGN33</td>\n",
       "      <td>[[0.0, 0.0, 0.0, 0.0, 0.0, 1.0, 0.0, 0.0, 0.0,...</td>\n",
       "    </tr>\n",
       "    <tr>\n",
       "      <th>128872</th>\n",
       "      <td>KNTGFNCYEPLSTYGFWRTVGLGY</td>\n",
       "      <td>IGHV_RBD</td>\n",
       "      <td>2</td>\n",
       "      <td>IGHJ_RBD</td>\n",
       "      <td>0.000015</td>\n",
       "      <td>0</td>\n",
       "      <td>8</td>\n",
       "      <td>REGN33</td>\n",
       "      <td>[[0.0, 0.0, 0.0, 0.0, 0.0, 0.0, 0.0, 0.0, 0.0,...</td>\n",
       "    </tr>\n",
       "    <tr>\n",
       "      <th>54774</th>\n",
       "      <td>KNEGFNCYGPIVQYGFWTTSGRDY</td>\n",
       "      <td>IGHV_RBD</td>\n",
       "      <td>2</td>\n",
       "      <td>IGHJ_RBD</td>\n",
       "      <td>0.000015</td>\n",
       "      <td>1</td>\n",
       "      <td>9</td>\n",
       "      <td>REGN33</td>\n",
       "      <td>[[0.0, 0.0, 0.0, 0.0, 0.0, 0.0, 0.0, 0.0, 0.0,...</td>\n",
       "    </tr>\n",
       "    <tr>\n",
       "      <th>49358</th>\n",
       "      <td>KNTGFNCYPPIATYGFWPTGGIGW</td>\n",
       "      <td>IGHV_RBD</td>\n",
       "      <td>1</td>\n",
       "      <td>IGHJ_RBD</td>\n",
       "      <td>0.000007</td>\n",
       "      <td>1</td>\n",
       "      <td>9</td>\n",
       "      <td>REGN33</td>\n",
       "      <td>[[0.0, 0.0, 0.0, 0.0, 0.0, 0.0, 0.0, 0.0, 0.0,...</td>\n",
       "    </tr>\n",
       "    <tr>\n",
       "      <th>...</th>\n",
       "      <td>...</td>\n",
       "      <td>...</td>\n",
       "      <td>...</td>\n",
       "      <td>...</td>\n",
       "      <td>...</td>\n",
       "      <td>...</td>\n",
       "      <td>...</td>\n",
       "      <td>...</td>\n",
       "      <td>...</td>\n",
       "    </tr>\n",
       "    <tr>\n",
       "      <th>124815</th>\n",
       "      <td>LATGFNCYAPIVAYGFHPTGGRSY</td>\n",
       "      <td>IGHV_RBD</td>\n",
       "      <td>1</td>\n",
       "      <td>IGHJ_RBD</td>\n",
       "      <td>0.000007</td>\n",
       "      <td>1</td>\n",
       "      <td>11</td>\n",
       "      <td>REGN33</td>\n",
       "      <td>[[0.0, 0.0, 0.0, 0.0, 0.0, 0.0, 0.0, 0.0, 0.0,...</td>\n",
       "    </tr>\n",
       "    <tr>\n",
       "      <th>38176</th>\n",
       "      <td>KNQGFNCYVPLLRYGFWRTAGIGW</td>\n",
       "      <td>IGHV_RBD</td>\n",
       "      <td>1</td>\n",
       "      <td>IGHJ_RBD</td>\n",
       "      <td>0.000008</td>\n",
       "      <td>0</td>\n",
       "      <td>9</td>\n",
       "      <td>REGN33</td>\n",
       "      <td>[[0.0, 0.0, 0.0, 0.0, 0.0, 0.0, 0.0, 0.0, 0.0,...</td>\n",
       "    </tr>\n",
       "    <tr>\n",
       "      <th>70457</th>\n",
       "      <td>LNRGFNCYKPLQGYGFWRTSGKGW</td>\n",
       "      <td>IGHV_RBD</td>\n",
       "      <td>1</td>\n",
       "      <td>IGHJ_RBD</td>\n",
       "      <td>0.000008</td>\n",
       "      <td>0</td>\n",
       "      <td>9</td>\n",
       "      <td>REGN33</td>\n",
       "      <td>[[0.0, 0.0, 0.0, 0.0, 0.0, 0.0, 0.0, 0.0, 0.0,...</td>\n",
       "    </tr>\n",
       "    <tr>\n",
       "      <th>27457</th>\n",
       "      <td>VTGGFNCYAPLVRYGFQRTMGIGW</td>\n",
       "      <td>IGHV_RBD</td>\n",
       "      <td>1</td>\n",
       "      <td>IGHJ_RBD</td>\n",
       "      <td>0.000007</td>\n",
       "      <td>1</td>\n",
       "      <td>10</td>\n",
       "      <td>REGN33</td>\n",
       "      <td>[[0.0, 0.0, 0.0, 0.0, 0.0, 0.0, 0.0, 0.0, 0.0,...</td>\n",
       "    </tr>\n",
       "    <tr>\n",
       "      <th>55158</th>\n",
       "      <td>KNEGFNCYYPIDSYGFFTTAGENW</td>\n",
       "      <td>IGHV_RBD</td>\n",
       "      <td>5</td>\n",
       "      <td>IGHJ_RBD</td>\n",
       "      <td>0.000038</td>\n",
       "      <td>0</td>\n",
       "      <td>9</td>\n",
       "      <td>REGN33</td>\n",
       "      <td>[[0.0, 0.0, 0.0, 0.0, 0.0, 0.0, 0.0, 0.0, 0.0,...</td>\n",
       "    </tr>\n",
       "  </tbody>\n",
       "</table>\n",
       "<p>25000 rows × 9 columns</p>\n",
       "</div>"
      ],
      "text/plain": [
       "                     junction_aa    v_call  consensus_count    j_call   \n",
       "104975  CCRGFNCYVPLMNYGFWRTSGVGY  IGHV_RBD                1  IGHJ_RBD  \\\n",
       "145322  EIRGFNCYCPLYRYGFWPTNGRNW  IGHV_RBD                1  IGHJ_RBD   \n",
       "128872  KNTGFNCYEPLSTYGFWRTVGLGY  IGHV_RBD                2  IGHJ_RBD   \n",
       "54774   KNEGFNCYGPIVQYGFWTTSGRDY  IGHV_RBD                2  IGHJ_RBD   \n",
       "49358   KNTGFNCYPPIATYGFWPTGGIGW  IGHV_RBD                1  IGHJ_RBD   \n",
       "...                          ...       ...              ...       ...   \n",
       "124815  LATGFNCYAPIVAYGFHPTGGRSY  IGHV_RBD                1  IGHJ_RBD   \n",
       "38176   KNQGFNCYVPLLRYGFWRTAGIGW  IGHV_RBD                1  IGHJ_RBD   \n",
       "70457   LNRGFNCYKPLQGYGFWRTSGKGW  IGHV_RBD                1  IGHJ_RBD   \n",
       "27457   VTGGFNCYAPLVRYGFQRTMGIGW  IGHV_RBD                1  IGHJ_RBD   \n",
       "55158   KNEGFNCYYPIDSYGFFTTAGENW  IGHV_RBD                5  IGHJ_RBD   \n",
       "\n",
       "        clonal_frequency  Label  Distance Antibody   \n",
       "104975          0.000008      0         9   REGN33  \\\n",
       "145322          0.000008      0        10   REGN33   \n",
       "128872          0.000015      0         8   REGN33   \n",
       "54774           0.000015      1         9   REGN33   \n",
       "49358           0.000007      1         9   REGN33   \n",
       "...                  ...    ...       ...      ...   \n",
       "124815          0.000007      1        11   REGN33   \n",
       "38176           0.000008      0         9   REGN33   \n",
       "70457           0.000008      0         9   REGN33   \n",
       "27457           0.000007      1        10   REGN33   \n",
       "55158           0.000038      0         9   REGN33   \n",
       "\n",
       "                                                     repr  \n",
       "104975  [[0.0, 0.0, 0.0, 1.0, 0.0, 0.0, 0.0, 0.0, 0.0,...  \n",
       "145322  [[0.0, 0.0, 0.0, 0.0, 0.0, 1.0, 0.0, 0.0, 0.0,...  \n",
       "128872  [[0.0, 0.0, 0.0, 0.0, 0.0, 0.0, 0.0, 0.0, 0.0,...  \n",
       "54774   [[0.0, 0.0, 0.0, 0.0, 0.0, 0.0, 0.0, 0.0, 0.0,...  \n",
       "49358   [[0.0, 0.0, 0.0, 0.0, 0.0, 0.0, 0.0, 0.0, 0.0,...  \n",
       "...                                                   ...  \n",
       "124815  [[0.0, 0.0, 0.0, 0.0, 0.0, 0.0, 0.0, 0.0, 0.0,...  \n",
       "38176   [[0.0, 0.0, 0.0, 0.0, 0.0, 0.0, 0.0, 0.0, 0.0,...  \n",
       "70457   [[0.0, 0.0, 0.0, 0.0, 0.0, 0.0, 0.0, 0.0, 0.0,...  \n",
       "27457   [[0.0, 0.0, 0.0, 0.0, 0.0, 0.0, 0.0, 0.0, 0.0,...  \n",
       "55158   [[0.0, 0.0, 0.0, 0.0, 0.0, 0.0, 0.0, 0.0, 0.0,...  \n",
       "\n",
       "[25000 rows x 9 columns]"
      ]
     },
     "execution_count": 86,
     "metadata": {},
     "output_type": "execute_result"
    }
   ],
   "source": [
    "train_target"
   ]
  },
  {
   "cell_type": "code",
   "execution_count": 89,
   "metadata": {},
   "outputs": [
    {
     "data": {
      "text/plain": [
       "Distance\n",
       "9     8386\n",
       "10    5460\n",
       "8     5262\n",
       "7     2100\n",
       "11    2096\n",
       "12     538\n",
       "6      486\n",
       "3      308\n",
       "4      113\n",
       "2       90\n",
       "5       85\n",
       "13      70\n",
       "14       4\n",
       "1        2\n",
       "Name: count, dtype: int64"
      ]
     },
     "execution_count": 89,
     "metadata": {},
     "output_type": "execute_result"
    }
   ],
   "source": [
    "train_target.Distance.value_counts()"
   ]
  },
  {
   "cell_type": "code",
   "execution_count": 93,
   "metadata": {},
   "outputs": [
    {
     "data": {
      "text/plain": [
       "Distance\n",
       "9     4465\n",
       "10    2963\n",
       "8     2673\n",
       "11    1165\n",
       "7     1150\n",
       "12     302\n",
       "6      276\n",
       "3      170\n",
       "5       53\n",
       "4       51\n",
       "13      47\n",
       "2       41\n",
       "14       1\n",
       "Name: count, dtype: int64"
      ]
     },
     "execution_count": 93,
     "metadata": {},
     "output_type": "execute_result"
    }
   ],
   "source": [
    "target_test.Distance.value_counts()"
   ]
  },
  {
   "cell_type": "code",
   "execution_count": 96,
   "metadata": {},
   "outputs": [
    {
     "data": {
      "text/plain": [
       "Distance\n",
       "9     5683\n",
       "10    3735\n",
       "8     3590\n",
       "7     1417\n",
       "11    1410\n",
       "12     369\n",
       "6      331\n",
       "3      198\n",
       "4       78\n",
       "2       69\n",
       "5       61\n",
       "13      53\n",
       "14       4\n",
       "1        2\n",
       "Name: count, dtype: int64"
      ]
     },
     "execution_count": 96,
     "metadata": {},
     "output_type": "execute_result"
    }
   ],
   "source": [
    "train_target.iloc[:17000, :].Distance.value_counts()"
   ]
  },
  {
   "cell_type": "code",
   "execution_count": null,
   "metadata": {},
   "outputs": [],
   "source": []
  }
 ],
 "metadata": {
  "kernelspec": {
   "display_name": "mutations_leaning",
   "language": "python",
   "name": "python3"
  },
  "language_info": {
   "codemirror_mode": {
    "name": "ipython",
    "version": 3
   },
   "file_extension": ".py",
   "mimetype": "text/x-python",
   "name": "python",
   "nbconvert_exporter": "python",
   "pygments_lexer": "ipython3",
   "version": "3.10.6"
  },
  "orig_nbformat": 4
 },
 "nbformat": 4,
 "nbformat_minor": 2
}
