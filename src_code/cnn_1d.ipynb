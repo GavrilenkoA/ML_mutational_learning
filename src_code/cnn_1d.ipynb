{
 "metadata": {
  "kernelspec": {
   "name": "python3",
   "display_name": "Python 3",
   "language": "python"
  },
  "language_info": {
   "name": "python",
   "version": "3.7.12",
   "mimetype": "text/x-python",
   "codemirror_mode": {
    "name": "ipython",
    "version": 3
   },
   "pygments_lexer": "ipython3",
   "nbconvert_exporter": "python",
   "file_extension": ".py"
  }
 },
 "nbformat_minor": 4,
 "nbformat": 4,
 "cells": [
  {
   "cell_type": "code",
   "source": [
    "import pandas as pd\n",
    "import numpy as np\n",
    "from torch.utils.data import Dataset, DataLoader\n",
    "import torch\n",
    "import os\n",
    "import torch.nn as nn\n",
    "import random"
   ],
   "metadata": {
    "execution": {
     "iopub.status.busy": "2023-04-30T07:27:45.435175Z",
     "iopub.execute_input": "2023-04-30T07:27:45.435965Z",
     "iopub.status.idle": "2023-04-30T07:27:48.707772Z",
     "shell.execute_reply.started": "2023-04-30T07:27:45.435923Z",
     "shell.execute_reply": "2023-04-30T07:27:48.706435Z"
    },
    "trusted": true,
    "ExecuteTime": {
     "end_time": "2023-05-01T17:06:53.725614789Z",
     "start_time": "2023-05-01T17:06:53.722268903Z"
    }
   },
   "execution_count": 2,
   "outputs": []
  },
  {
   "cell_type": "code",
   "execution_count": null,
   "outputs": [],
   "source": [
    "device = torch.device('cuda' if torch.cuda.is_available() else 'cpu')"
   ],
   "metadata": {
    "collapsed": false
   }
  },
  {
   "cell_type": "code",
   "execution_count": null,
   "outputs": [],
   "source": [
    "SEED = 42"
   ],
   "metadata": {
    "collapsed": false
   }
  },
  {
   "cell_type": "code",
   "execution_count": 7,
   "outputs": [],
   "source": [
    "def seed_everything(seed: int):\n",
    "\n",
    "    random.seed(seed)\n",
    "    os.environ['PYTHONHASHSEED'] = str(seed)\n",
    "    np.random.seed(seed)\n",
    "    torch.manual_seed(seed)\n",
    "    torch.cuda.manual_seed(seed)\n",
    "    torch.backends.cudnn.benchmark = True\n",
    "\n",
    "seed_everything(SEED)\n"
   ],
   "metadata": {
    "collapsed": false,
    "ExecuteTime": {
     "end_time": "2023-05-01T16:50:04.078827393Z",
     "start_time": "2023-05-01T16:50:04.071242840Z"
    }
   }
  },
  {
   "cell_type": "code",
   "execution_count": null,
   "outputs": [],
   "source": [],
   "metadata": {
    "collapsed": false
   }
  },
  {
   "cell_type": "code",
   "source": [],
   "metadata": {
    "execution": {
     "iopub.status.busy": "2023-04-30T07:27:51.290434Z",
     "iopub.execute_input": "2023-04-30T07:27:51.291167Z",
     "iopub.status.idle": "2023-04-30T07:27:51.389825Z",
     "shell.execute_reply.started": "2023-04-30T07:27:51.291131Z",
     "shell.execute_reply": "2023-04-30T07:27:51.387895Z"
    },
    "trusted": true,
    "ExecuteTime": {
     "end_time": "2023-05-01T16:14:56.032484873Z",
     "start_time": "2023-05-01T16:14:56.027090891Z"
    }
   },
   "execution_count": 4,
   "outputs": []
  },
  {
   "cell_type": "code",
   "source": [
    "from training_nn import training_cnn\n",
    "from evaluation import plot_loss, evaluate_model_cnn\n",
    "from process_data import get_desc"
   ],
   "metadata": {
    "execution": {
     "iopub.status.busy": "2023-04-30T08:03:18.043944Z",
     "iopub.execute_input": "2023-04-30T08:03:18.045167Z",
     "iopub.status.idle": "2023-04-30T08:03:18.050178Z",
     "shell.execute_reply.started": "2023-04-30T08:03:18.045124Z",
     "shell.execute_reply": "2023-04-30T08:03:18.048914Z"
    },
    "trusted": true,
    "ExecuteTime": {
     "end_time": "2023-05-01T16:14:58.580730041Z",
     "start_time": "2023-05-01T16:14:57.155533542Z"
    }
   },
   "execution_count": 5,
   "outputs": []
  },
  {
   "cell_type": "code",
   "source": [
    "train = pd.read_csv('../data/ab/train.gz', compression = 'gzip')\n",
    "test = pd.read_csv('../data/ab/test.csv.gz', compression = 'gzip')"
   ],
   "metadata": {
    "execution": {
     "iopub.status.busy": "2023-04-30T07:33:55.364863Z",
     "iopub.execute_input": "2023-04-30T07:33:55.365467Z",
     "iopub.status.idle": "2023-04-30T07:34:50.249676Z",
     "shell.execute_reply.started": "2023-04-30T07:33:55.365422Z",
     "shell.execute_reply": "2023-04-30T07:34:50.248594Z"
    },
    "trusted": true,
    "ExecuteTime": {
     "end_time": "2023-05-01T16:17:43.302290304Z",
     "start_time": "2023-05-01T16:17:36.369858110Z"
    }
   },
   "execution_count": 7,
   "outputs": []
  },
  {
   "cell_type": "code",
   "source": [
    "train.head()"
   ],
   "metadata": {
    "execution": {
     "iopub.status.busy": "2023-04-30T07:35:38.808053Z",
     "iopub.execute_input": "2023-04-30T07:35:38.808743Z",
     "iopub.status.idle": "2023-04-30T07:35:38.832904Z",
     "shell.execute_reply.started": "2023-04-30T07:35:38.808705Z",
     "shell.execute_reply": "2023-04-30T07:35:38.831235Z"
    },
    "trusted": true,
    "ExecuteTime": {
     "end_time": "2023-05-01T16:17:46.848869198Z",
     "start_time": "2023-05-01T16:17:46.819091322Z"
    }
   },
   "execution_count": 8,
   "outputs": [
    {
     "data": {
      "text/plain": "                junction_aa    v_call  consensus_count    j_call  \\\n0  KNEGFNCYIPLVTYGFHTTTGVSY  IGHV_RBD                1  IGHJ_RBD   \n1  KNKGFNCYSPITEYGFFPTNGKNF  IGHV_RBD                2  IGHJ_RBD   \n2  SKQGFNCYCPLIGYGFQRTFGVGW  IGHV_RBD                1  IGHJ_RBD   \n3  KNRQFNCYWPLVRYGFWTTSGVGW  IGHV_RBD                1  IGHJ_RBD   \n4  KNPGFNCYLPLGHYGFQPTNGRDF  IGHV_RBD                3  IGHJ_RBD   \n\n   clonal_frequency  Label  Distance Antibody  \\\n0          0.000028      0         7     LY16   \n1          0.000093      1         9     LY16   \n2          0.000028      0         9     LY16   \n3          0.000028      0         9     LY16   \n4          0.000140      1         7     LY16   \n\n                                                repr  \n0  [[ 0.0000000e+00  0.0000000e+00  0.0000000e+00...  \n1  [[ 0.0000000e+00  0.0000000e+00  0.0000000e+00...  \n2  [[ 0.0000000e+00  0.0000000e+00  0.0000000e+00...  \n3  [[ 0.0000000e+00  0.0000000e+00  0.0000000e+00...  \n4  [[ 0.00000000e+00  0.00000000e+00  0.00000000e...  ",
      "text/html": "<div>\n<style scoped>\n    .dataframe tbody tr th:only-of-type {\n        vertical-align: middle;\n    }\n\n    .dataframe tbody tr th {\n        vertical-align: top;\n    }\n\n    .dataframe thead th {\n        text-align: right;\n    }\n</style>\n<table border=\"1\" class=\"dataframe\">\n  <thead>\n    <tr style=\"text-align: right;\">\n      <th></th>\n      <th>junction_aa</th>\n      <th>v_call</th>\n      <th>consensus_count</th>\n      <th>j_call</th>\n      <th>clonal_frequency</th>\n      <th>Label</th>\n      <th>Distance</th>\n      <th>Antibody</th>\n      <th>repr</th>\n    </tr>\n  </thead>\n  <tbody>\n    <tr>\n      <th>0</th>\n      <td>KNEGFNCYIPLVTYGFHTTTGVSY</td>\n      <td>IGHV_RBD</td>\n      <td>1</td>\n      <td>IGHJ_RBD</td>\n      <td>0.000028</td>\n      <td>0</td>\n      <td>7</td>\n      <td>LY16</td>\n      <td>[[ 0.0000000e+00  0.0000000e+00  0.0000000e+00...</td>\n    </tr>\n    <tr>\n      <th>1</th>\n      <td>KNKGFNCYSPITEYGFFPTNGKNF</td>\n      <td>IGHV_RBD</td>\n      <td>2</td>\n      <td>IGHJ_RBD</td>\n      <td>0.000093</td>\n      <td>1</td>\n      <td>9</td>\n      <td>LY16</td>\n      <td>[[ 0.0000000e+00  0.0000000e+00  0.0000000e+00...</td>\n    </tr>\n    <tr>\n      <th>2</th>\n      <td>SKQGFNCYCPLIGYGFQRTFGVGW</td>\n      <td>IGHV_RBD</td>\n      <td>1</td>\n      <td>IGHJ_RBD</td>\n      <td>0.000028</td>\n      <td>0</td>\n      <td>9</td>\n      <td>LY16</td>\n      <td>[[ 0.0000000e+00  0.0000000e+00  0.0000000e+00...</td>\n    </tr>\n    <tr>\n      <th>3</th>\n      <td>KNRQFNCYWPLVRYGFWTTSGVGW</td>\n      <td>IGHV_RBD</td>\n      <td>1</td>\n      <td>IGHJ_RBD</td>\n      <td>0.000028</td>\n      <td>0</td>\n      <td>9</td>\n      <td>LY16</td>\n      <td>[[ 0.0000000e+00  0.0000000e+00  0.0000000e+00...</td>\n    </tr>\n    <tr>\n      <th>4</th>\n      <td>KNPGFNCYLPLGHYGFQPTNGRDF</td>\n      <td>IGHV_RBD</td>\n      <td>3</td>\n      <td>IGHJ_RBD</td>\n      <td>0.000140</td>\n      <td>1</td>\n      <td>7</td>\n      <td>LY16</td>\n      <td>[[ 0.00000000e+00  0.00000000e+00  0.00000000e...</td>\n    </tr>\n  </tbody>\n</table>\n</div>"
     },
     "execution_count": 8,
     "metadata": {},
     "output_type": "execute_result"
    }
   ]
  },
  {
   "cell_type": "code",
   "source": [
    "train['repr'] = get_desc(train)"
   ],
   "metadata": {
    "execution": {
     "iopub.status.busy": "2023-04-30T07:35:39.843539Z",
     "iopub.execute_input": "2023-04-30T07:35:39.844562Z",
     "iopub.status.idle": "2023-04-30T07:38:20.243841Z",
     "shell.execute_reply.started": "2023-04-30T07:35:39.844502Z",
     "shell.execute_reply": "2023-04-30T07:38:20.242733Z"
    },
    "trusted": true
   },
   "execution_count": 15,
   "outputs": []
  },
  {
   "cell_type": "code",
   "source": [
    "test['repr'] = get_desc(test)"
   ],
   "metadata": {
    "execution": {
     "iopub.status.busy": "2023-04-30T07:38:32.873091Z",
     "iopub.execute_input": "2023-04-30T07:38:32.873786Z",
     "iopub.status.idle": "2023-04-30T07:38:50.121001Z",
     "shell.execute_reply.started": "2023-04-30T07:38:32.873749Z",
     "shell.execute_reply": "2023-04-30T07:38:50.119922Z"
    },
    "trusted": true
   },
   "execution_count": 16,
   "outputs": []
  },
  {
   "cell_type": "code",
   "source": [
    "test.head()"
   ],
   "metadata": {
    "execution": {
     "iopub.status.busy": "2023-04-30T07:39:03.869705Z",
     "iopub.execute_input": "2023-04-30T07:39:03.870113Z",
     "iopub.status.idle": "2023-04-30T07:39:03.958336Z",
     "shell.execute_reply.started": "2023-04-30T07:39:03.870077Z",
     "shell.execute_reply": "2023-04-30T07:39:03.957157Z"
    },
    "trusted": true
   },
   "execution_count": 17,
   "outputs": [
    {
     "execution_count": 17,
     "output_type": "execute_result",
     "data": {
      "text/plain": "                junction_aa    v_call  consensus_count    j_call  \\\n0  KNTGFNCYFPLLAYGFHPTSGVDY  IGHV_RBD                1  IGHJ_RBD   \n1  KNPGFNCYHPIVGYGFQPTIGHDF  IGHV_RBD                1  IGHJ_RBD   \n2  TTAGFNCYMPITRYGFWPTDGRSW  IGHV_RBD                1  IGHJ_RBD   \n3  RNRGFNCYDPIHKYGFHRTNGLNY  IGHV_RBD                1  IGHJ_RBD   \n4  KNKKFNCYVPLVTYGFHPTNGVNY  IGHV_RBD                1  IGHJ_RBD   \n\n   clonal_frequency  Label  Distance Antibody  \\\n0          0.000063      0         6     LY16   \n1          0.000047      1         9     LY16   \n2          0.000028      0        12     LY16   \n3          0.000047      1        10     LY16   \n4          0.000028      0         7     LY16   \n\n                                                repr  \n0  [[0.0, 0.0, 0.0, 0.0, 0.0, 0.0, 0.0, 0.0, 0.0,...  \n1  [[0.0, 0.0, 0.0, 0.0, 0.0, 0.0, 0.0, 0.0, 0.0,...  \n2  [[0.0, 0.0, 0.0, 0.0, 0.0, 0.0, 0.0, 0.0, 0.0,...  \n3  [[0.0, 0.0, 0.0, 0.0, 0.0, 0.0, 0.0, 0.0, 0.0,...  \n4  [[0.0, 0.0, 0.0, 0.0, 0.0, 0.0, 0.0, 0.0, 0.0,...  ",
      "text/html": "<div>\n<style scoped>\n    .dataframe tbody tr th:only-of-type {\n        vertical-align: middle;\n    }\n\n    .dataframe tbody tr th {\n        vertical-align: top;\n    }\n\n    .dataframe thead th {\n        text-align: right;\n    }\n</style>\n<table border=\"1\" class=\"dataframe\">\n  <thead>\n    <tr style=\"text-align: right;\">\n      <th></th>\n      <th>junction_aa</th>\n      <th>v_call</th>\n      <th>consensus_count</th>\n      <th>j_call</th>\n      <th>clonal_frequency</th>\n      <th>Label</th>\n      <th>Distance</th>\n      <th>Antibody</th>\n      <th>repr</th>\n    </tr>\n  </thead>\n  <tbody>\n    <tr>\n      <th>0</th>\n      <td>KNTGFNCYFPLLAYGFHPTSGVDY</td>\n      <td>IGHV_RBD</td>\n      <td>1</td>\n      <td>IGHJ_RBD</td>\n      <td>0.000063</td>\n      <td>0</td>\n      <td>6</td>\n      <td>LY16</td>\n      <td>[[0.0, 0.0, 0.0, 0.0, 0.0, 0.0, 0.0, 0.0, 0.0,...</td>\n    </tr>\n    <tr>\n      <th>1</th>\n      <td>KNPGFNCYHPIVGYGFQPTIGHDF</td>\n      <td>IGHV_RBD</td>\n      <td>1</td>\n      <td>IGHJ_RBD</td>\n      <td>0.000047</td>\n      <td>1</td>\n      <td>9</td>\n      <td>LY16</td>\n      <td>[[0.0, 0.0, 0.0, 0.0, 0.0, 0.0, 0.0, 0.0, 0.0,...</td>\n    </tr>\n    <tr>\n      <th>2</th>\n      <td>TTAGFNCYMPITRYGFWPTDGRSW</td>\n      <td>IGHV_RBD</td>\n      <td>1</td>\n      <td>IGHJ_RBD</td>\n      <td>0.000028</td>\n      <td>0</td>\n      <td>12</td>\n      <td>LY16</td>\n      <td>[[0.0, 0.0, 0.0, 0.0, 0.0, 0.0, 0.0, 0.0, 0.0,...</td>\n    </tr>\n    <tr>\n      <th>3</th>\n      <td>RNRGFNCYDPIHKYGFHRTNGLNY</td>\n      <td>IGHV_RBD</td>\n      <td>1</td>\n      <td>IGHJ_RBD</td>\n      <td>0.000047</td>\n      <td>1</td>\n      <td>10</td>\n      <td>LY16</td>\n      <td>[[0.0, 0.0, 0.0, 0.0, 0.0, 0.0, 0.0, 0.0, 0.0,...</td>\n    </tr>\n    <tr>\n      <th>4</th>\n      <td>KNKKFNCYVPLVTYGFHPTNGVNY</td>\n      <td>IGHV_RBD</td>\n      <td>1</td>\n      <td>IGHJ_RBD</td>\n      <td>0.000028</td>\n      <td>0</td>\n      <td>7</td>\n      <td>LY16</td>\n      <td>[[0.0, 0.0, 0.0, 0.0, 0.0, 0.0, 0.0, 0.0, 0.0,...</td>\n    </tr>\n  </tbody>\n</table>\n</div>"
     },
     "metadata": {}
    }
   ]
  },
  {
   "cell_type": "code",
   "source": [
    "train.head()"
   ],
   "metadata": {
    "execution": {
     "iopub.status.busy": "2023-04-30T07:39:04.898741Z",
     "iopub.execute_input": "2023-04-30T07:39:04.901482Z",
     "iopub.status.idle": "2023-04-30T07:39:04.983452Z",
     "shell.execute_reply.started": "2023-04-30T07:39:04.901441Z",
     "shell.execute_reply": "2023-04-30T07:39:04.982179Z"
    },
    "trusted": true
   },
   "execution_count": 18,
   "outputs": [
    {
     "execution_count": 18,
     "output_type": "execute_result",
     "data": {
      "text/plain": "                junction_aa    v_call  consensus_count    j_call  \\\n0  KNEGFNCYIPLVTYGFHTTTGVSY  IGHV_RBD                1  IGHJ_RBD   \n1  KNKGFNCYSPITEYGFFPTNGKNF  IGHV_RBD                2  IGHJ_RBD   \n2  SKQGFNCYCPLIGYGFQRTFGVGW  IGHV_RBD                1  IGHJ_RBD   \n3  KNRQFNCYWPLVRYGFWTTSGVGW  IGHV_RBD                1  IGHJ_RBD   \n4  KNPGFNCYLPLGHYGFQPTNGRDF  IGHV_RBD                3  IGHJ_RBD   \n\n   clonal_frequency  Label  Distance Antibody  \\\n0          0.000028      0         7     LY16   \n1          0.000093      1         9     LY16   \n2          0.000028      0         9     LY16   \n3          0.000028      0         9     LY16   \n4          0.000140      1         7     LY16   \n\n                                                repr  \n0  [[0.0, 0.0, 0.0, 0.0, 0.0, 0.0, 0.0, 0.0, 0.0,...  \n1  [[0.0, 0.0, 0.0, 0.0, 0.0, 0.0, 0.0, 0.0, 0.0,...  \n2  [[0.0, 0.0, 0.0, 0.0, 0.0, 0.0, 0.0, 0.0, 0.0,...  \n3  [[0.0, 0.0, 0.0, 0.0, 0.0, 0.0, 0.0, 0.0, 0.0,...  \n4  [[0.0, 0.0, 0.0, 0.0, 0.0, 0.0, 0.0, 0.0, 0.0,...  ",
      "text/html": "<div>\n<style scoped>\n    .dataframe tbody tr th:only-of-type {\n        vertical-align: middle;\n    }\n\n    .dataframe tbody tr th {\n        vertical-align: top;\n    }\n\n    .dataframe thead th {\n        text-align: right;\n    }\n</style>\n<table border=\"1\" class=\"dataframe\">\n  <thead>\n    <tr style=\"text-align: right;\">\n      <th></th>\n      <th>junction_aa</th>\n      <th>v_call</th>\n      <th>consensus_count</th>\n      <th>j_call</th>\n      <th>clonal_frequency</th>\n      <th>Label</th>\n      <th>Distance</th>\n      <th>Antibody</th>\n      <th>repr</th>\n    </tr>\n  </thead>\n  <tbody>\n    <tr>\n      <th>0</th>\n      <td>KNEGFNCYIPLVTYGFHTTTGVSY</td>\n      <td>IGHV_RBD</td>\n      <td>1</td>\n      <td>IGHJ_RBD</td>\n      <td>0.000028</td>\n      <td>0</td>\n      <td>7</td>\n      <td>LY16</td>\n      <td>[[0.0, 0.0, 0.0, 0.0, 0.0, 0.0, 0.0, 0.0, 0.0,...</td>\n    </tr>\n    <tr>\n      <th>1</th>\n      <td>KNKGFNCYSPITEYGFFPTNGKNF</td>\n      <td>IGHV_RBD</td>\n      <td>2</td>\n      <td>IGHJ_RBD</td>\n      <td>0.000093</td>\n      <td>1</td>\n      <td>9</td>\n      <td>LY16</td>\n      <td>[[0.0, 0.0, 0.0, 0.0, 0.0, 0.0, 0.0, 0.0, 0.0,...</td>\n    </tr>\n    <tr>\n      <th>2</th>\n      <td>SKQGFNCYCPLIGYGFQRTFGVGW</td>\n      <td>IGHV_RBD</td>\n      <td>1</td>\n      <td>IGHJ_RBD</td>\n      <td>0.000028</td>\n      <td>0</td>\n      <td>9</td>\n      <td>LY16</td>\n      <td>[[0.0, 0.0, 0.0, 0.0, 0.0, 0.0, 0.0, 0.0, 0.0,...</td>\n    </tr>\n    <tr>\n      <th>3</th>\n      <td>KNRQFNCYWPLVRYGFWTTSGVGW</td>\n      <td>IGHV_RBD</td>\n      <td>1</td>\n      <td>IGHJ_RBD</td>\n      <td>0.000028</td>\n      <td>0</td>\n      <td>9</td>\n      <td>LY16</td>\n      <td>[[0.0, 0.0, 0.0, 0.0, 0.0, 0.0, 0.0, 0.0, 0.0,...</td>\n    </tr>\n    <tr>\n      <th>4</th>\n      <td>KNPGFNCYLPLGHYGFQPTNGRDF</td>\n      <td>IGHV_RBD</td>\n      <td>3</td>\n      <td>IGHJ_RBD</td>\n      <td>0.000140</td>\n      <td>1</td>\n      <td>7</td>\n      <td>LY16</td>\n      <td>[[0.0, 0.0, 0.0, 0.0, 0.0, 0.0, 0.0, 0.0, 0.0,...</td>\n    </tr>\n  </tbody>\n</table>\n</div>"
     },
     "metadata": {}
    }
   ]
  },
  {
   "cell_type": "code",
   "source": [
    "def make_map():\n",
    "    mapp_ = {}\n",
    "    for i, ab in enumerate(train['Antibody'].unique()):\n",
    "        mapp_[ab] = i\n",
    "    return mapp_"
   ],
   "metadata": {
    "execution": {
     "iopub.status.busy": "2023-04-30T07:39:05.652321Z",
     "iopub.execute_input": "2023-04-30T07:39:05.652712Z",
     "iopub.status.idle": "2023-04-30T07:39:05.657774Z",
     "shell.execute_reply.started": "2023-04-30T07:39:05.652682Z",
     "shell.execute_reply": "2023-04-30T07:39:05.656695Z"
    },
    "trusted": true
   },
   "execution_count": 19,
   "outputs": []
  },
  {
   "cell_type": "code",
   "source": [
    "mapp_ = make_map()"
   ],
   "metadata": {
    "execution": {
     "iopub.status.busy": "2023-04-30T07:39:06.345414Z",
     "iopub.execute_input": "2023-04-30T07:39:06.346182Z",
     "iopub.status.idle": "2023-04-30T07:39:06.366507Z",
     "shell.execute_reply.started": "2023-04-30T07:39:06.346134Z",
     "shell.execute_reply": "2023-04-30T07:39:06.365511Z"
    },
    "trusted": true
   },
   "execution_count": 20,
   "outputs": []
  },
  {
   "cell_type": "code",
   "source": [
    "def func_(x):\n",
    "    pos = mapp_[x['Antibody']]\n",
    "    features = x['repr']\n",
    "    ab_feature = np.zeros((24, 1))\n",
    "    ab_feature[pos] = 1\n",
    "    features = np.concatenate((ab_feature, features), axis=1)\n",
    "    return features"
   ],
   "metadata": {
    "execution": {
     "iopub.status.busy": "2023-04-30T07:39:07.130764Z",
     "iopub.execute_input": "2023-04-30T07:39:07.134558Z",
     "iopub.status.idle": "2023-04-30T07:39:07.140668Z",
     "shell.execute_reply.started": "2023-04-30T07:39:07.134504Z",
     "shell.execute_reply": "2023-04-30T07:39:07.139523Z"
    },
    "trusted": true
   },
   "execution_count": 21,
   "outputs": []
  },
  {
   "cell_type": "code",
   "source": [
    "train['repr'] = train.apply(func_, axis=1)"
   ],
   "metadata": {
    "execution": {
     "iopub.status.busy": "2023-04-30T07:39:07.793059Z",
     "iopub.execute_input": "2023-04-30T07:39:07.793751Z",
     "iopub.status.idle": "2023-04-30T07:39:11.571324Z",
     "shell.execute_reply.started": "2023-04-30T07:39:07.793714Z",
     "shell.execute_reply": "2023-04-30T07:39:11.570100Z"
    },
    "trusted": true
   },
   "execution_count": 22,
   "outputs": []
  },
  {
   "cell_type": "code",
   "source": [
    "test['repr'] = test.apply(func_, axis=1)"
   ],
   "metadata": {
    "execution": {
     "iopub.status.busy": "2023-04-30T07:39:11.573628Z",
     "iopub.execute_input": "2023-04-30T07:39:11.574021Z",
     "iopub.status.idle": "2023-04-30T07:39:11.975397Z",
     "shell.execute_reply.started": "2023-04-30T07:39:11.573983Z",
     "shell.execute_reply": "2023-04-30T07:39:11.974338Z"
    },
    "trusted": true
   },
   "execution_count": 23,
   "outputs": []
  },
  {
   "cell_type": "code",
   "source": [
    "train.head()"
   ],
   "metadata": {
    "execution": {
     "iopub.status.busy": "2023-04-30T07:45:17.983992Z",
     "iopub.execute_input": "2023-04-30T07:45:17.984491Z",
     "iopub.status.idle": "2023-04-30T07:45:18.100185Z",
     "shell.execute_reply.started": "2023-04-30T07:45:17.984448Z",
     "shell.execute_reply": "2023-04-30T07:45:18.098862Z"
    },
    "trusted": true
   },
   "execution_count": 32,
   "outputs": [
    {
     "execution_count": 32,
     "output_type": "execute_result",
     "data": {
      "text/plain": "                junction_aa    v_call  consensus_count    j_call  \\\n0  KNEGFNCYIPLVTYGFHTTTGVSY  IGHV_RBD                1  IGHJ_RBD   \n1  KNKGFNCYSPITEYGFFPTNGKNF  IGHV_RBD                2  IGHJ_RBD   \n2  SKQGFNCYCPLIGYGFQRTFGVGW  IGHV_RBD                1  IGHJ_RBD   \n3  KNRQFNCYWPLVRYGFWTTSGVGW  IGHV_RBD                1  IGHJ_RBD   \n4  KNPGFNCYLPLGHYGFQPTNGRDF  IGHV_RBD                3  IGHJ_RBD   \n\n   clonal_frequency  Label  Distance Antibody  \\\n0          0.000028      0         7     LY16   \n1          0.000093      1         9     LY16   \n2          0.000028      0         9     LY16   \n3          0.000028      0         9     LY16   \n4          0.000140      1         7     LY16   \n\n                                                repr  \n0  [[1.0, 0.0, 0.0, 0.0, 0.0, 0.0, 0.0, 0.0, 0.0,...  \n1  [[1.0, 0.0, 0.0, 0.0, 0.0, 0.0, 0.0, 0.0, 0.0,...  \n2  [[1.0, 0.0, 0.0, 0.0, 0.0, 0.0, 0.0, 0.0, 0.0,...  \n3  [[1.0, 0.0, 0.0, 0.0, 0.0, 0.0, 0.0, 0.0, 0.0,...  \n4  [[1.0, 0.0, 0.0, 0.0, 0.0, 0.0, 0.0, 0.0, 0.0,...  ",
      "text/html": "<div>\n<style scoped>\n    .dataframe tbody tr th:only-of-type {\n        vertical-align: middle;\n    }\n\n    .dataframe tbody tr th {\n        vertical-align: top;\n    }\n\n    .dataframe thead th {\n        text-align: right;\n    }\n</style>\n<table border=\"1\" class=\"dataframe\">\n  <thead>\n    <tr style=\"text-align: right;\">\n      <th></th>\n      <th>junction_aa</th>\n      <th>v_call</th>\n      <th>consensus_count</th>\n      <th>j_call</th>\n      <th>clonal_frequency</th>\n      <th>Label</th>\n      <th>Distance</th>\n      <th>Antibody</th>\n      <th>repr</th>\n    </tr>\n  </thead>\n  <tbody>\n    <tr>\n      <th>0</th>\n      <td>KNEGFNCYIPLVTYGFHTTTGVSY</td>\n      <td>IGHV_RBD</td>\n      <td>1</td>\n      <td>IGHJ_RBD</td>\n      <td>0.000028</td>\n      <td>0</td>\n      <td>7</td>\n      <td>LY16</td>\n      <td>[[1.0, 0.0, 0.0, 0.0, 0.0, 0.0, 0.0, 0.0, 0.0,...</td>\n    </tr>\n    <tr>\n      <th>1</th>\n      <td>KNKGFNCYSPITEYGFFPTNGKNF</td>\n      <td>IGHV_RBD</td>\n      <td>2</td>\n      <td>IGHJ_RBD</td>\n      <td>0.000093</td>\n      <td>1</td>\n      <td>9</td>\n      <td>LY16</td>\n      <td>[[1.0, 0.0, 0.0, 0.0, 0.0, 0.0, 0.0, 0.0, 0.0,...</td>\n    </tr>\n    <tr>\n      <th>2</th>\n      <td>SKQGFNCYCPLIGYGFQRTFGVGW</td>\n      <td>IGHV_RBD</td>\n      <td>1</td>\n      <td>IGHJ_RBD</td>\n      <td>0.000028</td>\n      <td>0</td>\n      <td>9</td>\n      <td>LY16</td>\n      <td>[[1.0, 0.0, 0.0, 0.0, 0.0, 0.0, 0.0, 0.0, 0.0,...</td>\n    </tr>\n    <tr>\n      <th>3</th>\n      <td>KNRQFNCYWPLVRYGFWTTSGVGW</td>\n      <td>IGHV_RBD</td>\n      <td>1</td>\n      <td>IGHJ_RBD</td>\n      <td>0.000028</td>\n      <td>0</td>\n      <td>9</td>\n      <td>LY16</td>\n      <td>[[1.0, 0.0, 0.0, 0.0, 0.0, 0.0, 0.0, 0.0, 0.0,...</td>\n    </tr>\n    <tr>\n      <th>4</th>\n      <td>KNPGFNCYLPLGHYGFQPTNGRDF</td>\n      <td>IGHV_RBD</td>\n      <td>3</td>\n      <td>IGHJ_RBD</td>\n      <td>0.000140</td>\n      <td>1</td>\n      <td>7</td>\n      <td>LY16</td>\n      <td>[[1.0, 0.0, 0.0, 0.0, 0.0, 0.0, 0.0, 0.0, 0.0,...</td>\n    </tr>\n  </tbody>\n</table>\n</div>"
     },
     "metadata": {}
    }
   ]
  },
  {
   "cell_type": "code",
   "source": [],
   "metadata": {
    "execution": {
     "iopub.status.busy": "2023-04-30T07:46:27.636616Z",
     "iopub.execute_input": "2023-04-30T07:46:27.636996Z",
     "iopub.status.idle": "2023-04-30T07:46:27.642057Z",
     "shell.execute_reply.started": "2023-04-30T07:46:27.636964Z",
     "shell.execute_reply": "2023-04-30T07:46:27.641015Z"
    },
    "trusted": true
   },
   "execution_count": 33,
   "outputs": []
  },
  {
   "cell_type": "code",
   "source": [
    "def get_data(train, test, samples = 200, target_ab = 'REGN33'):\n",
    "    target_df = train.loc[train['Antibody'] == target_ab]\n",
    "    rest_df = train.loc[train['Antibody'] != target_ab]\n",
    "    target_test = test.loc[test['Antibody'] == target_ab]\n",
    "    sample_target = target_df.sample(n=samples, random_state=SEED)\n",
    "    train_target = sample_target.iloc[:100, :]\n",
    "    valid_target = sample_target.iloc[100:, :]\n",
    "    return train_target, valid_target, target_test, rest_df"
   ],
   "metadata": {
    "execution": {
     "iopub.status.busy": "2023-04-30T07:47:23.602073Z",
     "iopub.execute_input": "2023-04-30T07:47:23.602764Z",
     "iopub.status.idle": "2023-04-30T07:47:23.609423Z",
     "shell.execute_reply.started": "2023-04-30T07:47:23.602726Z",
     "shell.execute_reply": "2023-04-30T07:47:23.608111Z"
    },
    "trusted": true
   },
   "execution_count": 35,
   "outputs": []
  },
  {
   "cell_type": "code",
   "source": [
    "train_target, valid_target, target_test, rest_df = get_data(train, test)"
   ],
   "metadata": {
    "execution": {
     "iopub.status.busy": "2023-04-30T07:48:05.473696Z",
     "iopub.execute_input": "2023-04-30T07:48:05.474444Z",
     "iopub.status.idle": "2023-04-30T07:48:05.529231Z",
     "shell.execute_reply.started": "2023-04-30T07:48:05.474406Z",
     "shell.execute_reply": "2023-04-30T07:48:05.528081Z"
    },
    "trusted": true
   },
   "execution_count": 37,
   "outputs": []
  },
  {
   "cell_type": "code",
   "source": [],
   "metadata": {
    "execution": {
     "iopub.status.busy": "2023-04-30T07:40:24.410678Z",
     "iopub.execute_input": "2023-04-30T07:40:24.411053Z",
     "iopub.status.idle": "2023-04-30T07:40:24.416197Z",
     "shell.execute_reply.started": "2023-04-30T07:40:24.411022Z",
     "shell.execute_reply": "2023-04-30T07:40:24.415102Z"
    },
    "trusted": true,
    "ExecuteTime": {
     "end_time": "2023-05-01T16:15:38.002527220Z",
     "start_time": "2023-05-01T16:15:37.961647164Z"
    }
   },
   "execution_count": 6,
   "outputs": []
  },
  {
   "cell_type": "code",
   "source": [
    "class Data(Dataset):\n",
    "    def __init__(self, df):\n",
    "        self.df = df\n",
    "    \n",
    "    def __len__(self):\n",
    "        return len(self.df)\n",
    "    \n",
    "    def __getitem__(self, idx):\n",
    "        feature = self.df.repr.iloc[idx]\n",
    "        label = self.df.Label.iloc[idx]\n",
    "        return feature, label"
   ],
   "metadata": {
    "execution": {
     "iopub.status.busy": "2023-04-30T07:48:28.077968Z",
     "iopub.execute_input": "2023-04-30T07:48:28.078715Z",
     "iopub.status.idle": "2023-04-30T07:48:28.085810Z",
     "shell.execute_reply.started": "2023-04-30T07:48:28.078674Z",
     "shell.execute_reply": "2023-04-30T07:48:28.084170Z"
    },
    "trusted": true
   },
   "execution_count": 38,
   "outputs": []
  },
  {
   "cell_type": "code",
   "source": [
    "def prepare_dataloader(df, batch_size=5, shuffle=True):\n",
    "    dataset = Data(df)\n",
    "    dataloader = DataLoader(dataset, batch_size=batch_size, shuffle=shuffle, num_workers=2)\n",
    "    return dataloader"
   ],
   "metadata": {
    "execution": {
     "iopub.status.busy": "2023-04-30T07:49:41.603052Z",
     "iopub.execute_input": "2023-04-30T07:49:41.603755Z",
     "iopub.status.idle": "2023-04-30T07:49:41.609159Z",
     "shell.execute_reply.started": "2023-04-30T07:49:41.603715Z",
     "shell.execute_reply": "2023-04-30T07:49:41.608008Z"
    },
    "trusted": true
   },
   "execution_count": 41,
   "outputs": []
  },
  {
   "cell_type": "code",
   "source": [],
   "metadata": {
    "execution": {
     "iopub.status.busy": "2023-04-30T07:49:42.473948Z",
     "iopub.execute_input": "2023-04-30T07:49:42.474631Z",
     "iopub.status.idle": "2023-04-30T07:49:42.483044Z",
     "shell.execute_reply.started": "2023-04-30T07:49:42.474593Z",
     "shell.execute_reply": "2023-04-30T07:49:42.481850Z"
    },
    "trusted": true
   },
   "execution_count": 42,
   "outputs": []
  },
  {
   "cell_type": "code",
   "source": [
    "train_loader_rest = prepare_dataloader(rest_df, shuffle=True, batch_size=10)\n",
    "validloader = prepare_dataloader(valid_target, shuffle=False, batch_size=2)\n",
    "train_loader_target = prepare_dataloader(train_target, shuffle=True, batch_size=2)\n",
    "testloader = prepare_dataloader(target_test, shuffle=False, batch_size=10)"
   ],
   "metadata": {
    "execution": {
     "iopub.status.busy": "2023-04-30T08:18:51.191034Z",
     "iopub.execute_input": "2023-04-30T08:18:51.192364Z",
     "iopub.status.idle": "2023-04-30T08:18:51.200444Z",
     "shell.execute_reply.started": "2023-04-30T08:18:51.192314Z",
     "shell.execute_reply": "2023-04-30T08:18:51.199155Z"
    },
    "trusted": true
   },
   "execution_count": 68,
   "outputs": []
  },
  {
   "cell_type": "code",
   "source": [
    "class CNNModel(nn.Module):\n",
    "    def __init__(self, embed_size, hidden_size, num_classes=1):\n",
    "        super().__init__()\n",
    "        self.cnn = nn.Sequential(\n",
    "            nn.Conv1d(embed_size, hidden_size, kernel_size=3,\n",
    "                      padding=1, stride=2),\n",
    "            nn.BatchNorm1d(hidden_size),\n",
    "            nn.ReLU(),\n",
    "            nn.Conv1d(hidden_size, hidden_size, kernel_size=3, padding=1, stride=2),\n",
    "            nn.BatchNorm1d(hidden_size),\n",
    "            nn.ReLU(),\n",
    "            nn.Conv1d(hidden_size, hidden_size, kernel_size=3, padding=1, stride=2),\n",
    "            nn.BatchNorm1d(hidden_size),\n",
    "            nn.ReLU(),\n",
    "            nn.AdaptiveMaxPool1d(1),\n",
    "            nn.Flatten(), nn.ReLU()\n",
    "        )\n",
    "        self.cl = nn.Sequential(nn.Linear(hidden_size, num_classes))\n",
    "\n",
    "    def forward(self, x):\n",
    "        x = x.permute(0, 2, 1)\n",
    "        x = self.cnn(x)\n",
    "        prediction = self.cl(x)\n",
    "        return prediction"
   ],
   "metadata": {
    "execution": {
     "iopub.status.busy": "2023-04-30T07:55:52.837674Z",
     "iopub.execute_input": "2023-04-30T07:55:52.838578Z",
     "iopub.status.idle": "2023-04-30T07:55:52.847287Z",
     "shell.execute_reply.started": "2023-04-30T07:55:52.838535Z",
     "shell.execute_reply": "2023-04-30T07:55:52.846046Z"
    },
    "trusted": true
   },
   "execution_count": 49,
   "outputs": []
  },
  {
   "cell_type": "code",
   "source": [
    "model = CNNModel(41, 100).to(device)"
   ],
   "metadata": {
    "execution": {
     "iopub.status.busy": "2023-04-30T08:01:21.142841Z",
     "iopub.execute_input": "2023-04-30T08:01:21.143460Z",
     "iopub.status.idle": "2023-04-30T08:01:21.153512Z",
     "shell.execute_reply.started": "2023-04-30T08:01:21.143419Z",
     "shell.execute_reply": "2023-04-30T08:01:21.152392Z"
    },
    "trusted": true
   },
   "execution_count": 51,
   "outputs": []
  },
  {
   "cell_type": "code",
   "source": [
    "criterion = nn.BCEWithLogitsLoss()\n",
    "optimizer = torch.optim.Adam(model.parameters(), lr=1e-3)\n",
    "num_epochs = 30"
   ],
   "metadata": {
    "execution": {
     "iopub.status.busy": "2023-04-30T08:01:21.516113Z",
     "iopub.execute_input": "2023-04-30T08:01:21.516976Z",
     "iopub.status.idle": "2023-04-30T08:01:21.522960Z",
     "shell.execute_reply.started": "2023-04-30T08:01:21.516931Z",
     "shell.execute_reply": "2023-04-30T08:01:21.521863Z"
    },
    "trusted": true
   },
   "execution_count": 52,
   "outputs": []
  },
  {
   "cell_type": "code",
   "source": [
    "loss_train_hist, loss_valid_hist = training_cnn(model, criterion, optimizer, num_epochs, train_loader_target, validloader)"
   ],
   "metadata": {
    "execution": {
     "iopub.status.busy": "2023-04-30T08:01:54.636282Z",
     "iopub.execute_input": "2023-04-30T08:01:54.637466Z",
     "iopub.status.idle": "2023-04-30T08:02:29.962701Z",
     "shell.execute_reply.started": "2023-04-30T08:01:54.637422Z",
     "shell.execute_reply": "2023-04-30T08:02:29.961405Z"
    },
    "trusted": true
   },
   "execution_count": 54,
   "outputs": [
    {
     "name": "stderr",
     "text": "100%|██████████| 30/30 [00:35<00:00,  1.18s/it]\n",
     "output_type": "stream"
    }
   ]
  },
  {
   "cell_type": "code",
   "source": [
    "plot_loss(loss_train_hist, loss_valid_hist)"
   ],
   "metadata": {
    "execution": {
     "iopub.status.busy": "2023-04-30T08:05:06.916738Z",
     "iopub.execute_input": "2023-04-30T08:05:06.917806Z",
     "iopub.status.idle": "2023-04-30T08:05:07.187311Z",
     "shell.execute_reply.started": "2023-04-30T08:05:06.917754Z",
     "shell.execute_reply": "2023-04-30T08:05:07.186186Z"
    },
    "trusted": true
   },
   "execution_count": 60,
   "outputs": [
    {
     "output_type": "display_data",
     "data": {
      "text/plain": "<Figure size 640x480 with 1 Axes>",
      "image/png": "[encoded data removed]"
     },
     "metadata": {}
    }
   ]
  },
  {
   "cell_type": "code",
   "source": [
    "evaluate_model_cnn(testloader, model)"
   ],
   "metadata": {
    "execution": {
     "iopub.status.busy": "2023-04-30T08:05:08.649443Z",
     "iopub.execute_input": "2023-04-30T08:05:08.649840Z",
     "iopub.status.idle": "2023-04-30T08:05:13.266509Z",
     "shell.execute_reply.started": "2023-04-30T08:05:08.649806Z",
     "shell.execute_reply": "2023-04-30T08:05:13.265296Z"
    },
    "trusted": true
   },
   "execution_count": 61,
   "outputs": [
    {
     "execution_count": 61,
     "output_type": "execute_result",
     "data": {
      "text/plain": "   accuracy    recall  precision  f1_scor       auc\n0  0.767463  0.726878   0.790641  0.75742  0.853307",
      "text/html": "<div>\n<style scoped>\n    .dataframe tbody tr th:only-of-type {\n        vertical-align: middle;\n    }\n\n    .dataframe tbody tr th {\n        vertical-align: top;\n    }\n\n    .dataframe thead th {\n        text-align: right;\n    }\n</style>\n<table border=\"1\" class=\"dataframe\">\n  <thead>\n    <tr style=\"text-align: right;\">\n      <th></th>\n      <th>accuracy</th>\n      <th>recall</th>\n      <th>precision</th>\n      <th>f1_scor</th>\n      <th>auc</th>\n    </tr>\n  </thead>\n  <tbody>\n    <tr>\n      <th>0</th>\n      <td>0.767463</td>\n      <td>0.726878</td>\n      <td>0.790641</td>\n      <td>0.75742</td>\n      <td>0.853307</td>\n    </tr>\n  </tbody>\n</table>\n</div>"
     },
     "metadata": {}
    }
   ]
  },
  {
   "cell_type": "markdown",
   "source": [
    "__Training base model__"
   ],
   "metadata": {}
  },
  {
   "cell_type": "code",
   "source": [
    "model = CNNModel(41, 150).to(device)\n",
    "criterion = nn.BCEWithLogitsLoss()\n",
    "optimizer = torch.optim.Adam(model.parameters(), lr=1e-5)\n",
    "num_epochs = 30\n",
    "loss_train_hist, loss_valid_hist = training_cnn(model, criterion, optimizer, num_epochs, train_loader_rest, validloader)"
   ],
   "metadata": {
    "execution": {
     "iopub.status.busy": "2023-04-30T08:55:08.377411Z",
     "iopub.execute_input": "2023-04-30T08:55:08.378491Z",
     "iopub.status.idle": "2023-04-30T09:18:21.956472Z",
     "shell.execute_reply.started": "2023-04-30T08:55:08.378436Z",
     "shell.execute_reply": "2023-04-30T09:18:21.954666Z"
    },
    "trusted": true
   },
   "execution_count": 76,
   "outputs": [
    {
     "name": "stderr",
     "text": "100%|██████████| 30/30 [23:13<00:00, 46.45s/it]\n",
     "output_type": "stream"
    }
   ]
  },
  {
   "cell_type": "code",
   "source": [
    "plot_loss(loss_train_hist, loss_valid_hist)"
   ],
   "metadata": {
    "execution": {
     "iopub.status.busy": "2023-04-30T09:19:38.936497Z",
     "iopub.execute_input": "2023-04-30T09:19:38.937624Z",
     "iopub.status.idle": "2023-04-30T09:19:39.196693Z",
     "shell.execute_reply.started": "2023-04-30T09:19:38.937582Z",
     "shell.execute_reply": "2023-04-30T09:19:39.195595Z"
    },
    "trusted": true
   },
   "execution_count": 77,
   "outputs": [
    {
     "output_type": "display_data",
     "data": {
      "text/plain": "<Figure size 640x480 with 1 Axes>",
      "image/png": "[encoded data removed]"
     },
     "metadata": {}
    }
   ]
  },
  {
   "cell_type": "code",
   "source": [
    "evaluate_model_cnn(testloader, model)"
   ],
   "metadata": {
    "execution": {
     "iopub.status.busy": "2023-04-30T09:20:10.416603Z",
     "iopub.execute_input": "2023-04-30T09:20:10.417005Z",
     "iopub.status.idle": "2023-04-30T09:20:14.901444Z",
     "shell.execute_reply.started": "2023-04-30T09:20:10.416973Z",
     "shell.execute_reply": "2023-04-30T09:20:14.900230Z"
    },
    "trusted": true
   },
   "execution_count": 78,
   "outputs": [
    {
     "execution_count": 78,
     "output_type": "execute_result",
     "data": {
      "text/plain": "   accuracy    recall  precision  f1_scor       auc\n0  0.639665  0.398441   0.768652  0.52483  0.765456",
      "text/html": "<div>\n<style scoped>\n    .dataframe tbody tr th:only-of-type {\n        vertical-align: middle;\n    }\n\n    .dataframe tbody tr th {\n        vertical-align: top;\n    }\n\n    .dataframe thead th {\n        text-align: right;\n    }\n</style>\n<table border=\"1\" class=\"dataframe\">\n  <thead>\n    <tr style=\"text-align: right;\">\n      <th></th>\n      <th>accuracy</th>\n      <th>recall</th>\n      <th>precision</th>\n      <th>f1_scor</th>\n      <th>auc</th>\n    </tr>\n  </thead>\n  <tbody>\n    <tr>\n      <th>0</th>\n      <td>0.639665</td>\n      <td>0.398441</td>\n      <td>0.768652</td>\n      <td>0.52483</td>\n      <td>0.765456</td>\n    </tr>\n  </tbody>\n</table>\n</div>"
     },
     "metadata": {}
    }
   ]
  },
  {
   "cell_type": "code",
   "source": [
    "def copy_model(model, *args):\n",
    "    model_copy = type(model)(*args)\n",
    "    model_copy.load_state_dict(model.state_dict())\n",
    "    return model_copy.to(device)"
   ],
   "metadata": {
    "execution": {
     "iopub.status.busy": "2023-04-30T09:59:28.657741Z",
     "iopub.execute_input": "2023-04-30T09:59:28.658784Z",
     "iopub.status.idle": "2023-04-30T09:59:28.664222Z",
     "shell.execute_reply.started": "2023-04-30T09:59:28.658741Z",
     "shell.execute_reply": "2023-04-30T09:59:28.663152Z"
    },
    "trusted": true
   },
   "execution_count": 120,
   "outputs": []
  },
  {
   "cell_type": "code",
   "source": [
    "model_copy = copy_model(model, 41, 150)"
   ],
   "metadata": {
    "execution": {
     "iopub.status.busy": "2023-04-30T10:02:48.189313Z",
     "iopub.execute_input": "2023-04-30T10:02:48.190347Z",
     "iopub.status.idle": "2023-04-30T10:02:48.203915Z",
     "shell.execute_reply.started": "2023-04-30T10:02:48.190276Z",
     "shell.execute_reply": "2023-04-30T10:02:48.202702Z"
    },
    "trusted": true
   },
   "execution_count": 125,
   "outputs": []
  },
  {
   "cell_type": "code",
   "source": [
    "def freeze_weights(model, name_layers=['None']):\n",
    "    for name, param in model.named_parameters():\n",
    "        if not any([layer in name for layer in name_layers]):\n",
    "            param.requires_grad = False\n",
    "    return model"
   ],
   "metadata": {
    "execution": {
     "iopub.status.busy": "2023-04-30T10:11:10.341325Z",
     "iopub.execute_input": "2023-04-30T10:11:10.342064Z",
     "iopub.status.idle": "2023-04-30T10:11:10.350066Z",
     "shell.execute_reply.started": "2023-04-30T10:11:10.342026Z",
     "shell.execute_reply": "2023-04-30T10:11:10.348897Z"
    },
    "trusted": true
   },
   "execution_count": 134,
   "outputs": []
  },
  {
   "cell_type": "code",
   "source": [
    "model_copy = freeze_weights(model_copy)   # freeze all weights"
   ],
   "metadata": {
    "execution": {
     "iopub.status.busy": "2023-04-30T10:11:43.088321Z",
     "iopub.execute_input": "2023-04-30T10:11:43.089096Z",
     "iopub.status.idle": "2023-04-30T10:11:43.094344Z",
     "shell.execute_reply.started": "2023-04-30T10:11:43.089057Z",
     "shell.execute_reply": "2023-04-30T10:11:43.093033Z"
    },
    "trusted": true
   },
   "execution_count": 135,
   "outputs": []
  },
  {
   "cell_type": "code",
   "source": [
    "def add_layers(model):\n",
    "    new_layers = nn.Sequential(\n",
    "    nn.Linear(150, 75),\n",
    "    nn.ReLU(inplace=True),\n",
    "    nn.Dropout(p=0.5),\n",
    "    nn.Linear(75, 1))\n",
    "    model.cl = new_layers\n",
    "    return model.to(device)\n",
    "    \n",
    "    "
   ],
   "metadata": {},
   "execution_count": null,
   "outputs": []
  },
  {
   "cell_type": "code",
   "source": [
    "model_copy = add_layers(model_copy)"
   ],
   "metadata": {
    "execution": {
     "iopub.status.busy": "2023-04-30T10:12:39.242049Z",
     "iopub.execute_input": "2023-04-30T10:12:39.242871Z",
     "iopub.status.idle": "2023-04-30T10:12:39.250406Z",
     "shell.execute_reply.started": "2023-04-30T10:12:39.242828Z",
     "shell.execute_reply": "2023-04-30T10:12:39.249108Z"
    },
    "trusted": true
   },
   "execution_count": 138,
   "outputs": []
  },
  {
   "cell_type": "code",
   "source": [
    "criterion = nn.BCEWithLogitsLoss()\n",
    "optimizer = torch.optim.Adam(model_copy.parameters(), lr=1e-3)\n",
    "num_epochs = 40\n",
    "loss_train_hist, loss_valid_hist = training_cnn(model_copy, criterion, optimizer, num_epochs, train_loader_target, validloader)"
   ],
   "metadata": {
    "execution": {
     "iopub.status.busy": "2023-04-30T10:14:23.625736Z",
     "iopub.execute_input": "2023-04-30T10:14:23.626790Z",
     "iopub.status.idle": "2023-04-30T10:14:58.205953Z",
     "shell.execute_reply.started": "2023-04-30T10:14:23.626751Z",
     "shell.execute_reply": "2023-04-30T10:14:58.204673Z"
    },
    "trusted": true
   },
   "execution_count": 144,
   "outputs": [
    {
     "name": "stderr",
     "text": "100%|██████████| 40/40 [00:34<00:00,  1.16it/s]\n",
     "output_type": "stream"
    }
   ]
  },
  {
   "cell_type": "code",
   "source": [
    "plot_loss(loss_train_hist, loss_valid_hist)"
   ],
   "metadata": {
    "execution": {
     "iopub.status.busy": "2023-04-30T10:15:00.487349Z",
     "iopub.execute_input": "2023-04-30T10:15:00.488379Z",
     "iopub.status.idle": "2023-04-30T10:15:00.761894Z",
     "shell.execute_reply.started": "2023-04-30T10:15:00.488336Z",
     "shell.execute_reply": "2023-04-30T10:15:00.760891Z"
    },
    "trusted": true
   },
   "execution_count": 145,
   "outputs": [
    {
     "output_type": "display_data",
     "data": {
      "text/plain": "<Figure size 640x480 with 1 Axes>",
      "image/png": "[encoded data removed]"
     },
     "metadata": {}
    }
   ]
  },
  {
   "cell_type": "code",
   "source": [
    "evaluate_model_cnn(testloader, model_copy)"
   ],
   "metadata": {
    "execution": {
     "iopub.status.busy": "2023-04-30T10:15:07.132149Z",
     "iopub.execute_input": "2023-04-30T10:15:07.132874Z",
     "iopub.status.idle": "2023-04-30T10:15:11.986487Z",
     "shell.execute_reply.started": "2023-04-30T10:15:07.132835Z",
     "shell.execute_reply": "2023-04-30T10:15:11.985286Z"
    },
    "trusted": true
   },
   "execution_count": 146,
   "outputs": [
    {
     "execution_count": 146,
     "output_type": "execute_result",
     "data": {
      "text/plain": "   accuracy    recall  precision   f1_scor       auc\n0  0.724115  0.500824    0.90395  0.644545  0.861503",
      "text/html": "<div>\n<style scoped>\n    .dataframe tbody tr th:only-of-type {\n        vertical-align: middle;\n    }\n\n    .dataframe tbody tr th {\n        vertical-align: top;\n    }\n\n    .dataframe thead th {\n        text-align: right;\n    }\n</style>\n<table border=\"1\" class=\"dataframe\">\n  <thead>\n    <tr style=\"text-align: right;\">\n      <th></th>\n      <th>accuracy</th>\n      <th>recall</th>\n      <th>precision</th>\n      <th>f1_scor</th>\n      <th>auc</th>\n    </tr>\n  </thead>\n  <tbody>\n    <tr>\n      <th>0</th>\n      <td>0.724115</td>\n      <td>0.500824</td>\n      <td>0.90395</td>\n      <td>0.644545</td>\n      <td>0.861503</td>\n    </tr>\n  </tbody>\n</table>\n</div>"
     },
     "metadata": {}
    }
   ]
  },
  {
   "cell_type": "code",
   "source": [],
   "metadata": {},
   "execution_count": null,
   "outputs": []
  }
 ]
}
